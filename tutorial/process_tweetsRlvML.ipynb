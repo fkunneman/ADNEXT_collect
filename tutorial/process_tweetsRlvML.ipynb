{
 "cells": [
  {
   "cell_type": "code",
   "execution_count": 4,
   "metadata": {
    "collapsed": false
   },
   "outputs": [
    {
     "name": "stdout",
     "output_type": "stream",
     "text": [
      "Populating the interactive namespace from numpy and matplotlib\n"
     ]
    }
   ],
   "source": [
    "%pylab inline\n",
    "import matplotlib.pylab"
   ]
  },
  {
   "cell_type": "code",
   "execution_count": 5,
   "metadata": {
    "collapsed": false
   },
   "outputs": [],
   "source": [
    "from collections import Counter\n",
    "import json\n",
    "import pickle\n",
    "import re\n",
    "import gzip\n",
    "import importlib\n",
    "import datetime as dt\n",
    "import numpy as np\n",
    "import pandas as pd\n",
    "import sklearn\n",
    "\n",
    "from sklearn.feature_extraction.text import CountVectorizer\n",
    "from sklearn.metrics.pairwise import cosine_similarity\n",
    "from sklearn.metrics import classification_report\n",
    "\n",
    "pd.options.display.max_colwidth = 200"
   ]
  },
  {
   "cell_type": "code",
   "execution_count": 201,
   "metadata": {
    "collapsed": false
   },
   "outputs": [
    {
     "data": {
      "text/plain": [
       "('0.19.1', '0.18.1')"
      ]
     },
     "execution_count": 201,
     "metadata": {},
     "output_type": "execute_result"
    }
   ],
   "source": [
    "pd.__version__, sklearn.__version__"
   ]
  },
  {
   "cell_type": "code",
   "execution_count": 6,
   "metadata": {
    "collapsed": false
   },
   "outputs": [
    {
     "ename": "ImportError",
     "evalue": "No module named 'relevancer'",
     "output_type": "error",
     "traceback": [
      "\u001b[0;31m---------------------------------------------------------------------------\u001b[0m",
      "\u001b[0;31mImportError\u001b[0m                               Traceback (most recent call last)",
      "\u001b[0;32m<ipython-input-6-088f2abb97f2>\u001b[0m in \u001b[0;36m<module>\u001b[0;34m()\u001b[0m\n\u001b[0;32m----> 1\u001b[0;31m \u001b[0;32mimport\u001b[0m \u001b[0mrelevancer\u001b[0m \u001b[0;32mas\u001b[0m \u001b[0mrlv\u001b[0m\u001b[0;34m\u001b[0m\u001b[0m\n\u001b[0m\u001b[1;32m      2\u001b[0m \u001b[0mrr\u001b[0m \u001b[0;34m=\u001b[0m \u001b[0mrlv\u001b[0m\u001b[0;34m.\u001b[0m\u001b[0mRelevancer\u001b[0m\u001b[0;34m(\u001b[0m\u001b[0mlang\u001b[0m\u001b[0;34m=\u001b[0m\u001b[0;34m\"nl\"\u001b[0m\u001b[0;34m)\u001b[0m\u001b[0;34m\u001b[0m\u001b[0m\n",
      "\u001b[0;31mImportError\u001b[0m: No module named 'relevancer'"
     ]
    }
   ],
   "source": [
    "import relevancer as rlv\n",
    "rr = rlv.Relevancer(lang=\"nl\")"
   ]
  },
  {
   "cell_type": "markdown",
   "metadata": {},
   "source": [
    "# Read & Explore the JSON tweets"
   ]
  },
  {
   "cell_type": "code",
   "execution_count": null,
   "metadata": {
    "collapsed": true
   },
   "outputs": [],
   "source": [
    "tweets = rr.read_json_tweets_file(\"tweets_griep.json\")"
   ]
  },
  {
   "cell_type": "code",
   "execution_count": 23,
   "metadata": {
    "collapsed": false
   },
   "outputs": [
    {
     "data": {
      "text/plain": [
       "{'coordinates': None,\n",
       " 'created_at': datetime.datetime(2012, 12, 6, 22, 59, 53),\n",
       " 'device': 'Twitter for iPhone',\n",
       " 'entity_hashtags': ['griep'],\n",
       " 'entity_mentions': [],\n",
       " 'entity_urls': [],\n",
       " 'id_str': '276823303736410112',\n",
       " 'in_reply_to_user_id': None,\n",
       " 'is_retweet': False,\n",
       " 'screen_name': 'manon__klein',\n",
       " 'text': 'Is de koorts eindelijk weg, komen de hoestbuien.... #griep',\n",
       " 'user_followers': 82,\n",
       " 'user_following': 201,\n",
       " 'user_id': '237384795',\n",
       " 'user_loc': '',\n",
       " 'user_tzone': 'Amsterdam'}"
      ]
     },
     "execution_count": 23,
     "metadata": {},
     "output_type": "execute_result"
    }
   ],
   "source": [
    "tweets[0]"
   ]
  },
  {
   "cell_type": "code",
   "execution_count": 22,
   "metadata": {
    "collapsed": false
   },
   "outputs": [
    {
     "name": "stdout",
     "output_type": "stream",
     "text": [
      "Number of documents per languge: Counter({'NoLang': 188474, 'nl': 41020, 'de': 35, 'en': 33, 'da': 28, 'pl': 19, 'id': 18, 'no': 9, 'sv': 7, 'vi': 6, 'lv': 6, 'tl': 5, 'tr': 4, 'ht': 3, 'lt': 2, 'pt': 2, 'hu': 2, 'es': 2, 'fi': 1, 'is': 1, 'fr': 1, 'et': 1})\n",
      "41020\n",
      "<class 'pandas.core.frame.DataFrame'>\n",
      "DatetimeIndex: 41020 entries, 2012-12-06 22:59:53 to 2013-06-30 21:41:57\n",
      "Data columns (total 18 columns):\n",
      "coordinates            1035 non-null object\n",
      "country                1223 non-null object\n",
      "device                 41020 non-null object\n",
      "entity_hashtags        41020 non-null object\n",
      "entity_mentions        41020 non-null object\n",
      "entity_type            467 non-null object\n",
      "entity_urls            41020 non-null object\n",
      "id_str                 41020 non-null object\n",
      "in_reply_to_user_id    11108 non-null float64\n",
      "is_retweet             41020 non-null bool\n",
      "screen_name            41020 non-null object\n",
      "text                   41020 non-null object\n",
      "user_followers         41020 non-null int64\n",
      "user_following         41020 non-null int64\n",
      "user_id                41020 non-null object\n",
      "user_loc               41020 non-null object\n",
      "user_tzone             31164 non-null object\n",
      "tweet_count            41020 non-null int64\n",
      "dtypes: bool(1), float64(1), int64(3), object(13)\n",
      "memory usage: 5.7+ MB\n"
     ]
    }
   ],
   "source": [
    "tweets_df = rr.create_dataframe(tweets)\n",
    "tweets_df[\"tweet_count\"] = 1\n",
    "tweets_df.info()"
   ]
  },
  {
   "cell_type": "code",
   "execution_count": 49,
   "metadata": {
    "collapsed": false
   },
   "outputs": [
    {
     "data": {
      "text/html": [
       "<div>\n",
       "<table border=\"1\" class=\"dataframe\">\n",
       "  <thead>\n",
       "    <tr style=\"text-align: right;\">\n",
       "      <th></th>\n",
       "      <th>coordinates</th>\n",
       "      <th>country</th>\n",
       "      <th>device</th>\n",
       "      <th>entity_hashtags</th>\n",
       "      <th>entity_mentions</th>\n",
       "      <th>entity_type</th>\n",
       "      <th>entity_urls</th>\n",
       "      <th>id_str</th>\n",
       "      <th>in_reply_to_user_id</th>\n",
       "      <th>is_retweet</th>\n",
       "      <th>screen_name</th>\n",
       "      <th>text</th>\n",
       "      <th>user_followers</th>\n",
       "      <th>user_following</th>\n",
       "      <th>user_id</th>\n",
       "      <th>user_loc</th>\n",
       "      <th>user_tzone</th>\n",
       "      <th>tweet_count</th>\n",
       "    </tr>\n",
       "    <tr>\n",
       "      <th>created_at</th>\n",
       "      <th></th>\n",
       "      <th></th>\n",
       "      <th></th>\n",
       "      <th></th>\n",
       "      <th></th>\n",
       "      <th></th>\n",
       "      <th></th>\n",
       "      <th></th>\n",
       "      <th></th>\n",
       "      <th></th>\n",
       "      <th></th>\n",
       "      <th></th>\n",
       "      <th></th>\n",
       "      <th></th>\n",
       "      <th></th>\n",
       "      <th></th>\n",
       "      <th></th>\n",
       "      <th></th>\n",
       "    </tr>\n",
       "  </thead>\n",
       "  <tbody>\n",
       "    <tr>\n",
       "      <th>2013-01-01 00:04:41</th>\n",
       "      <td>None</td>\n",
       "      <td>NaN</td>\n",
       "      <td>Twitter for BlackBerry®</td>\n",
       "      <td>[]</td>\n",
       "      <td>[]</td>\n",
       "      <td>NaN</td>\n",
       "      <td>[]</td>\n",
       "      <td>285899310338547712</td>\n",
       "      <td>NaN</td>\n",
       "      <td>False</td>\n",
       "      <td>LipglossaRoosje</td>\n",
       "      <td>Jammer genoeg muh griep :'( :'( liet t niet toe overstr te zijn zo n owru yari :(</td>\n",
       "      <td>134</td>\n",
       "      <td>145</td>\n",
       "      <td>408489847</td>\n",
       "      <td></td>\n",
       "      <td>Santiago</td>\n",
       "      <td>1</td>\n",
       "    </tr>\n",
       "    <tr>\n",
       "      <th>2013-01-01 00:11:54</th>\n",
       "      <td>None</td>\n",
       "      <td>NaN</td>\n",
       "      <td>Twitter for Android</td>\n",
       "      <td>[]</td>\n",
       "      <td>[]</td>\n",
       "      <td>NaN</td>\n",
       "      <td>[]</td>\n",
       "      <td>285901122747637760</td>\n",
       "      <td>NaN</td>\n",
       "      <td>False</td>\n",
       "      <td>rswierts</td>\n",
       "      <td>Zo en dan nu een week lang handen schudden. Extra aantrekkelijk omdat half NL griep heeft.</td>\n",
       "      <td>44</td>\n",
       "      <td>54</td>\n",
       "      <td>176923354</td>\n",
       "      <td>meestal ergens in de benelux.</td>\n",
       "      <td>Amsterdam</td>\n",
       "      <td>1</td>\n",
       "    </tr>\n",
       "  </tbody>\n",
       "</table>\n",
       "</div>"
      ],
      "text/plain": [
       "                    coordinates country                   device  \\\n",
       "created_at                                                         \n",
       "2013-01-01 00:04:41        None     NaN  Twitter for BlackBerry®   \n",
       "2013-01-01 00:11:54        None     NaN      Twitter for Android   \n",
       "\n",
       "                    entity_hashtags entity_mentions entity_type entity_urls  \\\n",
       "created_at                                                                    \n",
       "2013-01-01 00:04:41              []              []         NaN          []   \n",
       "2013-01-01 00:11:54              []              []         NaN          []   \n",
       "\n",
       "                                 id_str  in_reply_to_user_id is_retweet  \\\n",
       "created_at                                                                \n",
       "2013-01-01 00:04:41  285899310338547712                  NaN      False   \n",
       "2013-01-01 00:11:54  285901122747637760                  NaN      False   \n",
       "\n",
       "                         screen_name  \\\n",
       "created_at                             \n",
       "2013-01-01 00:04:41  LipglossaRoosje   \n",
       "2013-01-01 00:11:54         rswierts   \n",
       "\n",
       "                                                                                                           text  \\\n",
       "created_at                                                                                                        \n",
       "2013-01-01 00:04:41           Jammer genoeg muh griep :'( :'( liet t niet toe overstr te zijn zo n owru yari :(   \n",
       "2013-01-01 00:11:54  Zo en dan nu een week lang handen schudden. Extra aantrekkelijk omdat half NL griep heeft.   \n",
       "\n",
       "                     user_followers  user_following    user_id  \\\n",
       "created_at                                                       \n",
       "2013-01-01 00:04:41             134             145  408489847   \n",
       "2013-01-01 00:11:54              44              54  176923354   \n",
       "\n",
       "                                          user_loc user_tzone  tweet_count  \n",
       "created_at                                                                  \n",
       "2013-01-01 00:04:41                                  Santiago            1  \n",
       "2013-01-01 00:11:54  meestal ergens in de benelux.  Amsterdam            1  "
      ]
     },
     "execution_count": 49,
     "metadata": {},
     "output_type": "execute_result"
    }
   ],
   "source": [
    "tweets_df.head(2)"
   ]
  },
  {
   "cell_type": "code",
   "execution_count": 50,
   "metadata": {
    "collapsed": false
   },
   "outputs": [
    {
     "data": {
      "text/plain": [
       "Nederland          423\n",
       "The Netherlands    244\n",
       "België              36\n",
       "Belgium             22\n",
       "Niederlande          4\n",
       "France               2\n",
       "Spanje               1\n",
       "Noorwegen            1\n",
       "United States        1\n",
       "Germany              1\n",
       "Name: country, dtype: int64"
      ]
     },
     "execution_count": 50,
     "metadata": {},
     "output_type": "execute_result"
    }
   ],
   "source": [
    "tweets_df.country.value_counts()"
   ]
  },
  {
   "cell_type": "code",
   "execution_count": 52,
   "metadata": {
    "collapsed": false
   },
   "outputs": [
    {
     "data": {
      "text/plain": [
       "Amsterdam    11732\n",
       "Greenland     3069\n",
       "Athens        1808\n",
       "Brussels       685\n",
       "Hawaii         581\n",
       "Name: user_tzone, dtype: int64"
      ]
     },
     "execution_count": 52,
     "metadata": {},
     "output_type": "execute_result"
    }
   ],
   "source": [
    "tweets_df.user_tzone.value_counts()[:5]"
   ]
  },
  {
   "cell_type": "code",
   "execution_count": 26,
   "metadata": {
    "collapsed": false
   },
   "outputs": [
    {
     "data": {
      "text/plain": [
       "<matplotlib.axes._subplots.AxesSubplot at 0x139049b70>"
      ]
     },
     "execution_count": 26,
     "metadata": {},
     "output_type": "execute_result"
    },
    {
     "data": {
      "image/png": "[encoded data removed]",
      "text/plain": [
       "<matplotlib.figure.Figure at 0x139049198>"
      ]
     },
     "metadata": {},
     "output_type": "display_data"
    }
   ],
   "source": [
    "tweets_df.tweet_count.resample('1H').sum().fillna(0).plot()"
   ]
  },
  {
   "cell_type": "code",
   "execution_count": 41,
   "metadata": {
    "collapsed": false
   },
   "outputs": [
    {
     "data": {
      "text/plain": [
       "<matplotlib.axes._subplots.AxesSubplot at 0x143aa8978>"
      ]
     },
     "execution_count": 41,
     "metadata": {},
     "output_type": "execute_result"
    },
    {
     "data": {
      "image/png": "[encoded data removed]",
      "text/plain": [
       "<matplotlib.figure.Figure at 0x1433a0278>"
      ]
     },
     "metadata": {},
     "output_type": "display_data"
    }
   ],
   "source": [
    "tweets_df.tweet_count.resample('1H').sum().fillna(0).plot()"
   ]
  },
  {
   "cell_type": "code",
   "execution_count": 42,
   "metadata": {
    "collapsed": true
   },
   "outputs": [],
   "source": [
    "tweets_df = tweets_df['2013-01-01 00:00':'2013-02-10 00:00']"
   ]
  },
  {
   "cell_type": "code",
   "execution_count": 43,
   "metadata": {
    "collapsed": false
   },
   "outputs": [
    {
     "data": {
      "text/plain": [
       "<matplotlib.axes._subplots.AxesSubplot at 0x1129723c8>"
      ]
     },
     "execution_count": 43,
     "metadata": {},
     "output_type": "execute_result"
    },
    {
     "data": {
      "image/png": "[encoded data removed]",
      "text/plain": [
       "<matplotlib.figure.Figure at 0x143a54cc0>"
      ]
     },
     "metadata": {},
     "output_type": "display_data"
    }
   ],
   "source": [
    "tweets_df.tweet_count.resample('1H').sum().fillna(0).plot()"
   ]
  },
  {
   "cell_type": "code",
   "execution_count": 57,
   "metadata": {
    "collapsed": false
   },
   "outputs": [
    {
     "name": "stdout",
     "output_type": "stream",
     "text": [
      "<class 'pandas.core.frame.DataFrame'>\n",
      "DatetimeIndex: 24260 entries, 2013-01-01 00:04:41 to 2013-02-07 19:08:30\n",
      "Data columns (total 18 columns):\n",
      "coordinates            616 non-null object\n",
      "country                735 non-null object\n",
      "device                 24260 non-null object\n",
      "entity_hashtags        24260 non-null object\n",
      "entity_mentions        24260 non-null object\n",
      "entity_type            235 non-null object\n",
      "entity_urls            24260 non-null object\n",
      "id_str                 24260 non-null object\n",
      "in_reply_to_user_id    6205 non-null float64\n",
      "is_retweet             24260 non-null bool\n",
      "screen_name            24260 non-null object\n",
      "text                   24260 non-null object\n",
      "user_followers         24260 non-null int64\n",
      "user_following         24260 non-null int64\n",
      "user_id                24260 non-null object\n",
      "user_loc               24260 non-null object\n",
      "user_tzone             18430 non-null object\n",
      "tweet_count            24260 non-null int64\n",
      "dtypes: bool(1), float64(1), int64(3), object(13)\n",
      "memory usage: 3.4+ MB\n"
     ]
    }
   ],
   "source": [
    "tweets_df.info()"
   ]
  },
  {
   "cell_type": "code",
   "execution_count": 53,
   "metadata": {
    "collapsed": false
   },
   "outputs": [
    {
     "data": {
      "text/plain": [
       "user_loc\n",
       "                   7384\n",
       "Nederland           666\n",
       "Amsterdam           575\n",
       "Netherlands         419\n",
       "The Netherlands     323\n",
       "Utrecht             247\n",
       "Rotterdam           231\n",
       "Groningen           161\n",
       "Belgium             133\n",
       "Eindhoven           111\n",
       "dtype: int64"
      ]
     },
     "execution_count": 53,
     "metadata": {},
     "output_type": "execute_result"
    }
   ],
   "source": [
    "uloc_grps = tweets_df.groupby(\"user_loc\").size()\n",
    "uloc_grps.sort_values(ascending=False).head(10)#[490:]"
   ]
  },
  {
   "cell_type": "code",
   "execution_count": 48,
   "metadata": {
    "collapsed": false
   },
   "outputs": [
    {
     "name": "stdout",
     "output_type": "stream",
     "text": [
      "['', 'Nederland', 'Amsterdam', 'Netherlands', 'The Netherlands', 'Utrecht', 'Rotterdam', 'Groningen', 'Belgium', 'Eindhoven', 'Nijmegen', 'Haarlem', 'nederland', 'Zwolle', 'Holland', 'Den Haag', 'Amersfoort', 'Tilburg', 'Almere', 'Hilversum', 'Enschede', 'Leeuwarden', 'Arnhem', 'Breda', 'NL', 'Zoetermeer', 'Bornem/België', 'amsterdam', 'Utrecht, The Netherlands', \"'s-Hertogenbosch\", 'Apeldoorn', 'the netherlands', 'Deventer', 'Assen', 'Alphen aan den Rijn', 'Maastricht', 'Zevenaar', 'Sneek', 'Dordrecht', 'netherlands', 'Leiden', 'Drenthe', 'Gouda', 'the Netherlands', 'Friesland', 'Meppel', 'Doetinchem', 'Alkmaar', 'Ede', 'Zeist']\n"
     ]
    }
   ],
   "source": [
    "print(uloc_grps.sort_values(ascending=False).head(50).index.tolist())"
   ]
  },
  {
   "cell_type": "code",
   "execution_count": 202,
   "metadata": {
    "collapsed": false
   },
   "outputs": [
    {
     "data": {
      "text/plain": [
       "user_tzone\n",
       "Amsterdam              10813\n",
       "Greenland               2867\n",
       "Athens                  1614\n",
       "Brussels                 631\n",
       "Hawaii                   531\n",
       "Paris                     75\n",
       "Berlin                    58\n",
       "London                    52\n",
       "West Central Africa       33\n",
       "Santiago                  32\n",
       "dtype: int64"
      ]
     },
     "execution_count": 202,
     "metadata": {},
     "output_type": "execute_result"
    }
   ],
   "source": [
    "tzone_grps = tweets_df.groupby(\"user_tzone\").size()\n",
    "tzone_grps.sort_values(ascending=False).head(10)#[20:50]"
   ]
  },
  {
   "cell_type": "code",
   "execution_count": 54,
   "metadata": {
    "collapsed": false
   },
   "outputs": [
    {
     "data": {
      "text/plain": [
       "screen_name\n",
       "francois580       46\n",
       "varkens_griep     39\n",
       "griepheadlines    37\n",
       "xchloe0172        24\n",
       "vester71          23\n",
       "Emiraten1975      22\n",
       "NuGriep           22\n",
       "Griepradar        21\n",
       "nieuwsheadline    21\n",
       "Rider_ot_Storm    19\n",
       "dtype: int64"
      ]
     },
     "execution_count": 54,
     "metadata": {},
     "output_type": "execute_result"
    }
   ],
   "source": [
    "screen_name_grps = tweets_df.groupby(\"screen_name\").size()\n",
    "screen_name_grps.sort_values(ascending=False).head(10)"
   ]
  },
  {
   "cell_type": "code",
   "execution_count": 55,
   "metadata": {
    "collapsed": false
   },
   "outputs": [
    {
     "data": {
      "text/plain": [
       "country\n",
       "Nederland          423\n",
       "The Netherlands    244\n",
       "België              36\n",
       "Belgium             22\n",
       "Niederlande          4\n",
       "France               2\n",
       "United States        1\n",
       "Spanje               1\n",
       "Noorwegen            1\n",
       "Germany              1\n",
       "dtype: int64"
      ]
     },
     "execution_count": 55,
     "metadata": {},
     "output_type": "execute_result"
    }
   ],
   "source": [
    "country_grps = tweets_df.groupby(\"country\").size()\n",
    "country_grps.sort_values(ascending=False).head(10)"
   ]
  },
  {
   "cell_type": "code",
   "execution_count": 96,
   "metadata": {
    "collapsed": false
   },
   "outputs": [
    {
     "data": {
      "text/plain": [
       "Twitter for Android          4995\n",
       "Twitter for iPhone           4445\n",
       "web                          3611\n",
       "Twitter for BlackBerry®      1710\n",
       "TweetDeck                    1478\n",
       "Twitter for iPad             1225\n",
       "UberSocial for BlackBerry     569\n",
       "twitterfeed                   424\n",
       "Echofon                       422\n",
       "HootSuite                     350\n",
       "Tweetbot for iOS              334\n",
       "Facebook                      301\n",
       "Tweet Button                  277\n",
       "TweetCaster for Android       246\n",
       "Mobile Web (M5)               159\n",
       "Mobile Web (M2)               158\n",
       "Twitter for Mac               115\n",
       "UberSocial for Android        105\n",
       "Twitterrific                   73\n",
       "dlvr.it                        65\n",
       "Name: device, dtype: int64"
      ]
     },
     "execution_count": 96,
     "metadata": {},
     "output_type": "execute_result"
    }
   ],
   "source": [
    "tweets_df.device.value_counts()[:20]"
   ]
  },
  {
   "cell_type": "markdown",
   "metadata": {},
   "source": [
    "# Select a Date Range"
   ]
  },
  {
   "cell_type": "code",
   "execution_count": 58,
   "metadata": {
    "collapsed": false
   },
   "outputs": [],
   "source": [
    "myindex = pd.date_range('20130101 00:00','20130207 23:59', freq='2D')"
   ]
  },
  {
   "cell_type": "code",
   "execution_count": 204,
   "metadata": {
    "collapsed": false
   },
   "outputs": [
    {
     "name": "stdout",
     "output_type": "stream",
     "text": [
      "2013-01-01 00:00:00,2013-01-03 00:00:00,2013-01-05 00:00:00,2013-01-07 00:00:00,2013-01-09 00:00:00,2013-01-11 00:00:00,2013-01-13 00:00:00,2013-01-15 00:00:00,2013-01-17 00:00:00,2013-01-19 00:00:00,2013-01-21 00:00:00,2013-01-23 00:00:00,2013-01-25 00:00:00,2013-01-27 00:00:00,2013-01-29 00:00:00,2013-01-31 00:00:00,2013-02-02 00:00:00,2013-02-04 00:00:00,2013-02-06 00:00:00,"
     ]
    }
   ],
   "source": [
    "for mi in myindex:\n",
    "    print(mi, end=',')"
   ]
  },
  {
   "cell_type": "code",
   "execution_count": 60,
   "metadata": {
    "collapsed": false
   },
   "outputs": [],
   "source": [
    "tweets_df.sort_index(inplace=True)"
   ]
  },
  {
   "cell_type": "code",
   "execution_count": 61,
   "metadata": {
    "collapsed": false
   },
   "outputs": [
    {
     "data": {
      "text/plain": [
       "(Timestamp('2013-02-07 19:08:30'), Timestamp('2013-01-01 00:04:41'))"
      ]
     },
     "execution_count": 61,
     "metadata": {},
     "output_type": "execute_result"
    }
   ],
   "source": [
    "tweets_df.index.max(), tweets_df.index.min()"
   ]
  },
  {
   "cell_type": "code",
   "execution_count": 67,
   "metadata": {
    "collapsed": false
   },
   "outputs": [],
   "source": [
    "delta = dt.timedelta(days=2)\n",
    "number_of_days = (tweets_df.index.max() - tweets_df.index.min())/np.timedelta64(1, \"2D\")\n",
    "number_of_days = int(number_of_days)+1\n",
    "start = tweets_df.index[0]\n",
    "end = tweets_df.index[0] + delta\n",
    "rngs = []\n",
    "for i in range(number_of_days):\n",
    "        #print(start, \",\", end)\n",
    "        rngs.append((start, end))\n",
    "        start = end\n",
    "        end = end + delta"
   ]
  },
  {
   "cell_type": "code",
   "execution_count": 69,
   "metadata": {
    "collapsed": false
   },
   "outputs": [
    {
     "data": {
      "text/plain": [
       "[(Timestamp('2013-01-01 00:04:41'), Timestamp('2013-01-03 00:04:41')),\n",
       " (Timestamp('2013-01-03 00:04:41'), Timestamp('2013-01-05 00:04:41')),\n",
       " (Timestamp('2013-01-05 00:04:41'), Timestamp('2013-01-07 00:04:41')),\n",
       " (Timestamp('2013-01-07 00:04:41'), Timestamp('2013-01-09 00:04:41')),\n",
       " (Timestamp('2013-01-09 00:04:41'), Timestamp('2013-01-11 00:04:41')),\n",
       " (Timestamp('2013-01-11 00:04:41'), Timestamp('2013-01-13 00:04:41')),\n",
       " (Timestamp('2013-01-13 00:04:41'), Timestamp('2013-01-15 00:04:41')),\n",
       " (Timestamp('2013-01-15 00:04:41'), Timestamp('2013-01-17 00:04:41')),\n",
       " (Timestamp('2013-01-17 00:04:41'), Timestamp('2013-01-19 00:04:41')),\n",
       " (Timestamp('2013-01-19 00:04:41'), Timestamp('2013-01-21 00:04:41')),\n",
       " (Timestamp('2013-01-21 00:04:41'), Timestamp('2013-01-23 00:04:41')),\n",
       " (Timestamp('2013-01-23 00:04:41'), Timestamp('2013-01-25 00:04:41')),\n",
       " (Timestamp('2013-01-25 00:04:41'), Timestamp('2013-01-27 00:04:41')),\n",
       " (Timestamp('2013-01-27 00:04:41'), Timestamp('2013-01-29 00:04:41')),\n",
       " (Timestamp('2013-01-29 00:04:41'), Timestamp('2013-01-31 00:04:41')),\n",
       " (Timestamp('2013-01-31 00:04:41'), Timestamp('2013-02-02 00:04:41')),\n",
       " (Timestamp('2013-02-02 00:04:41'), Timestamp('2013-02-04 00:04:41')),\n",
       " (Timestamp('2013-02-04 00:04:41'), Timestamp('2013-02-06 00:04:41')),\n",
       " (Timestamp('2013-02-06 00:04:41'), Timestamp('2013-02-08 00:04:41'))]"
      ]
     },
     "execution_count": 69,
     "metadata": {},
     "output_type": "execute_result"
    }
   ],
   "source": [
    "rngs"
   ]
  },
  {
   "cell_type": "code",
   "execution_count": 203,
   "metadata": {
    "collapsed": false
   },
   "outputs": [
    {
     "name": "stdout",
     "output_type": "stream",
     "text": [
      "499,1055,855,1600,1408,1010,818,936,1236,765,1114,1164,1272,1210,1730,1533,1043,1419,1457,"
     ]
    }
   ],
   "source": [
    "for rs in rngs:\n",
    "    print(tweets_df.ix[rs[0]:rs[1]].tweet_count.sum(), end=\",\")"
   ]
  },
  {
   "cell_type": "code",
   "execution_count": 71,
   "metadata": {
    "collapsed": false
   },
   "outputs": [
    {
     "data": {
      "text/plain": [
       "<matplotlib.axes._subplots.AxesSubplot at 0x1144be400>"
      ]
     },
     "execution_count": 71,
     "metadata": {},
     "output_type": "execute_result"
    },
    {
     "data": {
      "image/png": "[encoded data removed]",
      "text/plain": [
       "<matplotlib.figure.Figure at 0x1144c25c0>"
      ]
     },
     "metadata": {},
     "output_type": "display_data"
    }
   ],
   "source": [
    "tweets_df.tweet_count.resample(\"H\").sum().plot()"
   ]
  },
  {
   "cell_type": "code",
   "execution_count": 72,
   "metadata": {
    "collapsed": false
   },
   "outputs": [
    {
     "data": {
      "image/png": "[encoded data removed]",
      "text/plain": [
       "<matplotlib.figure.Figure at 0x116b97cc0>"
      ]
     },
     "metadata": {},
     "output_type": "display_data"
    }
   ],
   "source": [
    "for rs in rngs:\n",
    "    tweets_df.ix[rs[0]:rs[1]].tweet_count.resample(\"1H\").sum().plot()"
   ]
  },
  {
   "cell_type": "code",
   "execution_count": 78,
   "metadata": {
    "collapsed": false
   },
   "outputs": [
    {
     "data": {
      "text/plain": [
       "<matplotlib.axes._subplots.AxesSubplot at 0x1144d06a0>"
      ]
     },
     "execution_count": 78,
     "metadata": {},
     "output_type": "execute_result"
    },
    {
     "data": {
      "image/png": "[encoded data removed]",
      "text/plain": [
       "<matplotlib.figure.Figure at 0x1141c27f0>"
      ]
     },
     "metadata": {},
     "output_type": "display_data"
    }
   ],
   "source": [
    "tweets_df[\"2013-01-30\"].tweet_count.resample(\"1H\").sum().plot()"
   ]
  },
  {
   "cell_type": "code",
   "execution_count": 83,
   "metadata": {
    "collapsed": false
   },
   "outputs": [
    {
     "data": {
      "text/html": [
       "<div>\n",
       "<table border=\"1\" class=\"dataframe\">\n",
       "  <thead>\n",
       "    <tr style=\"text-align: right;\">\n",
       "      <th></th>\n",
       "      <th>text</th>\n",
       "    </tr>\n",
       "    <tr>\n",
       "      <th>created_at</th>\n",
       "      <th></th>\n",
       "    </tr>\n",
       "  </thead>\n",
       "  <tbody>\n",
       "    <tr>\n",
       "      <th>2013-01-30 10:00:12</th>\n",
       "      <td>RT @feyenoordpings: Kamohelo #Mokotjo vervangt #Janmaat vanavond bij #psvFEY, die in Rotterdam achterblijft vanwege griep.</td>\n",
       "    </tr>\n",
       "    <tr>\n",
       "      <th>2013-01-30 10:00:16</th>\n",
       "      <td>\"@feyenoordpings: Kamohelo #Mokotjo vervangt #Janmaat vanavond bij #psvFEY, die in Rotterdam achterblijft vanwege griep.\"</td>\n",
       "    </tr>\n",
       "    <tr>\n",
       "      <th>2013-01-30 10:00:16</th>\n",
       "      <td>RT @feyenoordpings: Kamohelo #Mokotjo vervangt #Janmaat vanavond bij #psvFEY, die in Rotterdam achterblijft vanwege griep.</td>\n",
       "    </tr>\n",
       "  </tbody>\n",
       "</table>\n",
       "</div>"
      ],
      "text/plain": [
       "                                                                                                                                           text\n",
       "created_at                                                                                                                                     \n",
       "2013-01-30 10:00:12  RT @feyenoordpings: Kamohelo #Mokotjo vervangt #Janmaat vanavond bij #psvFEY, die in Rotterdam achterblijft vanwege griep.\n",
       "2013-01-30 10:00:16   \"@feyenoordpings: Kamohelo #Mokotjo vervangt #Janmaat vanavond bij #psvFEY, die in Rotterdam achterblijft vanwege griep.\"\n",
       "2013-01-30 10:00:16  RT @feyenoordpings: Kamohelo #Mokotjo vervangt #Janmaat vanavond bij #psvFEY, die in Rotterdam achterblijft vanwege griep."
      ]
     },
     "execution_count": 83,
     "metadata": {},
     "output_type": "execute_result"
    }
   ],
   "source": [
    "tweets_df[\"2013-01-30 10\"][[\"text\"]][:3]"
   ]
  },
  {
   "cell_type": "markdown",
   "metadata": {},
   "source": [
    "# Preprocess the Data"
   ]
  },
  {
   "cell_type": "code",
   "execution_count": 82,
   "metadata": {
    "collapsed": false
   },
   "outputs": [
    {
     "name": "stdout",
     "output_type": "stream",
     "text": [
      "<class 'pandas.core.frame.DataFrame'>\n",
      "DatetimeIndex: 24260 entries, 2013-01-01 00:04:41 to 2013-02-07 19:08:30\n",
      "Data columns (total 19 columns):\n",
      "coordinates            616 non-null object\n",
      "country                735 non-null object\n",
      "device                 24260 non-null object\n",
      "entity_hashtags        24260 non-null object\n",
      "entity_mentions        24260 non-null object\n",
      "entity_type            235 non-null object\n",
      "entity_urls            24260 non-null object\n",
      "id_str                 24260 non-null object\n",
      "in_reply_to_user_id    6205 non-null float64\n",
      "is_retweet             24260 non-null bool\n",
      "screen_name            24260 non-null object\n",
      "text                   24260 non-null object\n",
      "user_followers         24260 non-null int64\n",
      "user_following         24260 non-null int64\n",
      "user_id                24260 non-null object\n",
      "user_loc               24260 non-null object\n",
      "user_tzone             18430 non-null object\n",
      "tweet_count            24260 non-null int64\n",
      "text_active            24260 non-null object\n",
      "dtypes: bool(1), float64(1), int64(3), object(14)\n",
      "memory usage: 3.5+ MB\n"
     ]
    }
   ],
   "source": [
    "#tweets_df[rr.active_column] = tweets_df[rr.main_col].copy()\n",
    "tweets_df = rr.transform_metatext(tweets_df)\n",
    "tweets_df.info()"
   ]
  },
  {
   "cell_type": "code",
   "execution_count": 86,
   "metadata": {
    "collapsed": false
   },
   "outputs": [
    {
     "data": {
      "text/html": [
       "<div>\n",
       "<table border=\"1\" class=\"dataframe\">\n",
       "  <thead>\n",
       "    <tr style=\"text-align: right;\">\n",
       "      <th></th>\n",
       "      <th>text</th>\n",
       "      <th>text_active</th>\n",
       "    </tr>\n",
       "    <tr>\n",
       "      <th>created_at</th>\n",
       "      <th></th>\n",
       "      <th></th>\n",
       "    </tr>\n",
       "  </thead>\n",
       "  <tbody>\n",
       "    <tr>\n",
       "      <th>2013-01-01 00:15:46</th>\n",
       "      <td>RT @KapotGrappig: Ik kom je bezoeken, je ligt op bed, ik kom in je, je gaat trillen en zweten, je kreunt.... Groetjes, de Griep #KapotGr ...</td>\n",
       "      <td>RT usrusr Ik kom je bezoeken, je ligt op bed, ik kom in je, je gaat trillen en zweten, je kreunt.... Groetjes, de Griep #KapotGr ...</td>\n",
       "    </tr>\n",
       "    <tr>\n",
       "      <th>2013-01-01 00:15:48</th>\n",
       "      <td>RT @KapotGrappig: Ik kom je bezoeken, je ligt op bed, ik kom in je, je gaat trillen en zweten, je kreunt.... Groetjes, de Griep #KapotGr ...</td>\n",
       "      <td>RT usrusr Ik kom je bezoeken, je ligt op bed, ik kom in je, je gaat trillen en zweten, je kreunt.... Groetjes, de Griep #KapotGr ...</td>\n",
       "    </tr>\n",
       "    <tr>\n",
       "      <th>2013-01-01 00:16:11</th>\n",
       "      <td>RT @KapotGrappig: Ik kom je bezoeken, je ligt op bed, ik kom in je, je gaat trillen en zweten, je kreunt.... Groetjes, de Griep #KapotGr ...</td>\n",
       "      <td>RT usrusr Ik kom je bezoeken, je ligt op bed, ik kom in je, je gaat trillen en zweten, je kreunt.... Groetjes, de Griep #KapotGr ...</td>\n",
       "    </tr>\n",
       "    <tr>\n",
       "      <th>2013-01-01 00:16:13</th>\n",
       "      <td>RT @KapotGrappig: Ik kom je bezoeken, je ligt op bed, ik kom in je, je gaat trillen en zweten, je kreunt.... Groetjes, de Griep #KapotGr ...</td>\n",
       "      <td>RT usrusr Ik kom je bezoeken, je ligt op bed, ik kom in je, je gaat trillen en zweten, je kreunt.... Groetjes, de Griep #KapotGr ...</td>\n",
       "    </tr>\n",
       "    <tr>\n",
       "      <th>2013-01-01 00:16:32</th>\n",
       "      <td>RT @KapotGrappig: Ik kom je bezoeken, je ligt op bed, ik kom in je, je gaat trillen en zweten, je kreunt.... Groetjes, de Griep #KapotGr ...</td>\n",
       "      <td>RT usrusr Ik kom je bezoeken, je ligt op bed, ik kom in je, je gaat trillen en zweten, je kreunt.... Groetjes, de Griep #KapotGr ...</td>\n",
       "    </tr>\n",
       "  </tbody>\n",
       "</table>\n",
       "</div>"
      ],
      "text/plain": [
       "                                                                                                                                                             text  \\\n",
       "created_at                                                                                                                                                          \n",
       "2013-01-01 00:15:46  RT @KapotGrappig: Ik kom je bezoeken, je ligt op bed, ik kom in je, je gaat trillen en zweten, je kreunt.... Groetjes, de Griep #KapotGr ...   \n",
       "2013-01-01 00:15:48  RT @KapotGrappig: Ik kom je bezoeken, je ligt op bed, ik kom in je, je gaat trillen en zweten, je kreunt.... Groetjes, de Griep #KapotGr ...   \n",
       "2013-01-01 00:16:11  RT @KapotGrappig: Ik kom je bezoeken, je ligt op bed, ik kom in je, je gaat trillen en zweten, je kreunt.... Groetjes, de Griep #KapotGr ...   \n",
       "2013-01-01 00:16:13  RT @KapotGrappig: Ik kom je bezoeken, je ligt op bed, ik kom in je, je gaat trillen en zweten, je kreunt.... Groetjes, de Griep #KapotGr ...   \n",
       "2013-01-01 00:16:32  RT @KapotGrappig: Ik kom je bezoeken, je ligt op bed, ik kom in je, je gaat trillen en zweten, je kreunt.... Groetjes, de Griep #KapotGr ...   \n",
       "\n",
       "                                                                                                                                              text_active  \n",
       "created_at                                                                                                                                                 \n",
       "2013-01-01 00:15:46  RT usrusr Ik kom je bezoeken, je ligt op bed, ik kom in je, je gaat trillen en zweten, je kreunt.... Groetjes, de Griep #KapotGr ...  \n",
       "2013-01-01 00:15:48  RT usrusr Ik kom je bezoeken, je ligt op bed, ik kom in je, je gaat trillen en zweten, je kreunt.... Groetjes, de Griep #KapotGr ...  \n",
       "2013-01-01 00:16:11  RT usrusr Ik kom je bezoeken, je ligt op bed, ik kom in je, je gaat trillen en zweten, je kreunt.... Groetjes, de Griep #KapotGr ...  \n",
       "2013-01-01 00:16:13  RT usrusr Ik kom je bezoeken, je ligt op bed, ik kom in je, je gaat trillen en zweten, je kreunt.... Groetjes, de Griep #KapotGr ...  \n",
       "2013-01-01 00:16:32  RT usrusr Ik kom je bezoeken, je ligt op bed, ik kom in je, je gaat trillen en zweten, je kreunt.... Groetjes, de Griep #KapotGr ...  "
      ]
     },
     "execution_count": 86,
     "metadata": {},
     "output_type": "execute_result"
    }
   ],
   "source": [
    "tweets_df[[\"text\",\"text_active\"]][5:10]"
   ]
  },
  {
   "cell_type": "code",
   "execution_count": 87,
   "metadata": {
    "collapsed": false
   },
   "outputs": [
    {
     "data": {
      "text/html": [
       "<div>\n",
       "<table border=\"1\" class=\"dataframe\">\n",
       "  <thead>\n",
       "    <tr style=\"text-align: right;\">\n",
       "      <th></th>\n",
       "      <th>text</th>\n",
       "      <th>text_active</th>\n",
       "    </tr>\n",
       "    <tr>\n",
       "      <th>created_at</th>\n",
       "      <th></th>\n",
       "      <th></th>\n",
       "    </tr>\n",
       "  </thead>\n",
       "  <tbody>\n",
       "    <tr>\n",
       "      <th>2013-01-01 04:20:07</th>\n",
       "      <td>Was echt weer een geweldig oud&amp;amp;nieuw ondanks de griep toch een geslaagde dag!! Op naar volgend jaar!! #LetsGetIt #Vuurwerk #Plansfor2013</td>\n",
       "      <td>Was echt weer een geweldig oud&amp;nieuw ondanks de griep toch een geslaagde dag!! Op naar volgend jaar!! #LetsGetIt #Vuurwerk #Plansfor2013</td>\n",
       "    </tr>\n",
       "    <tr>\n",
       "      <th>2013-01-01 21:10:53</th>\n",
       "      <td>RT @anandjansen: Please RT! Iemand morgen naar Parijs voor 2 nachten?! Ik lig met zware griep in bed :( hotel incl P&amp;amp;ontbijt, 100m n ...</td>\n",
       "      <td>RT usrusr Please RT! Iemand morgen naar Parijs voor 2 nachten?! Ik lig met zware griep in bed :( hotel incl P&amp;ontbijt, 100m n ...</td>\n",
       "    </tr>\n",
       "  </tbody>\n",
       "</table>\n",
       "</div>"
      ],
      "text/plain": [
       "                                                                                                                                                             text  \\\n",
       "created_at                                                                                                                                                          \n",
       "2013-01-01 04:20:07  Was echt weer een geweldig oud&amp;nieuw ondanks de griep toch een geslaagde dag!! Op naar volgend jaar!! #LetsGetIt #Vuurwerk #Plansfor2013   \n",
       "2013-01-01 21:10:53  RT @anandjansen: Please RT! Iemand morgen naar Parijs voor 2 nachten?! Ik lig met zware griep in bed :( hotel incl P&amp;ontbijt, 100m n ...   \n",
       "\n",
       "                                                                                                                                                  text_active  \n",
       "created_at                                                                                                                                                     \n",
       "2013-01-01 04:20:07  Was echt weer een geweldig oud&nieuw ondanks de griep toch een geslaagde dag!! Op naar volgend jaar!! #LetsGetIt #Vuurwerk #Plansfor2013  \n",
       "2013-01-01 21:10:53         RT usrusr Please RT! Iemand morgen naar Parijs voor 2 nachten?! Ik lig met zware griep in bed :( hotel incl P&ontbijt, 100m n ...  "
      ]
     },
     "execution_count": 87,
     "metadata": {},
     "output_type": "execute_result"
    }
   ],
   "source": [
    "tweets_df[tweets_df.text.str.contains(\"\\&amp;\")][[\"text\", rr.active_column]][:2]"
   ]
  },
  {
   "cell_type": "code",
   "execution_count": 93,
   "metadata": {
    "collapsed": false
   },
   "outputs": [
    {
     "data": {
      "text/plain": [
       "RT usrusr Ik kom je bezoeken, je ligt op bed, ik kom in je, je gaat trillen en zweten, je kreunt.... Groetjes de Griep. #Droge_ ...         57\n",
       "RT usrusr Ik kom je bezoeken, je ligt op bed, ik kom in je, je gaat trillen en zweten, je kreunt…. Groetjes, de Griep. #Slech ...           55\n",
       "RT usrusr Please RT! Iemand morgen naar Parijs voor 2 nachten?! Ik lig met zware griep in bed :( hotel incl P&ontbijt, 100m n ...           46\n",
       "RT usrusr Oke ik heb de griep. Bedankt Nederlands kut klimaat                                                                               42\n",
       "RT usrusr Ik kom je bezoeken, je ligt op bed, ik kom in je, je gaat trillen en zweten, je kreunt…. Groetjes, de Griep. #topmoppen           41\n",
       "bestziek\\nGriep. Op de een of andere manier slaat het bij mannen altijd harder toe. Soort virale mutatie. #bestziek                         41\n",
       "RT usrusr Griep is bij mannen écht heftiger dan bij vrouwen - urlurl                                                                        41\n",
       "RT usrusr Ik kom je bezoeken, je ligt op bed, ik kom in je, je gaat trillen en zweten, je kreunt.... Groetjes de Griep. #nieto ...          39\n",
       "RT usrusr Mijn zoon komt elke vrijdag thuis met rode ogen. Hij heeft zo vaak last van de griep he...                                        38\n",
       "RT usrusr Mensen met bruine ogen kunnen last krijgen van de griep komende week. #Ooghoroscoop                                               38\n",
       "'Mexicaanse griep besmette 1 op 5 mensen': GENÈVE - Zeker een op de vijf mensen is in 2009 besmet geraakt met he... urlurl                  37\n",
       "RT usrusr Mensen met bruine ogen zullen eerder vatbaar zijn voor de griep! Neem je vitamine! #Ooghoroscoop                                  35\n",
       "RT usrusr Deze griep is een bitch.                                                                                                          33\n",
       "RT usrusr de Spaanse griep (1918-1919) meer slachtoffers eiste dan de Eerste Wereldoorlog                                                   32\n",
       "RT usrusr Mensen met bruine ogen hebben jullie extra vitamine genomen? Jullie zijn extra vatbaar voor de griep! #Ooghoroscoop               31\n",
       "RT usrusr Ik kom je bezoeken, je ligt op bed, ik kom in je, je gaat trillen en zweten, je kreunt.... Groetjes, de Griep. #topmoppen         30\n",
       "RT usrusr Ik kom je bezoeken, je ligt op bed, ik kom in je, je gaat trillen en zweten, je kreunt.... Groetjes, de Griep                     28\n",
       "RT usrusr Mensen met groene ogen neem wat extra fruit want er staat een griep op jullie te wachten! #Ooghoroscoop                           28\n",
       "RT usrusr Ik kom je bezoeken, je ligt op bed, ik kom in je, je gaat trillen en zweten, je kreunt.... Groetjes, de Griep. #Droge ...         28\n",
       "RT usrusr Kamohelo #Mokotjo vervangt #Janmaat vanavond bij #psvFEY, die in Rotterdam achterblijft vanwege griep.                            28\n",
       "RT usrusr Daryl #Janmaat vanavond niet tegen PSV. Hij ontbreekt vanwege griep. #psvFEY                                                      26\n",
       "RT usrusr Last van een koorts/griepje:  twee gouden regels bij griep en sport. urlurl                                                       26\n",
       "RT usrusr Griep is bij mannen heftiger dan bij vrouwen #Mannengriep urlurl via usrusr                                                       25\n",
       "RT usrusr Feyenoord verdediger Daryl Janmaat is geveld door de griep en zal vanavond afwezig zijn bij de bekerwedstrijd PSV - Feyenoord.    22\n",
       "RT usrusr Mensen met blauwe ogen vergeten jullie niet jullie vitamine vandaag!! Griep komt eraan! #Ooghoroscoop                             19\n",
       "RT usrusr Goedemorgen! Zorgen de bruine ogen ervoor als ze naar buiten gaan dat ze zich goed aankleden! Griep ligt op de loer #O ...        19\n",
       "RT usrusr Wel of niet sporten met griep/verkoudheid? Doe de 'nek-check': urlurl                                                             19\n",
       "RT usrusr AANBOD: 2 kaarten Requiem van Mozart morgenavond in Zwolle. Helaas verhinderd wegens griep :-( €45 per kaart. Stuur me  ...       18\n",
       "Deze kruiden verzachten de symptomen van griep - LeerWiki.nl - Schat aan informatie urlurl                                                  18\n",
       "RT usrusr Ik kom je bezoeken, je ligt op bed, ik kom in je, je gaat trillen en zweten, je kreunt.... Groetjes, de Griep #KapotGr ...        18\n",
       "                                                                                                                                            ..\n",
       "Mij verre van ziek voelende maar toch een beste koorts/griep te pakken hebbend. Morgen nog steeds afwezig. #grrrr                            1\n",
       "Iets met griep hebben en de ijsbaan naast de deur is behoorlijk irritant..  #eenfrieshoortophetijstestaan                                    1\n",
       "Toename griep Nederland. Volgens nieuwste invluenza nieuwsbrief in Noorden veruit meeste patiënten. Twee keer meer dan in andere regio's     1\n",
       "beginnende griep eh.. ik haat het                                                                                                            1\n",
       "Wie weet hoelang de griep duurt ? Vrouwtje is al 7 dagen ziek. Wel gezellig vrouwtje thuis !!!                                               1\n",
       "Juplaa kzit ook de rest van de weke thuis met Luchtwegeninfectie en de griep ....                                                            1\n",
       "Nog steeds verkouden en kan maar moeilijk ademen zo benauwd. Toch nog steeds aan het werk #zalwelmoeten #griep                               1\n",
       "Bijna allemaal #verkouden hier en #griep ! Zal blij zijn als het voorjaar zich aandient!                                                     1\n",
       "zo, vandaag begint het Twinfield jaar 2013. Weer bijna hersteld van de heftige griep en veel energie opgedaan.                               1\n",
       "Tik ik ruim de 39 weer aan. #Griep                                                                                                           1\n",
       "2013 begint met een vette griep:S                                                                                                            1\n",
       "usrusr koorts/griep vandaag nog steeds :S                                                                                                    1\n",
       "RT usrusr Gister op rand van afgrond geweest! Vandaag gaat het stukken beter. #griep #koorts en nog 3 andere bacteriën                       1\n",
       "Voelde m gisteren al wel aankomen maar toen kon ik mezelf nog verschuilen achter ibuprofen. #griep #koorts                                   1\n",
       "Ik weet dat in Meerdijk alles sneller gaat maar de griep binnen 1 minuut over krijgen bestaat echt niet #GTST                                1\n",
       "usrusr ik wil zaterdag wel komen, maar ik heb griep dus ik ga anders een andere dag proberen te komen                                        1\n",
       "je hebt van die bepaalde soorten griep. waarvan je je zo ziek gaat voelen dat je gewoon je erfenis al schrijft op 18de.                      1\n",
       "Ik ben bang dat ik de griep krijg .. zat ik net niet op te wachten                                                                           1\n",
       "usrusr  NIVEL Mexicaanse griep beleeft een comeback; pos bij 40% van geteste patienten.urlurl #griep #infuenza #yam                          1\n",
       "usrusr Goedemorgen buuf. Oh jee, de griep heeft toegeslagen? Heel veel sterkte voor jullie!                                                  1\n",
       "usrusr HAHAHAHHA,GOED ADVIEESS ♥ , maar er heerst griep ;p dus mensen worden denk ik aangestoken !                                           1\n",
       "Goeie instelling! Beterschap!! MyradeGroot: De griep is morgen weg, dat heb ik met mezelf afgesproken #positiefdenken\"                       1\n",
       "Iemand tips om de #griep NIET te krijgen? #griepepidemie                                                                                     1\n",
       "usrusr Nou ik heb eigenlijk 8 uur les maar lig al sinds maandag met griep xD Beter dat je zo vroeg uit bent c:                               1\n",
       "Mag de deur niet uit dus zou niet veel schelen als ze zaandam is.. Gvd kut griep                                                             1\n",
       "Dames, mannen zijn echt niet van die mietjes als ze griep hebben, hier een uiteenzetting:\\nGriep is bij mannen écht... urlurl                1\n",
       "Dochter had 2 PR's op ver en 60mHorden ondanks dat ze net griep heeft gehad. Knap hoor!  #trotsemoeder                                       1\n",
       "De #griep neemt mij nu ook in zn macht :(  ,maar ik verzet me er nog tegen zolang ik het vol hou...                                          1\n",
       "It's #ESNS13 ! Kids weer beter, papa met de eerste griep verschijnselen. Wat een timing.                                                     1\n",
       "Helaas geen feest voor mij vanavond mijn twee zonen zijn te ziek vaderplicht gaat vóór #griep                                                1\n",
       "Name: text_active, dtype: int64"
      ]
     },
     "execution_count": 93,
     "metadata": {},
     "output_type": "execute_result"
    }
   ],
   "source": [
    "tweets_df[rr.active_column].value_counts()#[20:40]"
   ]
  },
  {
   "cell_type": "code",
   "execution_count": 94,
   "metadata": {
    "collapsed": false
   },
   "outputs": [
    {
     "name": "stdout",
     "output_type": "stream",
     "text": [
      "24260\n",
      "22126\n"
     ]
    }
   ],
   "source": [
    "print(len(tweets_df))\n",
    "tweets_df.drop_duplicates(subset=[rr.active_column], inplace=True)\n",
    "print(len(tweets_df))"
   ]
  },
  {
   "cell_type": "code",
   "execution_count": 95,
   "metadata": {
    "collapsed": false
   },
   "outputs": [
    {
     "data": {
      "image/png": "[encoded data removed]",
      "text/plain": [
       "<matplotlib.figure.Figure at 0x14aaa4f28>"
      ]
     },
     "metadata": {},
     "output_type": "display_data"
    }
   ],
   "source": [
    "for rs in rngs:\n",
    "    tweets_df.ix[rs[0]:rs[1]].tweet_count.resample(\"1H\").sum().plot()"
   ]
  },
  {
   "cell_type": "code",
   "execution_count": 97,
   "metadata": {
    "collapsed": false
   },
   "outputs": [],
   "source": [
    "tweets_df_back_up = tweets_df.copy()\n",
    "#tweets_df = tweets_df_back_up.copy()"
   ]
  },
  {
   "cell_type": "code",
   "execution_count": 98,
   "metadata": {
    "collapsed": false
   },
   "outputs": [
    {
     "name": "stdout",
     "output_type": "stream",
     "text": [
      "\" @InaStrating: Grip op Griep... #hoedoejedat? \" Door je er aan over te geven. #somsisdeoplossinghetprobleem\n",
      "\" Ik kan niet eens goed lachen......stont griep x_x\"\n",
      "\" Is het hip om de griep te hebben?\"\n",
      "\"1500 op de 100.000 Nederlanders hebben griep\" http://t.co/tIfKnIlb Hopelijk zit ik daar niet bij,.!\n",
      "\"@Aaaamyxx: Koorts , spierpijn ,misselijk en knallende koppijn dankje griep dat je ook mij te pakken hebt !\" Sterkte meis.. xx\n",
      "\"@AngelicaVanSon: Ojee ik hoop ni dat ik hier iedereen mijn griep geef. Ligt dadelijk iedereen plat.\" Thanks muppet\n",
      "\"@AnnelotteEsmee: 3e dag ziek en nog steeds geen verbetering.. kut griep\" beterschap\n",
      "\"@ArjenHolleman: Zo appotheek. Spul wat de griep onderdrukt halen\"stel je niet zo aan man..\n",
      "\"@Beetjeobsessief: Nou de romantiek is om te snijden hier. Het moet even. Tot over 5 minuten.\" #Joepie #begentle #griep\n",
      "\"@BlondeBosua_: Ziekjes .. Heb de griep te pakken :(((((((\" beterschap nichiee\n"
     ]
    }
   ],
   "source": [
    "print(*list(tweets_df.text.sort_values().values)[:10], sep=\"\\n\")"
   ]
  },
  {
   "cell_type": "code",
   "execution_count": 99,
   "metadata": {
    "collapsed": false
   },
   "outputs": [
    {
     "name": "stdout",
     "output_type": "stream",
     "text": [
      "No defined text parts to be removed for: nl\n",
      "Only language independent normalisation will take place.\n"
     ]
    }
   ],
   "source": [
    "tweets_df = rr.remove_text_parts(tweets_df)"
   ]
  },
  {
   "cell_type": "code",
   "execution_count": 102,
   "metadata": {
    "collapsed": false
   },
   "outputs": [
    {
     "name": "stdout",
     "output_type": "stream",
     "text": [
      "# De griep heeft mij te pakken!!!! Deze week vervallen helaas alle Fighting4Power trainingen.\n",
      "#114 op de #100000 mensen heeft griep. Dus #epidemie is niet afgezwakt maar #heviger\n",
      "#2009, #WeetUNog? Toen we allemaal bijna dood waren door de Mexicaanse griep. Dat was nog een eng. #vroeger\n",
      "#24kitchen kijken al heb ik totaal geen honger #griep\n",
      "#3jstotzover aan en rustig aan doen nog niet helemaal herstelt #griep\n",
      "#AD: Griep komt vroeg dit jaar. Dus, elke dag later beginnen en je hebt er geen last van.\n",
      "#AanDeWCGekluistert door mijn #griep\n",
      "#BalNieuws Janmaat door griep niet tegen PSV: Daryl Janmaat moet het bekertreffen met PSV laten schieten. De rec... urlurl\n",
      "#Bluemonday of niet, maar ik zit met een fikse griep opgezadeld! :-( #flinkbalen\n",
      "#Brussels Nieuws Aantal mensen met griep blijft stijgen - Nieuwsblad: Aantal mensen met griep blijft stijgenNieu... urlurl\n"
     ]
    }
   ],
   "source": [
    "print(*list(tweets_df[rr.active_column].sort_values().values)[:10], sep=\"\\n\")"
   ]
  },
  {
   "cell_type": "code",
   "execution_count": 103,
   "metadata": {
    "collapsed": false
   },
   "outputs": [
    {
     "data": {
      "text/html": [
       "<div>\n",
       "<table border=\"1\" class=\"dataframe\">\n",
       "  <thead>\n",
       "    <tr style=\"text-align: right;\">\n",
       "      <th></th>\n",
       "      <th>text</th>\n",
       "      <th>text_active</th>\n",
       "    </tr>\n",
       "    <tr>\n",
       "      <th>created_at</th>\n",
       "      <th></th>\n",
       "      <th></th>\n",
       "    </tr>\n",
       "  </thead>\n",
       "  <tbody>\n",
       "    <tr>\n",
       "      <th>2013-01-01 03:14:27</th>\n",
       "      <td>Al 35 uur niet gegeten. Ik ben zooo misselijk, maar heb ook zooo'n honger... Maar ik durf nog geen boterham te eten. #dilemma #griep</td>\n",
       "      <td>Al 35 uur niet gegeten. Ik ben zooo misselijk, maar heb ook zooo'n honger... Maar ik durf nog geen boterham te eten. #dilemma #griep</td>\n",
       "    </tr>\n",
       "    <tr>\n",
       "      <th>2013-01-01 03:19:33</th>\n",
       "      <td>K heb gehoort van @QVDM__ dat je dan griep krijgt</td>\n",
       "      <td>K heb gehoort van usrusr dat je dan griep krijgt</td>\n",
       "    </tr>\n",
       "    <tr>\n",
       "      <th>2013-01-01 03:51:37</th>\n",
       "      <td>Het ia dus 10 viir 5 en wij zitten met griep aan het bier #ilike</td>\n",
       "      <td>Het ia dus 10 viir 5 en wij zitten met griep aan het bier #ilike</td>\n",
       "    </tr>\n",
       "    <tr>\n",
       "      <th>2013-01-01 03:52:55</th>\n",
       "      <td>blij dat we toch maar zijn gegaan om half 5,want mn beste vriendinnetje heeft de griep:(. voor de rest super avond +nacht gehad!</td>\n",
       "      <td>blij dat we toch maar zijn gegaan om half 5,want mn beste vriendinnetje heeft de griep:(. voor de rest super avond +nacht gehad</td>\n",
       "    </tr>\n",
       "    <tr>\n",
       "      <th>2013-01-01 03:53:55</th>\n",
       "      <td>Nadat ik mensen heb thuis gebracht, helemaal zeiknat bn geregend en lekker gedoucht. Nu maar eens gaan slapen met vreselijke buikpijn #griep</td>\n",
       "      <td>Nadat ik mensen heb thuis gebracht, helemaal zeiknat bn geregend en lekker gedoucht. Nu maar eens gaan slapen met vreselijke buikpijn #griep</td>\n",
       "    </tr>\n",
       "  </tbody>\n",
       "</table>\n",
       "</div>"
      ],
      "text/plain": [
       "                                                                                                                                                             text  \\\n",
       "created_at                                                                                                                                                          \n",
       "2013-01-01 03:14:27          Al 35 uur niet gegeten. Ik ben zooo misselijk, maar heb ook zooo'n honger... Maar ik durf nog geen boterham te eten. #dilemma #griep   \n",
       "2013-01-01 03:19:33                                                                                             K heb gehoort van @QVDM__ dat je dan griep krijgt   \n",
       "2013-01-01 03:51:37                                                                              Het ia dus 10 viir 5 en wij zitten met griep aan het bier #ilike   \n",
       "2013-01-01 03:52:55              blij dat we toch maar zijn gegaan om half 5,want mn beste vriendinnetje heeft de griep:(. voor de rest super avond +nacht gehad!   \n",
       "2013-01-01 03:53:55  Nadat ik mensen heb thuis gebracht, helemaal zeiknat bn geregend en lekker gedoucht. Nu maar eens gaan slapen met vreselijke buikpijn #griep   \n",
       "\n",
       "                                                                                                                                                      text_active  \n",
       "created_at                                                                                                                                                         \n",
       "2013-01-01 03:14:27          Al 35 uur niet gegeten. Ik ben zooo misselijk, maar heb ook zooo'n honger... Maar ik durf nog geen boterham te eten. #dilemma #griep  \n",
       "2013-01-01 03:19:33                                                                                              K heb gehoort van usrusr dat je dan griep krijgt  \n",
       "2013-01-01 03:51:37                                                                              Het ia dus 10 viir 5 en wij zitten met griep aan het bier #ilike  \n",
       "2013-01-01 03:52:55               blij dat we toch maar zijn gegaan om half 5,want mn beste vriendinnetje heeft de griep:(. voor de rest super avond +nacht gehad  \n",
       "2013-01-01 03:53:55  Nadat ik mensen heb thuis gebracht, helemaal zeiknat bn geregend en lekker gedoucht. Nu maar eens gaan slapen met vreselijke buikpijn #griep  "
      ]
     },
     "execution_count": 103,
     "metadata": {},
     "output_type": "execute_result"
    }
   ],
   "source": [
    "tweets_df[[\"text\", rr.active_column]][15:20]"
   ]
  },
  {
   "cell_type": "code",
   "execution_count": 175,
   "metadata": {
    "collapsed": false
   },
   "outputs": [
    {
     "name": "stdout",
     "output_type": "stream",
     "text": [
      "# De griep heeft mij te pakken!!!! Deze week vervallen helaas alle Fighting4Power trainingen.\n",
      "#114 op de #100000 mensen heeft griep. Dus #epidemie is niet afgezwakt maar #heviger\n",
      "#2009, #WeetUNog? Toen we allemaal bijna dood waren door de Mexicaanse griep. Dat was nog een eng. #vroeger\n",
      "#24kitchen kijken al heb ik totaal geen honger #griep\n",
      "#3jstotzover aan en rustig aan doen nog niet helemaal herstelt #griep\n",
      "#AD: Griep komt vroeg dit jaar. Dus, elke dag later beginnen en je hebt er geen last van.\n",
      "#AanDeWCGekluistert door mijn #griep\n",
      "#BalNieuws Janmaat door griep niet tegen PSV: Daryl Janmaat moet het bekertreffen met PSV laten schieten. De rec... urlurl\n",
      "#Bluemonday of niet, maar ik zit met een fikse griep opgezadeld! :-( #flinkbalen\n",
      "#Brussels Nieuws Aantal mensen met griep blijft stijgen - Nieuwsblad: Aantal mensen met griep blijft stijgenNieu... urlurl\n",
      "#Cito, maanden spanning opgebouwd... Slaat de griep toe. Waarom toch zo'n eindtoets?\n",
      "#Depri:Weer een winter van niks- giet-oan behalve de griep die te paard kwam wegens problemen met het spoor.\n",
      "#Dode Gaza door Mexicaanse griep - NOS: Dode Gaza door Mexicaanse griep NOS In de Gazastrook is... urlurl #Gezondheid #nieuws\n",
      "#Eet verstandig en hou #griep buiten de deur. Tip: veel #fruit en nog veel meer #groenten urlurl\n",
      "#Elfstedenkoorts? Of toch gewoon #griep?\n",
      "Meer weten? urlurl\n",
      "#ErLigtHierIetsOpDeLoer #Griep ? Jongste toch maar thuis vanmiddag en zelf ook niet oké #EnDatHetNuEensEenKeerDoorzet! #kwakkelen is ook nix\n",
      "#Feit! Deca1! Het gaat allemaal weer beginnen! Mét griep.. Wij willen papa en mama worden! #ICSI urlurl\n",
      "#Feyenoord Janmaat ontbreekt vanavond door griep. - Daryl Janmaat zal vanavond niet mee doen in de be... urlurl\n",
      "#Feyenoord moet het vanavond zonder rechtsback Daryl Janmaat doen tegen PSV. Hij heeft griep. Mokotjo gaat nu mee naar Eindhoven. #psvFEY\n",
      "#Flu Misschien is dit het moment om midden in Chicago een nascholing te organiseren over het nut van griep vaccinatie?  #handsoncourse\n"
     ]
    }
   ],
   "source": [
    "print(*list(tweets_df[rr.active_column].sort_values().values)[:20], sep=\"\\n\")"
   ]
  },
  {
   "cell_type": "code",
   "execution_count": 105,
   "metadata": {
    "collapsed": false
   },
   "outputs": [
    {
     "data": {
      "text/html": [
       "<div>\n",
       "<table border=\"1\" class=\"dataframe\">\n",
       "  <thead>\n",
       "    <tr style=\"text-align: right;\">\n",
       "      <th></th>\n",
       "      <th>text</th>\n",
       "      <th>text_active</th>\n",
       "    </tr>\n",
       "    <tr>\n",
       "      <th>created_at</th>\n",
       "      <th></th>\n",
       "      <th></th>\n",
       "    </tr>\n",
       "  </thead>\n",
       "  <tbody>\n",
       "  </tbody>\n",
       "</table>\n",
       "</div>"
      ],
      "text/plain": [
       "Empty DataFrame\n",
       "Columns: [text, text_active]\n",
       "Index: []"
      ]
     },
     "execution_count": 105,
     "metadata": {},
     "output_type": "execute_result"
    }
   ],
   "source": [
    "tweets_df[tweets_df[rr.active_column].apply(lambda x: len(x)==0)][[\"text\", rr.active_column]]"
   ]
  },
  {
   "cell_type": "code",
   "execution_count": 106,
   "metadata": {
    "collapsed": false
   },
   "outputs": [
    {
     "name": "stdout",
     "output_type": "stream",
     "text": [
      "22126\n",
      "22126\n"
     ]
    }
   ],
   "source": [
    "print(len(tweets_df))\n",
    "tweets_df = tweets_df[tweets_df[rr.active_column].apply(lambda x: len(x)>0)]\n",
    "print(len(tweets_df))"
   ]
  },
  {
   "cell_type": "code",
   "execution_count": 110,
   "metadata": {
    "collapsed": false
   },
   "outputs": [
    {
     "data": {
      "text/html": [
       "<div>\n",
       "<table border=\"1\" class=\"dataframe\">\n",
       "  <thead>\n",
       "    <tr style=\"text-align: right;\">\n",
       "      <th></th>\n",
       "      <th>text</th>\n",
       "      <th>text_active</th>\n",
       "    </tr>\n",
       "    <tr>\n",
       "      <th>created_at</th>\n",
       "      <th></th>\n",
       "      <th></th>\n",
       "    </tr>\n",
       "  </thead>\n",
       "  <tbody>\n",
       "    <tr>\n",
       "      <th>2013-01-15 23:26:04</th>\n",
       "      <td>#Griep</td>\n",
       "      <td>#Griep</td>\n",
       "    </tr>\n",
       "    <tr>\n",
       "      <th>2013-01-22 08:00:25</th>\n",
       "      <td>Wakker#griep</td>\n",
       "      <td>Wakker#griep</td>\n",
       "    </tr>\n",
       "  </tbody>\n",
       "</table>\n",
       "</div>"
      ],
      "text/plain": [
       "                             text   text_active\n",
       "created_at                                     \n",
       "2013-01-15 23:26:04        #Griep        #Griep\n",
       "2013-01-22 08:00:25  Wakker#griep  Wakker#griep"
      ]
     },
     "execution_count": 110,
     "metadata": {},
     "output_type": "execute_result"
    }
   ],
   "source": [
    "tweets_df[tweets_df[rr.active_column].apply(lambda x: len(x.split())==1)][[\"text\", rr.active_column]]"
   ]
  },
  {
   "cell_type": "code",
   "execution_count": 111,
   "metadata": {
    "collapsed": false
   },
   "outputs": [
    {
     "name": "stdout",
     "output_type": "stream",
     "text": [
      "22126\n",
      "22124\n"
     ]
    }
   ],
   "source": [
    "print(len(tweets_df))\n",
    "tweets_df = tweets_df[tweets_df[rr.active_column].apply(lambda x: len(x.split())>1)]\n",
    "print(len(tweets_df))"
   ]
  },
  {
   "cell_type": "code",
   "execution_count": 112,
   "metadata": {
    "collapsed": false
   },
   "outputs": [
    {
     "data": {
      "text/html": [
       "<div>\n",
       "<table border=\"1\" class=\"dataframe\">\n",
       "  <thead>\n",
       "    <tr style=\"text-align: right;\">\n",
       "      <th></th>\n",
       "      <th>text</th>\n",
       "      <th>text_active</th>\n",
       "    </tr>\n",
       "    <tr>\n",
       "      <th>created_at</th>\n",
       "      <th></th>\n",
       "      <th></th>\n",
       "    </tr>\n",
       "  </thead>\n",
       "  <tbody>\n",
       "  </tbody>\n",
       "</table>\n",
       "</div>"
      ],
      "text/plain": [
       "Empty DataFrame\n",
       "Columns: [text, text_active]\n",
       "Index: []"
      ]
     },
     "execution_count": 112,
     "metadata": {},
     "output_type": "execute_result"
    }
   ],
   "source": [
    "tweets_df[tweets_df[rr.active_column].apply(lambda x: len(x.split())==1)][[\"text\", rr.active_column]]"
   ]
  },
  {
   "cell_type": "code",
   "execution_count": 113,
   "metadata": {
    "collapsed": false
   },
   "outputs": [
    {
     "data": {
      "text/html": [
       "<div>\n",
       "<table border=\"1\" class=\"dataframe\">\n",
       "  <thead>\n",
       "    <tr style=\"text-align: right;\">\n",
       "      <th></th>\n",
       "      <th>coordinates</th>\n",
       "      <th>country</th>\n",
       "      <th>device</th>\n",
       "      <th>entity_hashtags</th>\n",
       "      <th>entity_mentions</th>\n",
       "      <th>entity_type</th>\n",
       "      <th>entity_urls</th>\n",
       "      <th>id_str</th>\n",
       "      <th>in_reply_to_user_id</th>\n",
       "      <th>is_retweet</th>\n",
       "      <th>screen_name</th>\n",
       "      <th>text</th>\n",
       "      <th>user_followers</th>\n",
       "      <th>user_following</th>\n",
       "      <th>user_id</th>\n",
       "      <th>user_loc</th>\n",
       "      <th>user_tzone</th>\n",
       "      <th>tweet_count</th>\n",
       "      <th>text_active</th>\n",
       "    </tr>\n",
       "    <tr>\n",
       "      <th>created_at</th>\n",
       "      <th></th>\n",
       "      <th></th>\n",
       "      <th></th>\n",
       "      <th></th>\n",
       "      <th></th>\n",
       "      <th></th>\n",
       "      <th></th>\n",
       "      <th></th>\n",
       "      <th></th>\n",
       "      <th></th>\n",
       "      <th></th>\n",
       "      <th></th>\n",
       "      <th></th>\n",
       "      <th></th>\n",
       "      <th></th>\n",
       "      <th></th>\n",
       "      <th></th>\n",
       "      <th></th>\n",
       "      <th></th>\n",
       "    </tr>\n",
       "  </thead>\n",
       "  <tbody>\n",
       "    <tr>\n",
       "      <th>2013-01-30 12:39:26</th>\n",
       "      <td>None</td>\n",
       "      <td>NaN</td>\n",
       "      <td>web</td>\n",
       "      <td>[]</td>\n",
       "      <td>[]</td>\n",
       "      <td>NaN</td>\n",
       "      <td>[]</td>\n",
       "      <td>296598496771993603</td>\n",
       "      <td>NaN</td>\n",
       "      <td>False</td>\n",
       "      <td>FIGHTING4POWER</td>\n",
       "      <td># De griep heeft mij te pakken!!!! Deze week vervallen helaas alle Fighting4Power trainingen.</td>\n",
       "      <td>82</td>\n",
       "      <td>178</td>\n",
       "      <td>436918154</td>\n",
       "      <td>The Netherlands, Utrecht</td>\n",
       "      <td>Amsterdam</td>\n",
       "      <td>1</td>\n",
       "      <td># De griep heeft mij te pakken!!!! Deze week vervallen helaas alle Fighting4Power trainingen.</td>\n",
       "    </tr>\n",
       "  </tbody>\n",
       "</table>\n",
       "</div>"
      ],
      "text/plain": [
       "                    coordinates country device entity_hashtags  \\\n",
       "created_at                                                       \n",
       "2013-01-30 12:39:26        None     NaN    web              []   \n",
       "\n",
       "                    entity_mentions entity_type entity_urls  \\\n",
       "created_at                                                    \n",
       "2013-01-30 12:39:26              []         NaN          []   \n",
       "\n",
       "                                 id_str  in_reply_to_user_id is_retweet  \\\n",
       "created_at                                                                \n",
       "2013-01-30 12:39:26  296598496771993603                  NaN      False   \n",
       "\n",
       "                        screen_name  \\\n",
       "created_at                            \n",
       "2013-01-30 12:39:26  FIGHTING4POWER   \n",
       "\n",
       "                                                                                                              text  \\\n",
       "created_at                                                                                                           \n",
       "2013-01-30 12:39:26  # De griep heeft mij te pakken!!!! Deze week vervallen helaas alle Fighting4Power trainingen.   \n",
       "\n",
       "                     user_followers  user_following    user_id  \\\n",
       "created_at                                                       \n",
       "2013-01-30 12:39:26              82             178  436918154   \n",
       "\n",
       "                                     user_loc user_tzone  tweet_count  \\\n",
       "created_at                                                              \n",
       "2013-01-30 12:39:26  The Netherlands, Utrecht  Amsterdam            1   \n",
       "\n",
       "                                                                                                       text_active  \n",
       "created_at                                                                                                          \n",
       "2013-01-30 12:39:26  # De griep heeft mij te pakken!!!! Deze week vervallen helaas alle Fighting4Power trainingen.  "
      ]
     },
     "execution_count": 113,
     "metadata": {},
     "output_type": "execute_result"
    }
   ],
   "source": [
    "tweets_df[tweets_df[rr.active_column].str.startswith(\"# \")]"
   ]
  },
  {
   "cell_type": "code",
   "execution_count": 176,
   "metadata": {
    "collapsed": false
   },
   "outputs": [
    {
     "name": "stdout",
     "output_type": "stream",
     "text": [
      "Jammer genoeg muh griep :'( :'( liet t niet toe overstr te zijn zo n owru yari :(\n",
      "['jammer', 'genoeg', 'muh', 'griep', 'liet', 't', 'niet', 'toe', 'overstr', 'te', 'zijn', 'zo', 'n', 'owru', 'yari']\n",
      "\n",
      "Zo en dan nu een week lang handen schudden. Extra aantrekkelijk omdat half NL griep heeft.\n",
      "['zo', 'en', 'dan', 'nu', 'een', 'week', 'lang', 'handen', 'schudden', 'extra', 'aantrekkelijk', 'omdat', 'half', 'nl', 'griep', 'heeft']\n",
      "\n",
      "Ik kom je bezoeken, je ligt op bed, ik kom in je, je gaat trillen en zweten, je kreunt.... Groetjes, de Griep #KapotGrappig\n",
      "['ik', 'kom', 'je', 'bezoeken', 'je', 'ligt', 'op', 'bed', 'ik', 'kom', 'in', 'je', 'je', 'gaat', 'trillen', 'en', 'zweten', 'je', 'kreunt', 'groetjes', 'de', 'griep', '#kapotgrappig']\n",
      "\n",
      "RT usrusr Ik kom je bezoeken, je ligt op bed, ik kom in je, je gaat trillen en zweten, je kreunt.... Groetjes, de Griep #KapotGr ...\n",
      "['rt', 'usrusr', 'ik', 'kom', 'je', 'bezoeken', 'je', 'ligt', 'op', 'bed', 'ik', 'kom', 'in', 'je', 'je', 'gaat', 'trillen', 'en', 'zweten', 'je', 'kreunt', 'groetjes', 'de', 'griep', '#kapotgr']\n",
      "\n",
      "usrusr Ik kom je bezoeken, je ligt op bed, ik kom in je, je gaat trillen en zweten, je kreunt.... Groetjes, de Griep #KapotGrappig\n",
      "['usrusr', 'ik', 'kom', 'je', 'bezoeken', 'je', 'ligt', 'op', 'bed', 'ik', 'kom', 'in', 'je', 'je', 'gaat', 'trillen', 'en', 'zweten', 'je', 'kreunt', 'groetjes', 'de', 'griep', '#kapotgrappig']\n",
      "\n",
      "vanmiddag impulsief zomaar-kunstgeschenkje  gebracht naar kanjer die het verdiend heeft; op de stoep gebleven want griep=niet goed voor haar\n",
      "['vanmiddag', 'impulsief', 'zomaar-kunstgeschenkje', 'gebracht', 'naar', 'kanjer', 'die', 'het', 'verdiend', 'heeft', 'op', 'de', 'stoep', 'gebleven', 'want', 'griep', 'niet', 'goed', 'voor', 'haar']\n",
      "\n",
      "Stem weg, griep en thuis moeten blijven ..........\n",
      "['stem', 'weg', 'griep', 'en', 'thuis', 'moeten', 'blijven']\n",
      "\n",
      "usrusr Mel ik heb weer griep -.-\n",
      "['usrusr', 'mel', 'ik', 'heb', 'weer', 'griep']\n",
      "\n",
      "ik verveel me de griep hiero usrusr\n",
      "['ik', 'verveel', 'me', 'de', 'griep', 'hiero', 'usrusr']\n",
      "\n",
      "No mag bai brionplein doordat ik griep heb :'(  zo gemeen is iedereen en dit griep en al:(\n",
      "['no', 'mag', 'bai', 'brionplein', 'doordat', 'ik', 'griep', 'heb', 'zo', 'gemeen', 'is', 'iedereen', 'en', 'dit', 'griep', 'en', 'al']\n",
      "\n"
     ]
    }
   ],
   "source": [
    "token_cntr = Counter()\n",
    "i = 0\n",
    "for txt, toks in zip(tweets_df[rr.active_column], tweets_df[rr.active_column].str.lower().str.findall(rr.my_token_pattern)):\n",
    "    print(txt)\n",
    "    print(toks)\n",
    "    print()\n",
    "    token_cntr.update(toks)\n",
    "    i+=1\n",
    "    if i == 10:\n",
    "        break"
   ]
  },
  {
   "cell_type": "code",
   "execution_count": 116,
   "metadata": {
    "collapsed": false
   },
   "outputs": [
    {
     "name": "stdout",
     "output_type": "stream",
     "text": [
      "[('griep', 79), ('de', 45), ('ik', 37), ('een', 34), ('en', 33), ('je', 30), ('usrusr', 30), ('het', 29), ('#griep', 22), ('niet', 20), ('maar', 19), ('in', 19), ('van', 18), ('jaar', 17), ('dat', 16), ('2013', 16), ('met', 16), ('nog', 14), ('is', 14), ('op', 13), ('te', 13), ('mijn', 12), ('nu', 11), ('voor', 11), ('die', 10), ('heb', 10), ('ook', 9), ('begin', 9), ('zo', 9), ('al', 8), ('bed', 8), ('naar', 8), ('heeft', 8), ('ziek', 8), ('zijn', 8), ('nieuwe', 7), ('dus', 7), ('ben', 7), ('kom', 7), ('echt', 7), ('lekker', 7), ('aan', 7), ('mij', 7), ('goed', 7), ('weer', 7), ('me', 7), ('door', 6), ('wel', 6), ('gaat', 6), ('er', 6), ('begint', 6), ('gehad', 6), ('ja', 6), ('iedereen', 6), ('gelukkig', 6), ('we', 6), ('n', 5), ('toch', 5), ('geen', 5), ('dit', 5), ('t', 5), ('beter', 5), ('wat', 5), ('kan', 4), ('dan', 4), ('niks', 4), ('om', 4), ('nieuwjaar', 4), ('als', 4), ('gezond', 4), ('nacht', 4), ('heel', 4), ('bezoeken', 4), ('andere', 4), ('was', 4), ('wakker', 4), ('af', 4), ('rt', 4), ('ligt', 3), ('alsof', 3), ('o', 3), ('5', 3), ('volgens', 3), ('pakken', 3), ('wij', 3), ('trillen', 3), ('zweten', 3), ('over', 3), ('10', 3), ('of', 3), ('bier', 3), ('kreunt', 3), ('steeds', 3), ('bijna', 3), ('begonnen', 3), ('groetjes', 3), ('weg', 3), ('kater', 3), ('dag', 3), ('want', 3)]\n"
     ]
    }
   ],
   "source": [
    "print(token_cntr.most_common(100))"
   ]
  },
  {
   "cell_type": "code",
   "execution_count": 62,
   "metadata": {
    "collapsed": false
   },
   "outputs": [],
   "source": [
    "tweets_df[rr.active_column] = tweets_df[rr.active_column].str.lower()"
   ]
  },
  {
   "cell_type": "markdown",
   "metadata": {},
   "source": [
    "# Cluster the Tweets"
   ]
  },
  {
   "cell_type": "code",
   "execution_count": 121,
   "metadata": {
    "collapsed": false
   },
   "outputs": [
    {
     "name": "stdout",
     "output_type": "stream",
     "text": [
      "0 2013-01-01 00:04:41_2013-01-03 00:04:41 499, 1 2013-01-03 00:04:41_2013-01-05 00:04:41 1055, 2 2013-01-05 00:04:41_2013-01-07 00:04:41 855, 3 2013-01-07 00:04:41_2013-01-09 00:04:41 1600, 4 2013-01-09 00:04:41_2013-01-11 00:04:41 1408, 5 2013-01-11 00:04:41_2013-01-13 00:04:41 1010, 6 2013-01-13 00:04:41_2013-01-15 00:04:41 818, 7 2013-01-15 00:04:41_2013-01-17 00:04:41 936, 8 2013-01-17 00:04:41_2013-01-19 00:04:41 1236, 9 2013-01-19 00:04:41_2013-01-21 00:04:41 765, 10 2013-01-21 00:04:41_2013-01-23 00:04:41 1114, 11 2013-01-23 00:04:41_2013-01-25 00:04:41 1164, 12 2013-01-25 00:04:41_2013-01-27 00:04:41 1272, 13 2013-01-27 00:04:41_2013-01-29 00:04:41 1210, 14 2013-01-29 00:04:41_2013-01-31 00:04:41 1730, 15 2013-01-31 00:04:41_2013-02-02 00:04:41 1533, 16 2013-02-02 00:04:41_2013-02-04 00:04:41 1043, 17 2013-02-04 00:04:41_2013-02-06 00:04:41 1419, 18 2013-02-06 00:04:41_2013-02-08 00:04:41 1457, "
     ]
    }
   ],
   "source": [
    "cluster_list_per_hour1 = []\n",
    "for i, rs in enumerate(rngs):\n",
    "    tweets_daterange = str(rs[0])+\"_\"+str(rs[1])\n",
    "    print(i, tweets_daterange, len(tweets_df.ix[rs[0]:rs[1]]), end=\", \")\n",
    "    day_cluster_list = rr.create_clusters2(tweets_df.ix[rs[0]:rs[1]], rr.my_token_pattern, min_dist_thres=0.725, \n",
    "                                           max_dist_thres=0.875, min_max_diff_thres=0.4, nameprefix='1-', \n",
    "                                           min_clusters=50, user_identifier='user_id', myanalyzer='char_wb',\n",
    "                                          ngramrange=(3,5))\n",
    "    rr.cluster_to_text_file(\"201612.._griep_\"+str(tweets_daterange)+\"_clusters50_1.txt\", day_cluster_list)\n",
    "    cluster_list_per_hour1.append((tweets_daterange, day_cluster_list))"
   ]
  },
  {
   "cell_type": "code",
   "execution_count": 68,
   "metadata": {
    "collapsed": false
   },
   "outputs": [
    {
     "data": {
      "text/plain": [
       "dict_keys(['cnoprefix', 'user_entropy', 'cno', 'rif', 'twids', 'cstr', 'ctweettuplelist'])"
      ]
     },
     "execution_count": 68,
     "metadata": {},
     "output_type": "execute_result"
    }
   ],
   "source": [
    "cluster_list_per_hour1[0][1][0].keys()"
   ]
  },
  {
   "cell_type": "code",
   "execution_count": 69,
   "metadata": {
    "collapsed": false
   },
   "outputs": [
    {
     "data": {
      "text/plain": [
       "39"
      ]
     },
     "execution_count": 69,
     "metadata": {},
     "output_type": "execute_result"
    }
   ],
   "source": [
    "cluster_list_per_hour1[0][1][0][\"cno\"]"
   ]
  },
  {
   "cell_type": "code",
   "execution_count": 122,
   "metadata": {
    "collapsed": false
   },
   "outputs": [],
   "source": [
    "with open(\"2016121.._griep_hourly_clusters50_0.pickle\", 'wb') as f:\n",
    "    pickle.dump(cluster_list_per_hour1, f, pickle.HIGHEST_PROTOCOL)\n",
    "# # with open(\"201611.._earthq_hourly_clusters50_0.pickle\",'rb') as f:\n",
    "# #     cluster_list_per_day = pickle.load(f)"
   ]
  },
  {
   "cell_type": "code",
   "execution_count": 123,
   "metadata": {
    "collapsed": false
   },
   "outputs": [
    {
     "data": {
      "text/plain": [
       "(8997, 8997)"
      ]
     },
     "execution_count": 123,
     "metadata": {},
     "output_type": "execute_result"
    }
   ],
   "source": [
    "clustered_ids = []\n",
    "for dt, clst_day in cluster_list_per_hour1:\n",
    "    for clst in clst_day:\n",
    "        if clst[\"cno\"] != -1:\n",
    "            clustered_ids += clst[\"twids\"]\n",
    "len(clustered_ids), len(set(clustered_ids))"
   ]
  },
  {
   "cell_type": "code",
   "execution_count": 124,
   "metadata": {
    "collapsed": false
   },
   "outputs": [
    {
     "data": {
      "text/plain": [
       "(8997, 13127)"
      ]
     },
     "execution_count": 124,
     "metadata": {},
     "output_type": "execute_result"
    }
   ],
   "source": [
    "len(tweets_df[tweets_df.id_str.isin(clustered_ids)]), len(tweets_df[~tweets_df.id_str.isin(clustered_ids)])"
   ]
  },
  {
   "cell_type": "code",
   "execution_count": 125,
   "metadata": {
    "collapsed": false
   },
   "outputs": [
    {
     "data": {
      "text/plain": [
       "<matplotlib.axes._subplots.AxesSubplot at 0x11f4327f0>"
      ]
     },
     "execution_count": 125,
     "metadata": {},
     "output_type": "execute_result"
    },
    {
     "data": {
      "image/png": "[encoded data removed]",
      "text/plain": [
       "<matplotlib.figure.Figure at 0x11e8b3358>"
      ]
     },
     "metadata": {},
     "output_type": "display_data"
    }
   ],
   "source": [
    "tweets_df[tweets_df.id_str.isin(clustered_ids)].tweet_count.resample(\"H\").sum().plot()"
   ]
  },
  {
   "cell_type": "code",
   "execution_count": 126,
   "metadata": {
    "collapsed": false
   },
   "outputs": [
    {
     "data": {
      "text/plain": [
       "<matplotlib.axes._subplots.AxesSubplot at 0x1205bef60>"
      ]
     },
     "execution_count": 126,
     "metadata": {},
     "output_type": "execute_result"
    },
    {
     "data": {
      "image/png": "[encoded data removed]",
      "text/plain": [
       "<matplotlib.figure.Figure at 0x12760d5f8>"
      ]
     },
     "metadata": {},
     "output_type": "display_data"
    }
   ],
   "source": [
    "tweets_df[~tweets_df.id_str.isin(clustered_ids)].tweet_count.resample(\"H\").sum().plot()"
   ]
  },
  {
   "cell_type": "code",
   "execution_count": 127,
   "metadata": {
    "collapsed": false
   },
   "outputs": [
    {
     "data": {
      "text/plain": [
       "<matplotlib.axes._subplots.AxesSubplot at 0x11ce1efd0>"
      ]
     },
     "execution_count": 127,
     "metadata": {},
     "output_type": "execute_result"
    },
    {
     "data": {
      "image/png": "[encoded data removed]",
      "text/plain": [
       "<matplotlib.figure.Figure at 0x12c8dcac8>"
      ]
     },
     "metadata": {},
     "output_type": "display_data"
    }
   ],
   "source": [
    "tweets_df.tweet_count.resample(\"H\").sum().plot()"
   ]
  },
  {
   "cell_type": "code",
   "execution_count": 128,
   "metadata": {
    "collapsed": true
   },
   "outputs": [],
   "source": [
    "not_clustered_tweets_df = tweets_df[~tweets_df.id_str.isin(clustered_ids)]"
   ]
  },
  {
   "cell_type": "code",
   "execution_count": 129,
   "metadata": {
    "collapsed": false
   },
   "outputs": [],
   "source": [
    "cluster_list_2 = rr.create_clusters2(not_clustered_tweets_df, rr.my_token_pattern, min_dist_thres=0.725,\n",
    "                                     max_dist_thres=0.875, min_max_diff_thres=0.4, nameprefix='1-', \n",
    "                                     min_clusters=50, user_identifier='user_id', myanalyzer='char_wb',\n",
    "                                     ngramrange=(3,5))"
   ]
  },
  {
   "cell_type": "code",
   "execution_count": 131,
   "metadata": {
    "collapsed": false
   },
   "outputs": [],
   "source": [
    "rr.cluster_to_text_file(\"201612.._griep_clusters50_allafterHourly_0.txt\", cluster_list_2)"
   ]
  },
  {
   "cell_type": "code",
   "execution_count": 132,
   "metadata": {
    "collapsed": false
   },
   "outputs": [],
   "source": [
    "with open(\"201612.._griep_2day_clusters50_allafterHourly_0.pickle\", 'wb') as f:\n",
    "    pickle.dump(cluster_list_2, f, pickle.HIGHEST_PROTOCOL)\n",
    "# with open(\"20161.._earthq_hourly_clusters50_allafterdaily_0.pickle\", 'rb') as f:\n",
    "#     cluster_list_2 = pickle.load(f)\n",
    "    #print(len(pickle.load(f)))"
   ]
  },
  {
   "cell_type": "code",
   "execution_count": 133,
   "metadata": {
    "collapsed": false
   },
   "outputs": [],
   "source": [
    "clustered_ids2 = []\n",
    "for clst in cluster_list_2:\n",
    "    if clst[\"cno\"] != -1:\n",
    "        clustered_ids2 += clst[\"twids\"]"
   ]
  },
  {
   "cell_type": "code",
   "execution_count": 134,
   "metadata": {
    "collapsed": false
   },
   "outputs": [
    {
     "data": {
      "text/plain": [
       "<matplotlib.axes._subplots.AxesSubplot at 0x143342c50>"
      ]
     },
     "execution_count": 134,
     "metadata": {},
     "output_type": "execute_result"
    },
    {
     "data": {
      "image/png": "[encoded data removed]",
      "text/plain": [
       "<matplotlib.figure.Figure at 0x11ab67128>"
      ]
     },
     "metadata": {},
     "output_type": "display_data"
    }
   ],
   "source": [
    "tweets_df[tweets_df.id_str.isin(clustered_ids2)].tweet_count.resample(\"H\").sum().plot()"
   ]
  },
  {
   "cell_type": "code",
   "execution_count": 135,
   "metadata": {
    "collapsed": false
   },
   "outputs": [
    {
     "data": {
      "text/plain": [
       "<matplotlib.axes._subplots.AxesSubplot at 0x12de5a9b0>"
      ]
     },
     "execution_count": 135,
     "metadata": {},
     "output_type": "execute_result"
    },
    {
     "data": {
      "image/png": "[encoded data removed]",
      "text/plain": [
       "<matplotlib.figure.Figure at 0x12697d9e8>"
      ]
     },
     "metadata": {},
     "output_type": "display_data"
    }
   ],
   "source": [
    "tweets_df[tweets_df.id_str.isin(clustered_ids+clustered_ids2)].tweet_count.resample(\"H\").sum().plot()"
   ]
  },
  {
   "cell_type": "code",
   "execution_count": 136,
   "metadata": {
    "collapsed": false
   },
   "outputs": [
    {
     "data": {
      "text/plain": [
       "<matplotlib.axes._subplots.AxesSubplot at 0x120f4d668>"
      ]
     },
     "execution_count": 136,
     "metadata": {},
     "output_type": "execute_result"
    },
    {
     "data": {
      "image/png": "[encoded data removed]",
      "text/plain": [
       "<matplotlib.figure.Figure at 0x11f6b0eb8>"
      ]
     },
     "metadata": {},
     "output_type": "display_data"
    }
   ],
   "source": [
    "not_clustered_tweets_df2 = tweets_df[~tweets_df.id_str.isin(clustered_ids+clustered_ids2)]\n",
    "not_clustered_tweets_df2.tweet_count.resample(\"H\").sum().plot()"
   ]
  },
  {
   "cell_type": "code",
   "execution_count": 137,
   "metadata": {
    "collapsed": false
   },
   "outputs": [],
   "source": [
    "# uncomment just once to add cluster_list_2 to the list!\n",
    "#cluster_list_per_hour1.append((\"all_hours\", cluster_list_2))"
   ]
  },
  {
   "cell_type": "code",
   "execution_count": 138,
   "metadata": {
    "collapsed": false
   },
   "outputs": [
    {
     "data": {
      "text/plain": [
       "'all_hours'"
      ]
     },
     "execution_count": 138,
     "metadata": {},
     "output_type": "execute_result"
    }
   ],
   "source": [
    "cluster_list_per_hour1[-1][0]"
   ]
  },
  {
   "cell_type": "code",
   "execution_count": 139,
   "metadata": {
    "collapsed": true
   },
   "outputs": [],
   "source": [
    "flat_cluster_list = []\n",
    "for clst in cluster_list_per_hour1:\n",
    "    for c in clst[1]:\n",
    "        if c[\"cno\"] == -1:\n",
    "            continue\n",
    "        c[\"hour\"] = clst[0]\n",
    "        flat_cluster_list.append(c)"
   ]
  },
  {
   "cell_type": "code",
   "execution_count": 140,
   "metadata": {
    "collapsed": false
   },
   "outputs": [
    {
     "data": {
      "text/plain": [
       "(1066,\n",
       " dict_keys(['rif', 'user_entropy', 'cnoprefix', 'cstr', 'hour', 'ctweettuplelist', 'cno', 'twids']))"
      ]
     },
     "execution_count": 140,
     "metadata": {},
     "output_type": "execute_result"
    }
   ],
   "source": [
    "len(flat_cluster_list), flat_cluster_list[0].keys()"
   ]
  },
  {
   "cell_type": "code",
   "execution_count": 141,
   "metadata": {
    "collapsed": true
   },
   "outputs": [],
   "source": [
    "rr.cluster_to_text_file(\"201612016_griep_hourly_clusters50_all_0.txt\", flat_cluster_list)"
   ]
  },
  {
   "cell_type": "code",
   "execution_count": 146,
   "metadata": {
    "collapsed": true
   },
   "outputs": [],
   "source": [
    "# with open(\"20161216_griep_hourly_clusters50_all_0.pickle\", 'wb') as f:\n",
    "#     pickle.dump(flat_cluster_list, f, pickle.HIGHEST_PROTOCOL)"
   ]
  },
  {
   "cell_type": "code",
   "execution_count": 147,
   "metadata": {
    "collapsed": true
   },
   "outputs": [],
   "source": [
    "# Just in case back-up.\n",
    "# with open(\"20161216_griep_hourly_clusters50_all_with_unclusteredIDs_0.pickle\", 'wb') as f:\n",
    "#     pickle.dump(cluster_list_per_hour1, f, pickle.HIGHEST_PROTOCOL)"
   ]
  },
  {
   "cell_type": "code",
   "execution_count": 143,
   "metadata": {
    "collapsed": false
   },
   "outputs": [],
   "source": [
    "# create a file for the annotation. You need it once! It overwrites any available file with the same name.\n",
    "# with open(\"20161216_earthq_hourly_clusters50_all_0_labels.txt\", \"w\") as f:\n",
    "#     for i in range(0,len(flat_cluster_list)):\n",
    "#         f.write(str(i)+\":\\n\")"
   ]
  },
  {
   "cell_type": "markdown",
   "metadata": {},
   "source": [
    "# Annotate"
   ]
  },
  {
   "cell_type": "code",
   "execution_count": null,
   "metadata": {
    "collapsed": true
   },
   "outputs": [],
   "source": [
    "Some explanation is provided in the presentation."
   ]
  },
  {
   "cell_type": "markdown",
   "metadata": {
    "collapsed": false
   },
   "source": [
    "# Read Annotated clusters & Create a Classifier"
   ]
  },
  {
   "cell_type": "code",
   "execution_count": 154,
   "metadata": {
    "collapsed": false
   },
   "outputs": [
    {
     "name": "stdout",
     "output_type": "stream",
     "text": [
      "1066 ['0:irrelevant', '1:goodwish', '2:ziekmelding', '3:ziekmelding', '4:ziekmelding', '5:incoherent', '6:news', '7:', '8:incoherent', '9:incoherent', '10:', '11:', '12:', '13:', '14:', '15:', '16:', '17:', '18:', '19:', '20:', '21:', '22:', '23:', '24:', '25:', '26:', '27:', '28:', '29:', '30:', '31:', '32:', '33:', '34:', '35:', '36:', '37:', '38:', '39:', '40:', '41:', '42:', '43:', '44:', '45:', '46:', '47:', '48:', '49:', '50:', '51:', '52:', '53:', '54:', '55:', '56:', '57:', '58:', '59:', '60:', '61:', '62:', '63:', '64:', '65:', '66:', '67:', '68:', '69:', '70:', '71:', '72:', '73:', '74:', '75:', '76:', '77:', '78:', '79:', '80:', '81:', '82:', '83:', '84:', '85:', '86:', '87:', '88:', '89:', '90:', '91:', '92:', '93:', '94:', '95:', '96:', '97:', '98:', '99:', '100:', '101:', '102:', '103:', '104:', '105:', '106:', '107:', '108:', '109:', '110:', '111:', '112:', '113:', '114:', '115:', '116:', '117:', '118:', '119:', '120:', '121:', '122:', '123:', '124:', '125:', '126:', '127:', '128:', '129:', '130:', '131:', '132:', '133:', '134:', '135:', '136:', '137:', '138:', '139:', '140:', '141:', '142:', '143:', '144:', '145:', '146:', '147:', '148:', '149:', '150:', '151:', '152:', '153:', '154:', '155:', '156:', '157:', '158:', '159:', '160:', '161:', '162:', '163:', '164:', '165:', '166:', '167:', '168:', '169:', '170:', '171:', '172:', '173:', '174:', '175:', '176:', '177:', '178:', '179:', '180:', '181:', '182:', '183:', '184:', '185:', '186:', '187:', '188:', '189:', '190:', '191:', '192:', '193:', '194:', '195:', '196:', '197:', '198:', '199:', '200:', '201:', '202:', '203:', '204:', '205:', '206:', '207:', '208:', '209:', '210:', '211:', '212:', '213:', '214:', '215:', '216:', '217:', '218:', '219:', '220:', '221:', '222:', '223:', '224:', '225:', '226:', '227:', '228:', '229:', '230:', '231:', '232:', '233:', '234:', '235:', '236:', '237:', '238:', '239:', '240:', '241:', '242:', '243:', '244:', '245:', '246:', '247:', '248:', '249:', '250:', '251:', '252:', '253:', '254:', '255:', '256:', '257:', '258:', '259:', '260:', '261:', '262:', '263:', '264:', '265:', '266:', '267:', '268:', '269:', '270:', '271:', '272:', '273:', '274:', '275:', '276:', '277:', '278:', '279:', '280:', '281:', '282:', '283:', '284:', '285:', '286:', '287:', '288:', '289:', '290:', '291:', '292:', '293:', '294:', '295:', '296:', '297:', '298:', '299:', '300:', '301:', '302:', '303:', '304:', '305:', '306:', '307:', '308:', '309:', '310:', '311:', '312:', '313:', '314:', '315:', '316:', '317:', '318:', '319:', '320:', '321:', '322:', '323:', '324:', '325:', '326:', '327:', '328:', '329:', '330:', '331:', '332:', '333:', '334:', '335:', '336:', '337:', '338:', '339:', '340:', '341:', '342:', '343:', '344:', '345:', '346:', '347:', '348:', '349:', '350:', '351:', '352:', '353:', '354:', '355:', '356:', '357:', '358:', '359:', '360:', '361:', '362:', '363:', '364:', '365:', '366:', '367:', '368:', '369:', '370:', '371:', '372:', '373:', '374:', '375:', '376:', '377:', '378:', '379:', '380:', '381:', '382:', '383:', '384:', '385:', '386:', '387:', '388:', '389:', '390:', '391:', '392:', '393:', '394:', '395:', '396:', '397:', '398:', '399:', '400:', '401:', '402:', '403:', '404:', '405:', '406:', '407:', '408:', '409:', '410:', '411:', '412:', '413:', '414:', '415:', '416:', '417:', '418:', '419:', '420:', '421:', '422:', '423:', '424:', '425:', '426:', '427:', '428:', '429:', '430:', '431:', '432:', '433:', '434:', '435:', '436:', '437:', '438:', '439:', '440:', '441:', '442:', '443:', '444:', '445:', '446:', '447:', '448:', '449:', '450:', '451:', '452:', '453:', '454:', '455:', '456:', '457:', '458:', '459:', '460:', '461:', '462:', '463:', '464:', '465:', '466:', '467:', '468:', '469:', '470:', '471:', '472:', '473:', '474:', '475:', '476:', '477:', '478:', '479:', '480:', '481:', '482:', '483:', '484:', '485:', '486:', '487:', '488:', '489:', '490:', '491:', '492:', '493:', '494:', '495:', '496:', '497:', '498:', '499:', '500:', '501:', '502:', '503:', '504:', '505:', '506:', '507:', '508:', '509:', '510:', '511:', '512:', '513:', '514:', '515:', '516:', '517:', '518:', '519:', '520:', '521:', '522:', '523:', '524:', '525:', '526:', '527:', '528:', '529:', '530:', '531:', '532:', '533:', '534:', '535:', '536:', '537:', '538:', '539:', '540:', '541:', '542:', '543:', '544:', '545:', '546:', '547:', '548:', '549:', '550:', '551:', '552:', '553:', '554:', '555:', '556:', '557:', '558:', '559:', '560:', '561:', '562:', '563:', '564:', '565:', '566:', '567:', '568:', '569:', '570:', '571:', '572:', '573:', '574:', '575:', '576:', '577:', '578:', '579:', '580:', '581:', '582:', '583:', '584:', '585:', '586:', '587:', '588:', '589:', '590:', '591:', '592:', '593:', '594:', '595:', '596:', '597:', '598:', '599:', '600:', '601:', '602:', '603:', '604:', '605:', '606:', '607:', '608:', '609:', '610:', '611:', '612:', '613:', '614:', '615:', '616:', '617:', '618:', '619:', '620:', '621:', '622:', '623:', '624:', '625:', '626:', '627:', '628:', '629:', '630:', '631:', '632:', '633:', '634:', '635:', '636:', '637:', '638:', '639:', '640:', '641:', '642:', '643:', '644:', '645:', '646:', '647:', '648:', '649:', '650:', '651:', '652:', '653:', '654:', '655:', '656:', '657:', '658:', '659:', '660:', '661:', '662:', '663:', '664:', '665:', '666:', '667:', '668:', '669:', '670:', '671:', '672:', '673:', '674:', '675:', '676:', '677:', '678:', '679:', '680:', '681:', '682:', '683:', '684:', '685:', '686:', '687:', '688:', '689:', '690:', '691:', '692:', '693:', '694:', '695:', '696:', '697:', '698:', '699:', '700:', '701:', '702:', '703:', '704:', '705:', '706:', '707:', '708:', '709:', '710:', '711:', '712:', '713:', '714:', '715:', '716:', '717:', '718:', '719:', '720:', '721:', '722:', '723:', '724:', '725:', '726:', '727:', '728:', '729:', '730:', '731:', '732:', '733:', '734:', '735:', '736:', '737:', '738:', '739:', '740:', '741:', '742:', '743:', '744:', '745:', '746:', '747:', '748:', '749:', '750:', '751:', '752:', '753:', '754:', '755:', '756:', '757:', '758:', '759:', '760:', '761:', '762:', '763:', '764:', '765:', '766:', '767:', '768:', '769:', '770:', '771:', '772:', '773:', '774:', '775:', '776:', '777:', '778:', '779:', '780:', '781:', '782:', '783:', '784:', '785:', '786:', '787:', '788:', '789:', '790:', '791:', '792:', '793:', '794:', '795:', '796:', '797:', '798:', '799:', '800:', '801:', '802:', '803:', '804:', '805:', '806:', '807:', '808:', '809:', '810:', '811:', '812:', '813:', '814:', '815:', '816:', '817:', '818:', '819:', '820:', '821:', '822:', '823:', '824:', '825:', '826:', '827:', '828:', '829:', '830:', '831:', '832:', '833:', '834:', '835:', '836:', '837:', '838:', '839:', '840:', '841:', '842:', '843:', '844:', '845:', '846:', '847:', '848:', '849:', '850:', '851:', '852:', '853:', '854:', '855:', '856:', '857:', '858:', '859:', '860:', '861:', '862:', '863:', '864:', '865:', '866:', '867:', '868:', '869:', '870:', '871:', '872:', '873:', '874:', '875:', '876:', '877:', '878:', '879:', '880:', '881:', '882:', '883:', '884:', '885:', '886:', '887:', '888:', '889:', '890:', '891:', '892:', '893:', '894:', '895:', '896:', '897:', '898:', '899:', '900:', '901:', '902:', '903:', '904:', '905:', '906:', '907:', '908:', '909:', '910:', '911:', '912:', '913:', '914:', '915:', '916:', '917:', '918:', '919:', '920:', '921:', '922:', '923:', '924:', '925:', '926:', '927:', '928:', '929:', '930:', '931:', '932:', '933:', '934:', '935:', '936:', '937:', '938:', '939:', '940:', '941:', '942:', '943:', '944:', '945:', '946:', '947:', '948:', '949:', '950:', '951:', '952:', '953:', '954:', '955:', '956:', '957:', '958:', '959:', '960:', '961:', '962:', '963:', '964:', '965:', '966:', '967:', '968:', '969:', '970:', '971:', '972:', '973:', '974:', '975:', '976:', '977:', '978:', '979:', '980:', '981:', '982:', '983:', '984:', '985:', '986:', '987:', '988:', '989:', '990:', '991:', '992:', '993:', '994:', '995:', '996:', '997:', '998:', '999:', '1000:', '1001:', '1002:', '1003:', '1004:', '1005:', '1006:', '1007:', '1008:', '1009:', '1010:', '1011:', '1012:', '1013:', '1014:', '1015:', '1016:', '1017:', '1018:', '1019:', '1020:', '1021:', '1022:', '1023:', '1024:', '1025:', '1026:', '1027:', '1028:', '1029:', '1030:', '1031:', '1032:', '1033:', '1034:', '1035:', '1036:', '1037:', '1038:', '1039:', '1040:', '1041:', '1042:', '1043:', '1044:', '1045:', '1046:', '1047:', '1048:', '1049:', '1050:', '1051:', '1052:', '1053:', '1054:', '1055:', '1056:', '1057:', '1058:', '1059:', '1060:', '1061:', '1062:', '1063:', '1064:', '1065:'] {'629': '', '699': '', '1065': '', '568': '', '522': '', '618': '', '273': '', '64': '', '902': '', '1052': '', '286': '', '359': '', '886': '', '205': '', '735': '', '154': '', '960': '', '196': '', '507': '', '224': '', '853': '', '36': '', '470': '', '622': '', '215': '', '934': '', '282': '', '947': '', '676': '', '1049': '', '766': '', '779': '', '765': '', '249': '', '956': '', '997': '', '206': '', '753': '', '774': '', '203': '', '937': '', '544': '', '911': '', '347': '', '1010': '', '271': '', '756': '', '108': '', '195': '', '438': '', '402': '', '100': '', '314': '', '288': '', '457': '', '412': '', '295': '', '851': '', '610': '', '187': '', '259': '', '694': '', '575': '', '216': '', '22': '', '698': '', '293': '', '261': '', '376': '', '156': '', '730': '', '128': '', '190': '', '631': '', '686': '', '394': '', '174': '', '855': '', '173': '', '157': '', '868': '', '277': '', '599': '', '227': '', '411': '', '825': '', '452': '', '390': '', '892': '', '1064': '', '728': '', '138': '', '106': '', '696': '', '782': '', '127': '', '565': '', '963': '', '98': '', '852': '', '929': '', '930': '', '38': '', '941': '', '355': '', '864': '', '480': '', '61': '', '140': '', '845': '', '258': '', '1060': '', '989': '', '637': '', '1030': '', '7': '', '502': '', '923': '', '255': '', '944': '', '257': '', '893': '', '687': '', '541': '', '711': '', '856': '', '361': '', '327': '', '866': '', '980': '', '237': '', '806': '', '639': '', '454': '', '0': 'irrelevant', '894': '', '329': '', '133': '', '445': '', '458': '', '8': 'incoherent', '527': '', '722': '', '167': '', '292': '', '1057': '', '125': '', '909': '', '690': '', '898': '', '580': '', '748': '', '57': '', '745': '', '737': '', '386': '', '339': '', '995': '', '65': '', '1035': '', '714': '', '1034': '', '1023': '', '1005': '', '567': '', '204': '', '585': '', '297': '', '958': '', '981': '', '481': '', '625': '', '448': '', '1041': '', '1004': '', '818': '', '490': '', '560': '', '785': '', '925': '', '665': '', '18': '', '662': '', '353': '', '538': '', '130': '', '417': '', '161': '', '783': '', '147': '', '418': '', '443': '', '214': '', '523': '', '754': '', '419': '', '41': '', '614': '', '432': '', '648': '', '281': '', '1019': '', '796': '', '306': '', '178': '', '336': '', '150': '', '47': '', '959': '', '529': '', '899': '', '750': '', '927': '', '729': '', '1062': '', '621': '', '340': '', '999': '', '746': '', '836': '', '6': 'news', '532': '', '661': '', '268': '', '182': '', '677': '', '497': '', '391': '', '810': '', '77': '', '447': '', '816': '', '482': '', '334': '', '535': '', '553': '', '743': '', '284': '', '144': '', '771': '', '365': '', '678': '', '151': '', '253': '', '468': '', '44': '', '472': '', '473': '', '713': '', '389': '', '373': '', '663': '', '201': '', '229': '', '165': '', '623': '', '870': '', '437': '', '256': '', '25': '', '92': '', '28': '', '155': '', '337': '', '834': '', '55': '', '315': '', '828': '', '608': '', '489': '', '87': '', '985': '', '563': '', '434': '', '71': '', '27': '', '882': '', '935': '', '708': '', '362': '', '444': '', '102': '', '63': '', '1044': '', '433': '', '1022': '', '505': '', '1037': '', '598': '', '372': '', '887': '', '221': '', '248': '', '566': '', '606': '', '431': '', '43': '', '29': '', '183': '', '398': '', '269': '', '755': '', '1027': '', '556': '', '491': '', '375': '', '801': '', '596': '', '40': '', '1000': '', '346': '', '287': '', '932': '', '869': '', '219': '', '908': '', '924': '', '369': '', '843': '', '994': '', '254': '', '296': '', '233': '', '31': '', '784': '', '263': '', '34': '', '11': '', '938': '', '420': '', '1036': '', '970': '', '1048': '', '226': '', '760': '', '555': '', '987': '', '499': '', '488': '', '717': '', '52': '', '358': '', '1043': '', '903': '', '1058': '', '312': '', '513': '', '764': '', '675': '', '593': '', '1040': '', '1017': '', '552': '', '521': '', '134': '', '67': '', '906': '', '576': '', '459': '', '946': '', '1055': '', '752': '', '805': '', '131': '', '744': '', '275': '', '554': '', '14': '', '199': '', '1028': '', '602': '', '260': '', '325': '', '624': '', '704': '', '446': '', '239': '', '611': '', '850': '', '615': '', '531': '', '597': '', '574': '', '343': '', '547': '', '33': '', '680': '', '667': '', '815': '', '986': '', '827': '', '49': '', '652': '', '524': '', '702': '', '773': '', '274': '', '48': '', '170': '', '920': '', '793': '', '116': '', '584': '', '477': '', '873': '', '107': '', '918': '', '318': '', '234': '', '58': '', '814': '', '520': '', '961': '', '1002': '', '283': '', '664': '', '820': '', '992': '', '797': '', '192': '', '26': '', '197': '', '826': '', '310': '', '379': '', '136': '', '1059': '', '13': '', '670': '', '9': 'incoherent', '331': '', '548': '', '656': '', '35': '', '660': '', '236': '', '655': '', '1026': '', '129': '', '967': '', '534': '', '867': '', '838': '', '70': '', '962': '', '245': '', '403': '', '747': '', '891': '', '832': '', '285': '', '307': '', '368': '', '467': '', '617': '', '366': '', '789': '', '635': '', '142': '', '559': '', '830': '', '1029': '', '56': '', '525': '', '115': '', '243': '', '213': '', '179': '', '113': '', '545': '', '300': '', '474': '', '212': '', '768': '', '298': '', '890': '', '725': '', '453': '', '450': '', '679': '', '511': '', '460': '', '305': '', '817': '', '104': '', '724': '', '252': '', '672': '', '977': '', '587': '', '849': '', '121': '', '786': '', '917': '', '546': '', '831': '', '697': '', '348': '', '406': '', '537': '', '626': '', '705': '', '1014': '', '383': '', '751': '', '901': '', '1015': '', '798': '', '222': '', '251': '', '82': '', '316': '', '123': '', '799': '', '146': '', '919': '', '23': '', '978': '', '1': 'goodwish', '759': '', '95': '', '506': '', '647': '', '651': '', '407': '', '479': '', '841': '', '634': '', '202': '', '594': '', '1001': '', '303': '', '4': 'ziekmelding', '313': '', '427': '', '75': '', '323': '', '649': '', '66': '', '603': '', '1033': '', '719': '', '60': '', '710': '', '342': '', '726': '', '573': '', '416': '', '424': '', '628': '', '515': '', '990': '', '1050': '', '861': '', '572': '', '247': '', '979': '', '822': '', '884': '', '1003': '', '591': '', '367': '', '291': '', '160': '', '1056': '', '519': '', '1051': '', '191': '', '877': '', '942': '', '653': '', '860': '', '712': '', '530': '', '498': '', '208': '', '81': '', '723': '', '922': '', '761': '', '539': '', '163': '', '501': '', '12': '', '103': '', '880': '', '145': '', '993': '', '512': '', '739': '', '669': '', '180': '', '684': '', '788': '', '193': '', '360': '', '374': '', '218': '', '671': '', '808': '', '632': '', '317': '', '954': '', '364': '', '456': '', '736': '', '122': '', '969': '', '377': '', '718': '', '1038': '', '322': '', '330': '', '1009': '', '449': '', '279': '', '794': '', '727': '', '741': '', '455': '', '442': '', '510': '', '517': '', '952': '', '59': '', '404': '', '983': '', '1032': '', '319': '', '1007': '', '290': '', '643': '', '484': '', '907': '', '874': '', '693': '', '616': '', '740': '', '857': '', '299': '', '184': '', '965': '', '400': '', '823': '', '557': '', '842': '', '333': '', '862': '', '638': '', '99': '', '872': '', '396': '', '395': '', '733': '', '998': '', '270': '', '968': '', '939': '', '421': '', '996': '', '630': '', '964': '', '429': '', '76': '', '839': '', '266': '', '84': '', '413': '', '401': '', '164': '', '495': '', '423': '', '465': '', '957': '', '904': '', '171': '', '62': '', '139': '', '758': '', '840': '', '381': '', '926': '', '440': '', '280': '', '721': '', '351': '', '683': '', '289': '', '526': '', '811': '', '770': '', '45': '', '1021': '', '824': '', '356': '', '757': '', '311': '', '476': '', '775': '', '232': '', '378': '', '504': '', '10': '', '393': '', '551': '', '304': '', '971': '', '695': '', '117': '', '414': '', '561': '', '1063': '', '392': '', '564': '', '600': '', '951': '', '931': '', '220': '', '837': '', '382': '', '542': '', '988': '', '90': '', '636': '', '73': '', '3': 'ziekmelding', '772': '', '408': '', '137': '', '516': '', '945': '', '777': '', '791': '', '883': '', '86': '', '119': '', '50': '', '492': '', '105': '', '88': '', '682': '', '439': '', '921': '', '500': '', '715': '', '503': '', '787': '', '716': '', '478': '', '126': '', '863': '', '778': '', '168': '', '915': '', '225': '', '858': '', '321': '', '15': '', '32': '', '435': '', '78': '', '97': '', '844': '', '953': '', '640': '', '135': '', '114': '', '645': '', '276': '', '972': '', '217': '', '328': '', '659': '', '549': '', '200': '', '441': '', '592': '', '177': '', '211': '', '262': '', '646': '', '294': '', '940': '', '581': '', '674': '', '264': '', '385': '', '485': '', '876': '', '159': '', '363': '', '734': '', '912': '', '350': '', '948': '', '928': '', '859': '', '207': '', '309': '', '265': '', '20': '', '933': '', '158': '', '272': '', '641': '', '802': '', '384': '', '349': '', '5': 'incoherent', '466': '', '302': '', '172': '', '654': '', '426': '', '984': '', '242': '', '69': '', '345': '', '210': '', '590': '', '21': '', '604': '', '1045': '', '658': '', '589': '', '509': '', '471': '', '706': '', '463': '', '436': '', '17': '', '579': '', '854': '', '301': '', '483': '', '111': '', '720': '', '240': '', '803': '', '1013': '', '776': '', '889': '', '607': '', '620': '', '487': '', '668': '', '42': '', '387': '', '518': '', '354': '', '132': '', '338': '', '246': '', '533': '', '558': '', '991': '', '673': '', '79': '', '703': '', '605': '', '143': '', '914': '', '335': '', '39': '', '230': '', '896': '', '461': '', '1008': '', '807': '', '543': '', '410': '', '974': '', '464': '', '244': '', '731': '', '1024': '', '422': '', '582': '', '469': '', '763': '', '250': '', '332': '', '612': '', '83': '', '189': '', '540': '', '409': '', '46': '', '1039': '', '1053': '', '19': '', '1046': '', '691': '', '110': '', '1012': '', '94': '', '209': '', '85': '', '767': '', '800': '', '790': '', '149': '', '833': '', '166': '', '308': '', '486': '', '53': '', '879': '', '514': '', '910': '', '749': '', '642': '', '885': '', '550': '', '162': '', '871': '', '320': '', '601': '', '16': '', '835': '', '650': '', '848': '', '700': '', '613': '', '905': '', '124': '', '451': '', '881': '', '1018': '', '425': '', '101': '', '37': '', '399': '', '267': '', '380': '', '278': '', '1020': '', '975': '', '493': '', '936': '', '688': '', '1006': '', '475': '', '1031': '', '732': '', '405': '', '72': '', '30': '', '228': '', '198': '', '633': '', '681': '', '496': '', '430': '', '428': '', '238': '', '813': '', '943': '', '93': '', '738': '', '900': '', '916': '', '74': '', '812': '', '536': '', '709': '', '966': '', '2': 'ziekmelding', '231': '', '344': '', '153': '', '326': '', '982': '', '324': '', '865': '', '1047': '', '569': '', '357': '', '141': '', '508': '', '707': '', '352': '', '91': '', '792': '', '194': '', '186': '', '627': '', '819': '', '829': '', '235': '', '462': '', '781': '', '120': '', '397': '', '1011': '', '895': '', '875': '', '51': '', '804': '', '888': '', '176': '', '68': '', '701': '', '370': '', '341': '', '578': '', '175': '', '169': '', '950': '', '586': '', '780': '', '181': '', '415': '', '619': '', '821': '', '666': '', '1042': '', '588': '', '112': '', '571': '', '742': '', '96': '', '973': '', '1025': '', '583': '', '89': '', '185': '', '494': '', '795': '', '24': '', '109': '', '685': '', '762': '', '1061': '', '371': '', '577': '', '1054': '', '562': '', '223': '', '809': '', '152': '', '846': '', '80': '', '644': '', '388': '', '528': '', '595': '', '689': '', '769': '', '570': '', '878': '', '847': '', '913': '', '976': '', '955': '', '692': '', '148': '', '657': '', '949': '', '897': '', '1016': '', '54': '', '609': '', '241': '', '118': '', '188': ''}\n"
     ]
    }
   ],
   "source": [
    "with open(\"20161216_griep_hourly_clusters50_all_0_labels.txt\") as f:\n",
    "    file_content = [l.strip() for l in f.readlines()]\n",
    "    order_label = {l.split(\":\")[0]:l.split(\":\")[1] for l in file_content}\n",
    "    print(len(file_content), file_content, order_label)"
   ]
  },
  {
   "cell_type": "code",
   "execution_count": 148,
   "metadata": {
    "collapsed": false
   },
   "outputs": [
    {
     "data": {
      "text/plain": [
       "1066"
      ]
     },
     "execution_count": 148,
     "metadata": {},
     "output_type": "execute_result"
    }
   ],
   "source": [
    "with open(\"20161216_griep_hourly_clusters50_all_0.pickle\", 'rb') as f:\n",
    "    my_cluster_list = pickle.load(f)\n",
    "len(my_cluster_list)"
   ]
  },
  {
   "cell_type": "code",
   "execution_count": 155,
   "metadata": {
    "collapsed": false
   },
   "outputs": [
    {
     "data": {
      "text/plain": [
       "9"
      ]
     },
     "execution_count": 155,
     "metadata": {},
     "output_type": "execute_result"
    }
   ],
   "source": [
    "# attach labels to the clusters.\n",
    "labeled_cluster_list = []\n",
    "for i,c in enumerate(my_cluster_list):\n",
    "    my_cluster_list[i][\"label\"] = order_label[str(i)]\n",
    "    \n",
    "    if len(my_cluster_list[i][\"label\"])>0:\n",
    "        labeled_cluster_list.append(my_cluster_list[i])\n",
    "len(labeled_cluster_list)"
   ]
  },
  {
   "cell_type": "code",
   "execution_count": 156,
   "metadata": {
    "collapsed": false
   },
   "outputs": [
    {
     "data": {
      "text/plain": [
       "'goodwish'"
      ]
     },
     "execution_count": 156,
     "metadata": {},
     "output_type": "execute_result"
    }
   ],
   "source": [
    "my_cluster_list[1][\"label\"]"
   ]
  },
  {
   "cell_type": "code",
   "execution_count": 163,
   "metadata": {
    "collapsed": false
   },
   "outputs": [
    {
     "name": "stdout",
     "output_type": "stream",
     "text": [
      "er zijn heel veel mensen ziek; griep................\n",
      "*Stem weg, griep en thuis moeten blijven ..........\n",
      "*Naar bed maar weer.......# griep#\n",
      "*Hoe verlies je in 4 dagen bijna 5 kilo.......zware griep krijgen....man #hondsberoerd.\n",
      "*niks gevierd gister.....griep....2013..LDL\n",
      "*Oud en nieuw goed begonnen!!......met de griep!! Whoepiedoo\n",
      "*usrusr Dan moet het een wanhopige griep zijn geweest om wodka te gaan drinken. #ofalldrinks......\n",
      "*usrusr Oké, oké, ik blijf waar ik ben....in bed.... #griep\n",
      "*usrusr *verstikt sprekend* Neee m'n keel zit dicht, neus loopt en.....gvd zou 't de griep zijn...\n",
      "Ben ik eindelijk opgeknapt, begint die klote griep weer\n",
      "*Eindelijk weer op werk, take that griep\n",
      "*zo... de #griep is eindelijk verdreven uit huize Van Houten. Wij kunnen er weer volop tegenaan\n",
      "*usrusr zeker. Rustig an. eindelijk van die verdomde griep af. Flink stuk hardgelopen. Voel me weer fit. En jij...?\n",
      "*Bing gaat uiteindelijk dood aan de bacterien van de griep van Lana ! #gtst\n",
      "*Net proefondervindelijk vastgesteld: roeien met griep in je lijf is geen goed idee\n",
      "*gvd ben ik eindlijk van die griep af wordt ik verkouden\n",
      "*usrusr ik had besloten de prik 'n jaar over te slaan. Om te zien of ik koorts aankan. Resultaat: Geen griep niet kwakkelen #duidelijk\n",
      "De griep heerst en ik ben de lul\n",
      "*usrusr zéker niet als er griep heerst.\n",
      "*Ken je die uitspraak 'gezelligheid heerst?' Nou hier niet, hier heerst de griep weer\n",
      "*Griep heerst echt heeel erg..\n",
      "*usrusr De griep heerst. Je wil je familie toch niet besmetten :-)\n",
      "*Tijd voor de eerste van vijf (zaal)voetbalwedstrijden in 12 dagen. Eens kijken hoe het met de conditie is na de kerst en de griep...\n"
     ]
    }
   ],
   "source": [
    "total_len_label_tweets = 0\n",
    "for c in [e[\"ctweettuplelist\"] for e in labeled_cluster_list if e[\"label\"]=='incoherent']:\n",
    "    label_tweets = [t[2] for t in c]\n",
    "    total_len_label_tweets += len(label_tweets)\n",
    "    print(*label_tweets, sep=\"\\n*\")"
   ]
  },
  {
   "cell_type": "code",
   "execution_count": 160,
   "metadata": {
    "collapsed": false
   },
   "outputs": [
    {
     "data": {
      "text/plain": [
       "23"
      ]
     },
     "execution_count": 160,
     "metadata": {},
     "output_type": "execute_result"
    }
   ],
   "source": [
    "total_len_label_tweets"
   ]
  },
  {
   "cell_type": "code",
   "execution_count": 164,
   "metadata": {
    "collapsed": false
   },
   "outputs": [
    {
     "data": {
      "text/plain": [
       "Counter({'goodwish': 13,\n",
       "         'incoherent': 23,\n",
       "         'irrelevant': 13,\n",
       "         'news': 15,\n",
       "         'ziekmelding': 41})"
      ]
     },
     "execution_count": 164,
     "metadata": {},
     "output_type": "execute_result"
    }
   ],
   "source": [
    "label_cntr = Counter()\n",
    "label_tweets_dict = {}\n",
    "for c in [ec for ec in labeled_cluster_list]:\n",
    "    label_cntr[c[\"label\"]] += len(c['ctweettuplelist'])\n",
    "    if c[\"label\"] not in label_tweets_dict:\n",
    "        label_tweets_dict[c[\"label\"]] = []\n",
    "    label_tweets_dict[c[\"label\"]] += [tt[2] for tt in c['ctweettuplelist']]\n",
    "\n",
    "label_cntr"
   ]
  },
  {
   "cell_type": "code",
   "execution_count": 165,
   "metadata": {
    "collapsed": true
   },
   "outputs": [],
   "source": [
    "label_tweet_tuple_list = []\n",
    "for k,v in label_tweets_dict.items():\n",
    "    label_tweet_tuple_list += [(k,vv) for vv in v]"
   ]
  },
  {
   "cell_type": "code",
   "execution_count": 166,
   "metadata": {
    "collapsed": false
   },
   "outputs": [
    {
     "data": {
      "text/html": [
       "<div>\n",
       "<table border=\"1\" class=\"dataframe\">\n",
       "  <thead>\n",
       "    <tr style=\"text-align: right;\">\n",
       "      <th></th>\n",
       "      <th>label</th>\n",
       "      <th>text</th>\n",
       "    </tr>\n",
       "  </thead>\n",
       "  <tbody>\n",
       "    <tr>\n",
       "      <th>0</th>\n",
       "      <td>ziekmelding</td>\n",
       "      <td>Griep is niet leuk man, vooral niet in de vakantie..</td>\n",
       "    </tr>\n",
       "    <tr>\n",
       "      <th>1</th>\n",
       "      <td>ziekmelding</td>\n",
       "      <td>usrusr Griep is niet leuk man, vooral niet in de vakantie..</td>\n",
       "    </tr>\n",
       "    <tr>\n",
       "      <th>2</th>\n",
       "      <td>ziekmelding</td>\n",
       "      <td>RT usrusr Griep is niet leuk man, vooral niet in de vakantie..</td>\n",
       "    </tr>\n",
       "  </tbody>\n",
       "</table>\n",
       "</div>"
      ],
      "text/plain": [
       "         label                                                            text\n",
       "0  ziekmelding            Griep is niet leuk man, vooral niet in de vakantie..\n",
       "1  ziekmelding     usrusr Griep is niet leuk man, vooral niet in de vakantie..\n",
       "2  ziekmelding  RT usrusr Griep is niet leuk man, vooral niet in de vakantie.."
      ]
     },
     "execution_count": 166,
     "metadata": {},
     "output_type": "execute_result"
    }
   ],
   "source": [
    "labeled_tweets_df = pd.DataFrame({'label':[lab_tw[0] for lab_tw in label_tweet_tuple_list],'text':[lab_tw[1] for lab_tw in label_tweet_tuple_list]})\n",
    "labeled_tweets_df.head(3)"
   ]
  },
  {
   "cell_type": "code",
   "execution_count": 167,
   "metadata": {
    "collapsed": false
   },
   "outputs": [
    {
     "data": {
      "text/plain": [
       "ziekmelding    41\n",
       "incoherent     23\n",
       "news           15\n",
       "irrelevant     13\n",
       "goodwish       13\n",
       "Name: label, dtype: int64"
      ]
     },
     "execution_count": 167,
     "metadata": {},
     "output_type": "execute_result"
    }
   ],
   "source": [
    "labeled_tweets_df.label.value_counts()"
   ]
  },
  {
   "cell_type": "code",
   "execution_count": 168,
   "metadata": {
    "collapsed": false
   },
   "outputs": [],
   "source": [
    "tweets_df_selected = labeled_tweets_df[labeled_tweets_df.label != 'incoherent']#[\"label\"].value_counts()"
   ]
  },
  {
   "cell_type": "code",
   "execution_count": 170,
   "metadata": {
    "collapsed": false
   },
   "outputs": [
    {
     "data": {
      "text/html": [
       "<div>\n",
       "<table border=\"1\" class=\"dataframe\">\n",
       "  <thead>\n",
       "    <tr style=\"text-align: right;\">\n",
       "      <th></th>\n",
       "      <th>label</th>\n",
       "      <th>text</th>\n",
       "    </tr>\n",
       "  </thead>\n",
       "  <tbody>\n",
       "    <tr>\n",
       "      <th>77</th>\n",
       "      <td>news</td>\n",
       "      <td>RT usrusr Nederland en Engeland grieperig het nieuwe jaar in urlurl #griep #influenza</td>\n",
       "    </tr>\n",
       "    <tr>\n",
       "      <th>78</th>\n",
       "      <td>news</td>\n",
       "      <td>usrusr \"usrusr Nederland en Engeland grieperig het nieuwe jaar in urlurl #griep #influenza</td>\n",
       "    </tr>\n",
       "    <tr>\n",
       "      <th>79</th>\n",
       "      <td>news</td>\n",
       "      <td>Nederland en Engeland grieperig het nieuwe jaar in urlurl #griep #influenza</td>\n",
       "    </tr>\n",
       "    <tr>\n",
       "      <th>80</th>\n",
       "      <td>news</td>\n",
       "      <td>RT usrusr Hogere dosis griep vaccin voor mensen met hiv? urlurl</td>\n",
       "    </tr>\n",
       "    <tr>\n",
       "      <th>81</th>\n",
       "      <td>news</td>\n",
       "      <td>Einde griep dan toch in zicht? Tijd voor aan een verse cappu! (usrusr Coffee United (Central Station)) [pic]: urlurl</td>\n",
       "    </tr>\n",
       "  </tbody>\n",
       "</table>\n",
       "</div>"
      ],
      "text/plain": [
       "   label  \\\n",
       "77  news   \n",
       "78  news   \n",
       "79  news   \n",
       "80  news   \n",
       "81  news   \n",
       "\n",
       "                                                                                                                    text  \n",
       "77                                 RT usrusr Nederland en Engeland grieperig het nieuwe jaar in urlurl #griep #influenza  \n",
       "78                            usrusr \"usrusr Nederland en Engeland grieperig het nieuwe jaar in urlurl #griep #influenza  \n",
       "79                                           Nederland en Engeland grieperig het nieuwe jaar in urlurl #griep #influenza  \n",
       "80                                                       RT usrusr Hogere dosis griep vaccin voor mensen met hiv? urlurl  \n",
       "81  Einde griep dan toch in zicht? Tijd voor aan een verse cappu! (usrusr Coffee United (Central Station)) [pic]: urlurl  "
      ]
     },
     "execution_count": 170,
     "metadata": {},
     "output_type": "execute_result"
    }
   ],
   "source": [
    "tweets_df_selected[tweets_df_selected.label == 'news'][:5]"
   ]
  },
  {
   "cell_type": "code",
   "execution_count": 3,
   "metadata": {
    "collapsed": false
   },
   "outputs": [
    {
     "ename": "NameError",
     "evalue": "name 'rr' is not defined",
     "output_type": "error",
     "traceback": [
      "\u001b[0;31m---------------------------------------------------------------------------\u001b[0m",
      "\u001b[0;31mNameError\u001b[0m                                 Traceback (most recent call last)",
      "\u001b[0;32m<ipython-input-3-785b9b651b55>\u001b[0m in \u001b[0;36m<module>\u001b[0;34m()\u001b[0m\n\u001b[0;32m----> 1\u001b[0;31m \u001b[0mvect_and_evaluated_classifier_nv\u001b[0m\u001b[0;34m,\u001b[0m \u001b[0mconfm_nv\u001b[0m\u001b[0;34m,\u001b[0m \u001b[0mclf_report\u001b[0m \u001b[0;34m=\u001b[0m \u001b[0mrr\u001b[0m\u001b[0;34m.\u001b[0m\u001b[0mget_evaluated_classifier_cwb\u001b[0m\u001b[0;34m(\u001b[0m\u001b[0mtweets_df_selected\u001b[0m\u001b[0;34m,\u001b[0m \u001b[0;34m(\u001b[0m\u001b[0;36m1\u001b[0m\u001b[0;34m,\u001b[0m\u001b[0;36m3\u001b[0m\u001b[0;34m)\u001b[0m\u001b[0;34m)\u001b[0m\u001b[0;34m\u001b[0m\u001b[0m\n\u001b[0m",
      "\u001b[0;31mNameError\u001b[0m: name 'rr' is not defined"
     ]
    }
   ],
   "source": [
    "vect_and_evaluated_classifier_nv, confm_nv, clf_report = rr.get_evaluated_classifier_cwb(tweets_df_selected, (1,3))"
   ]
  },
  {
   "cell_type": "code",
   "execution_count": 190,
   "metadata": {
    "collapsed": false
   },
   "outputs": [
    {
     "data": {
      "text/plain": [
       "array([ \"Jammer genoeg muh griep :'( :'( liet t niet toe overstr te zijn zo n owru yari :(\",\n",
       "       'Zo en dan nu een week lang handen schudden. Extra aantrekkelijk omdat half NL griep heeft.',\n",
       "       'Ik kom je bezoeken, je ligt op bed, ik kom in je, je gaat trillen en zweten, je kreunt.... Groetjes, de Griep #KapotGrappig',\n",
       "       ...,\n",
       "       'hé gezellig... samen met de griep naar wie is de mol kijken.... #widm',\n",
       "       'usrusr Wegens de griep deze week geen foto\\'s of nieuws.\"Beterschap Ron.',\n",
       "       \"usrusr In een groot gezin duurt het dan best lang voordat zo'n griep het huis weer verlaten heeft\"], dtype=object)"
      ]
     },
     "execution_count": 190,
     "metadata": {},
     "output_type": "execute_result"
    }
   ],
   "source": [
    "tweets_df[rr.active_column].values"
   ]
  },
  {
   "cell_type": "code",
   "execution_count": 2,
   "metadata": {
    "collapsed": false
   },
   "outputs": [
    {
     "ename": "NameError",
     "evalue": "name 'vect_and_evaluated_classifier_nv' is not defined",
     "output_type": "error",
     "traceback": [
      "\u001b[0;31m---------------------------------------------------------------------------\u001b[0m",
      "\u001b[0;31mNameError\u001b[0m                                 Traceback (most recent call last)",
      "\u001b[0;32m<ipython-input-2-9f72a33b4c45>\u001b[0m in \u001b[0;36m<module>\u001b[0;34m()\u001b[0m\n\u001b[1;32m      1\u001b[0m \u001b[0mtweets_to_classify\u001b[0m \u001b[0;34m=\u001b[0m \u001b[0;34m[\u001b[0m\u001b[0;34m\"Jammer genoeg muh griep :'( :'( liet t niet toe overstr te zijn zo n owru yari :(\"\u001b[0m\u001b[0;34m]\u001b[0m\u001b[0;34m\u001b[0m\u001b[0m\n\u001b[0;32m----> 2\u001b[0;31m \u001b[0mmnb_classifier\u001b[0m \u001b[0;34m=\u001b[0m \u001b[0mvect_and_evaluated_classifier_nv\u001b[0m\u001b[0;34m[\u001b[0m\u001b[0;34m\"classifier\"\u001b[0m\u001b[0;34m]\u001b[0m\u001b[0;34m\u001b[0m\u001b[0m\n\u001b[0m\u001b[1;32m      3\u001b[0m \u001b[0mvectorizer\u001b[0m \u001b[0;34m=\u001b[0m \u001b[0mvect_and_evaluated_classifier_nv\u001b[0m\u001b[0;34m[\u001b[0m\u001b[0;34m\"vectorizer\"\u001b[0m\u001b[0;34m]\u001b[0m\u001b[0;34m\u001b[0m\u001b[0m\n\u001b[1;32m      4\u001b[0m \u001b[0mmnb_classifier\u001b[0m\u001b[0;34m.\u001b[0m\u001b[0mpredict\u001b[0m\u001b[0;34m(\u001b[0m\u001b[0mvectorizer\u001b[0m\u001b[0;34m.\u001b[0m\u001b[0mtransform\u001b[0m\u001b[0;34m(\u001b[0m\u001b[0mtweets_to_classify\u001b[0m\u001b[0;34m)\u001b[0m\u001b[0;34m)\u001b[0m\u001b[0;34m\u001b[0m\u001b[0m\n",
      "\u001b[0;31mNameError\u001b[0m: name 'vect_and_evaluated_classifier_nv' is not defined"
     ]
    }
   ],
   "source": [
    "tweets_to_classify = [\"Jammer genoeg muh griep :'( :'( liet t niet toe overstr te zijn zo n owru yari :(\"]\n",
    "mnb_classifier = vect_and_evaluated_classifier_nv[\"classifier\"]\n",
    "vectorizer = vect_and_evaluated_classifier_nv[\"vectorizer\"]\n",
    "mnb_classifier.predict(vectorizer.transform(tweets_to_classify))"
   ]
  },
  {
   "cell_type": "code",
   "execution_count": 197,
   "metadata": {
    "collapsed": false
   },
   "outputs": [
    {
     "name": "stdout",
     "output_type": "stream",
     "text": [
      "['aan', 'aanwezig', 'advil', 'af', 'al', 'alles', 'alles sneller', 'alles sneller gaat', 'als', 'als een', 'altijd', 'begin', 'ben', 'ben nog', 'ben nog steeds', 'bestaat', 'bestaat echt', 'bestaat echt niet', 'beste', 'beterschap', 'beterschap en', 'bij', 'bijna', 'binnen', 'binnen minuut', 'binnen minuut over', 'da', 'dan', 'dat', 'dat in', 'dat in meerdijk', 'dat je', 'dat ze', 'de', 'de griep', 'de griep binnen', 'de griep is', 'de griep te', 'de vakantie', 'denk', 'deze', 'die', 'die griep', 'dikke', 'dit', 'door', 'door griep', 'echt', 'echt niet', 'echt niet gtst', 'een', 'en', 'en engeland', 'en engeland grieperig', 'en moe', 'en moe omg', 'en nu', 'en nu koorts', 'engeland', 'engeland grieperig', 'engeland grieperig het', 'er', 'erge', 'erge griep', 'erge griep vannochten', 'fijn', 'flauw', 'flauw gevallen', 'flauw gevallen en', 'ga', 'gaat', 'gaat maar', 'gaat maar de', 'geen', 'geen griep', 'geen griep ja', 'geen griep migraine', 'geen griep migranne', 'gevallen', 'gevallen en', 'gevallen en nu', 'goed', 'griep', 'griep beterschap', 'griep binnen', 'griep binnen minuut', 'griep dan', 'griep en', 'griep influenza', 'griep is', 'griep is niet', 'griep ja', 'griep ja en', 'griep krijgen', 'griep migraine', 'griep migraine is', 'griep migranne', 'griep migranne is', 'griep te', 'griep te krijgen', 'griep vannochten', 'griep vannochten flauw', 'grieperig', 'grieperig het', 'grieperig het nieuwe', 'gtst', 'he', 'heb', 'hebben', 'heel', 'helaas', 'helaas nog', 'hele', 'hele erge', 'hele erge griep', 'helemaal', 'helpt', 'het', 'het nieuwe', 'het nieuwe jaar', 'hoofdpijn', 'ik', 'ik ben', 'ik griep', 'ik krijg', 'ik weet', 'ik weet dat', 'in', 'in de', 'in de vakantie', 'in meerdijk', 'in meerdijk alles', 'in urlurl', 'in urlurl griep', 'influenza', 'is', 'is echt', 'is een', 'is geen', 'is geen griep', 'is niet', 'is niet leuk', 'is onverdraagelijke', 'is onverdraagelijke hoofdpijn', 'ja', 'ja en', 'jaar', 'jaar in', 'jaar in urlurl', 'je', 'juist', 'kan', 'komt', 'koorts', 'koorts en', 'koorts en moe', 'krijg', 'krijg ik', 'krijg ik griep', 'krijgen', 'krijgen bestaat', 'krijgen bestaat echt', 'krijgt', 'lang', 'last', 'lekker', 'leuk', 'leuk man', 'leuk man vooral', 'leuke', 'lig', 'maar', 'maar de', 'maar de griep', 'mama', 'man', 'man vooral', 'man vooral niet', 'me', 'meer', 'meerdijk', 'meerdijk alles', 'meerdijk alles sneller', 'met', 'met griep', 'migraine', 'migraine is', 'migraine is geen', 'migranne', 'migranne is', 'migranne is geen', 'migranne is onverdraagelijke', 'mij', 'minuut', 'minuut over', 'minuut over krijgen', 'moe', 'moe omg', 'moe omg beterschap', 'na', 'naar', 'nederland', 'nederland en', 'nederland en engeland', 'nee', 'niet', 'niet gtst', 'niet in', 'niet in de', 'niet leuk', 'niet leuk man', 'nieuwe', 'nieuwe jaar', 'nieuwe jaar in', 'niks', 'nog', 'nog steeds', 'nog steeds niet', 'nog steeds ziek', 'nogsteeds', 'nogsteeds griep', 'nou', 'nu', 'nu koorts', 'nu koorts en', 'of', 'om', 'omg', 'omg beterschap', 'ondraaglijke', 'ondraaglijke hoofdpijn', 'onverdraagelijke', 'onverdraagelijke hoofdpijn', 'ook', 'ook al', 'op', 'over', 'over krijgen', 'over krijgen bestaat', 'reclame', 'rt', 'rt usrusr', 'sneller', 'sneller gaat', 'sneller gaat maar', 'steeds', 'steeds niet', 'steeds ziek', 'steeds ziek griep', 'te', 'te krijgen', 'tegen', 'tegen griep', 'terug', 'tijd', 'tips', 'tips om', 'toch', 'urlurl', 'urlurl griep', 'urlurl griep influenza', 'usrusr', 'usrusr griep', 'usrusr griep is', 'usrusr hele', 'usrusr hele erge', 'usrusr ik', 'usrusr ja', 'usrusr nederland', 'usrusr nederland en', 'usrusr usrusr', 'vakantie', 'van', 'van de', 'van de griep', 'van usrusr', 'vannochten', 'vannochten flauw', 'vannochten flauw gevallen', 'veel', 'veel beterschap', 'volgens', 'volgens mij', 'voor', 'vooral', 'vooral niet', 'vooral niet in', 'waarom', 'was', 'wat', 'wat een', 'weer', 'weet', 'weet dat', 'weet dat in', 'wel', 'zal', 'ze', 'ziek', 'ziek ben', 'ziek griep', 'zijn', 'zo']\n"
     ]
    }
   ],
   "source": [
    "print(vectorizer.get_feature_names())"
   ]
  }
 ],
 "metadata": {
  "anaconda-cloud": {},
  "kernelspec": {
   "display_name": "Python [default]",
   "language": "python",
   "name": "python3"
  },
  "language_info": {
   "codemirror_mode": {
    "name": "ipython",
    "version": 3
   },
   "file_extension": ".py",
   "mimetype": "text/x-python",
   "name": "python",
   "nbconvert_exporter": "python",
   "pygments_lexer": "ipython3",
   "version": "3.5.2"
  }
 },
 "nbformat": 4,
 "nbformat_minor": 0
}
