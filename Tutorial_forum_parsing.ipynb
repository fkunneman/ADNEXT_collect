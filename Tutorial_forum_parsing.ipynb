{
 "cells": [
  {
   "cell_type": "markdown",
   "metadata": {},
   "source": [
    "# Het extraheren van data uit webforums"
   ]
  },
  {
   "cell_type": "markdown",
   "metadata": {},
   "source": [
    "In deze tutorial doe je ervaring op in het parseren van Forum data in python. We beginnen met het importeren van handige libraries:"
   ]
  },
  {
   "cell_type": "code",
   "execution_count": 1,
   "metadata": {
    "collapsed": false
   },
   "outputs": [],
   "source": [
    "import sys\n",
    "#sys.path.append('/home/vagrant/webdata_collect/scripts/ADNEXT_collect/')\n",
    "from bs4 import BeautifulSoup\n",
    "import requests\n",
    "import re\n",
    "from forum_xml_classes import Forum, Thread, Post"
   ]
  },
  {
   "cell_type": "markdown",
   "metadata": {},
   "source": [
    "<em>BeautifulSoup</em> is de ster van het verhaal. Deze library maakt het mogelijk om een parseringsscript te schrijven toegespitst op de specifieke tags die gebruikt worden in een webpagina. <em>requests</em> wordt gebruikt om webdata binnen te halen, <em>re</em> is een library voor het matchen van reguliere expressies en <em>forum_xml_classes</em> is een 'lokale' library om de data in weg te schrijven. \n",
    "\n",
    "We beginnen met het binnenhalen van een pagina met forum posts. Het testforum is forum.body-fitness.nl, een forum voor bodybuilding, waar mogelijk informatie over illegale voedingssupplementen wordt gedeeld. Het commando om de broncode van een webpagina op te halen is 'requests.get':"
   ]
  },
  {
   "cell_type": "code",
   "execution_count": 2,
   "metadata": {
    "collapsed": false
   },
   "outputs": [],
   "source": [
    "url='http://forum.body-fitness.nl/Hematocriet-verhogen-m719672.aspx'\n",
    "response=requests.get(url)"
   ]
  },
  {
   "cell_type": "markdown",
   "metadata": {},
   "source": [
    "Nu we de webpagina hebben binnengehaald, kunnen we inspecteren waaruit dit bestaat. Hiervoor kan het commando 'content' gebruikt worden:"
   ]
  },
  {
   "cell_type": "code",
   "execution_count": 3,
   "metadata": {
    "collapsed": false
   },
   "outputs": [
    {
     "data": {
      "text/plain": [
       "b'\\r\\n\\r\\n<!DOCTYPE html>\\r\\n\\r\\n<!--[if lt IE 7 ]> <html class=\"ie6\" > <![endif]-->\\r\\n<!--[if IE 7 ]>    <html class=\"ie7\" > <![endif]-->\\r\\n<!--[if IE 8 ]>    <html class=\"ie8\" > <![endif]-->\\r\\n<!--[if IE 9 ]>    <html class=\"ie9\" > <![endif]-->\\r\\n<!--[if (gt IE 9)|!(IE)]><!--> <html class=\"\" > <!--<![endif]-->\\r\\n<head id=\"Head1\"><title>\\r\\n\\tHematocriet verhogen | Body & Fitness - Bodybuilding en Fitness forum\\r\\n</title>\\r\\n      <script type=\"text/javascript\">\\r\\n          try {\\r\\n              document.execCommand(\"BackgroundImageCache\", false, true);\\r\\n          } catch (err) { }\\r\\n      </script>    \\r\\n\\r\\n    \\r\\n    \\r\\n    \\r\\n\\r\\n\\r\\n        \\r\\n    <script type=\"text/javascript\">\\r\\n\\r\\n        var _gaq = _gaq || [];\\r\\n        _gaq.push([\\'_setAccount\\', \\'UA-684806-2\\']);\\r\\n        \\r\\n        _gaq.push([\\'_trackPageview\\']);\\r\\n        \\r\\n        (function () {\\r\\n            var ga = document.createElement(\\'script\\'); ga.type = \\'text/javascript\\'; ga.async = true;\\r\\n            ga.src = (\\'https:\\' == document.location.protocol ? \\'https://ssl\\' : \\'http://www\\') + \\'.google-analytics.com/ga.js\\';\\r\\n            var s = document.getElementsByTagName(\\'script\\')[0]; s.parentNode.insertBefore(ga, s);\\r\\n        })();\\r\\n\\r\\n    </script>\\r\\n\\r\\n    <link type=\"application/rss+xml\" rel=\"alternate\" title=\"Hematocriet verhogen\" href=\"http://forum.body-fitness.nl/rss-m719672.ashx\" /><link type=\"text/css\" href=\"js/prettifier/prettify.css\" rel=\"stylesheet\" /><link type=\"text/css\" href=\"App_Themes/Progressive/lesscss/combinedCss.axd?key=1285553910\" rel=\"stylesheet\" /><link type=\"text/css\" href=\"App_Themes/Progressive/jqUI/combinedCss.axd?key=-108011924\" rel=\"stylesheet\" /><link rel=\"canonical\" href=\"http://forum.body-fitness.nl/Hematocriet-verhogen-m719672.aspx\" /><script id=\"mdzr\" type=\"text/javascript\" src=\"/js/lib/modernizr.js?v=5.0\"></script><meta name=\"description\" content=\"Misschien iemand een idee of er iets is dat op legale manier je hematocriet merkbaar kan verhogen?\" /><meta name=\"keywords\" content=\"Hematocriet verhogen\" /></head>\\r\\n<body id=\"Body1\" class=\"\">\\r\\n    <form method=\"post\" action=\"Hematocriet-verhogen-m719672.aspx\" id=\"form1\">\\r\\n<input type=\"hidden\" name=\"RadScriptManager1_TSM\" id=\"RadScriptManager1_TSM\" value=\"\" />\\r\\n<input type=\"hidden\" name=\"RadStyleSheetManager1_TSSM\" id=\"RadStyleSheetManager1_TSSM\" value=\"\" />\\r\\n<input type=\"hidden\" name=\"__VIEWSTATE\" id=\"__VIEWSTATE\" value=\"/wEPDwULLTIwMjIxNTMyNjhkGAEFHl9fQ29udHJvbHNSZXF1aXJlUG9zdEJhY2tLZXlfXxYBBUVjdGwwMCRjdGwwMCRDb250ZW50UGxhY2VIb2xkZXJNYWluJENvbnRlbnRQbGFjZUhvbGRlcjEkUmVzdWx0WG1sUGFuZWz5xNGZxN1rM5JFpJ+nrA9+mnIVDA==\" />\\r\\n\\r\\n\\r\\n<script src=\"//s7.addthis.com/js/300/addthis_widget.js#pubid=ra-528a908407fd45ae\" type=\"text/javascript\"></script>\\r\\n<script type=\"text/javascript\">\\r\\n//<![CDATA[\\r\\nvar cFeatureInfo = {} ; \\r\\ncFeatureInfo.subscriptionActive = true; \\r\\ncFeatureInfo.galleryActive = true; \\r\\ncFeatureInfo.calendarActive = false; \\r\\ncFeatureInfo.readTrackLength = 30; \\r\\ncFeatureInfo.isDemoMode = false; \\r\\nvar cPathInfo = {}; \\r\\ncPathInfo.Url = \\'http://forum.body-fitness.nl/Hematocriet-verhogen-m719672.aspx\\'; \\r\\ncPathInfo.ForumDir = \\'http://forum.body-fitness.nl/\\';\\r\\ncPathInfo.BlogRootDir = \\'/Blog/\\';\\r\\ncPathInfo.ForumBreadCrumbHome = \\'~/default.aspx\\';\\r\\ncPathInfo.pageThemeImageURL = \\'/app_themes/Progressive/image/\\';\\r\\nvar pageMasterUniqueID = \\'ctl00\\';\\r\\nvar pageThemeImageURL = \\'/app_themes/Progressive/image/\\';\\r\\nvar cMemberInfo = {}; \\r\\ncMemberInfo.memID = -1; \\r\\ncMemberInfo.lastVisit = \\'2016/12/14 14:08:56\\';\\r\\ncMemberInfo.popupPosting = false; \\r\\ncMemberInfo.usingMobileTheme = false; \\r\\ncMemberInfo.timeOffset = 0; \\r\\ncMemberInfo.isMobileDevice = false; \\r\\ncMemberInfo.isAdmin = false; \\r\\ncMemberInfo.isGMod = false; \\r\\ncMemberInfo.isUMan = false; \\r\\ncMemberInfo.isBMan = false; \\r\\ncMemberInfo.isFMan = false; \\r\\ncMemberInfo.isAModerator = false; \\r\\ncMemberInfo.pmAllowed = false; \\r\\nvar cookiePrefix = \\'ASPPG\\'; \\r\\nvar appReadTracking = 1;\\r\\n var appMPG = 20;\\r\\nvar ImageOpenFile = \"plus.gif\"; var ImageCloseFile = \"minus.gif\";//]]>\\r\\n</script>\\r\\n\\r\\n<script src=\"ln.ashx?lang=en\" type=\"text/javascript\"></script>\\r\\n<script src=\"/Javascript.ashx?_TSM_HiddenField_=RadScriptManager1_TSM&amp;compress=1&amp;_TSM_CombinedScripts_=%3b%3bSystem.Web.Extensions%2c+Version%3d4.0.0.0%2c+Culture%3dneutral%2c+PublicKeyToken%3d31bf3856ad364e35%3aen-US%3a65b81a22-d6d0-410a-8845-e0dac7abfb82%3aea597d4b\" type=\"text/javascript\"></script>\\r\\n<script src=\"combinedJs.axd?key=662393481\" type=\"text/javascript\"></script>\\r\\n<script src=\"combinedJs.axd?key=457979080;47004846;1540959329;-860584226;-409795695;843241667;-1319388277\" type=\"text/javascript\"></script>\\r\\n<script src=\"/Javascript.ashx?_TSM_HiddenField_=RadScriptManager1_TSM&amp;compress=1&amp;_TSM_CombinedScripts_=%3b%3bTelerik.Web.UI%2c+Version%3d2013.3.1324.40%2c+Culture%3dneutral%2c+PublicKeyToken%3d121fae78165ba3d4%3aen-US%3a597c6a37-3447-4509-ba46-0faaa25cf6f9%3a16e4e7cd%3a24ee1bba%3af46195d3%3a9cdfc6e7\" type=\"text/javascript\"></script>\\r\\n<script type=\"text/javascript\">\\r\\n//<![CDATA[\\r\\n var timeRelativeFormat = ln.timeRelativeFormat.split(\\'|\\') ;\\r\\n dateFormatter.i18n = $.extend(true, dateFormatter.i18n, {monthsLong:ln.monthLongNames.split(\\'|\\'), monthsShort:ln.monthShortNames.split(\\'|\\'), daysLong:ln.dayLongNames.split(\\'|\\'), daysShort:ln.dayShortNames.split(\\'|\\'), tt:{\"AM\" : ln.timeAMPMNames.split(\\'|\\')[0], \"PM\" : ln.timeAMPMNames.split(\\'|\\')[1]}});\\r\\n autoAdjustTimeZone(\\'2016/12/14 14:08:56\\');\\r\\n var pageLastGenerated = new Date(\\'2016/12/14 14:08:56\\');\\r\\n//]]>\\r\\n</script>\\r\\n\\r\\n<input type=\"hidden\" name=\"__VIEWSTATEGENERATOR\" id=\"__VIEWSTATEGENERATOR\" value=\"FECECC9E\" />\\r\\n<input type=\"hidden\" name=\"__EVENTVALIDATION\" id=\"__EVENTVALIDATION\" value=\"/wEWPQLk55gYAoCpgrcJAvrAn5oIAt6T1ekPAr3sxskHAuCmtMYIArjwv5YHArjwv5YHAqndhcEDAvSgr4EPAvXL9PEJAsTZrbUGApjhoNgCAs+CreECAryPpzAC952OzAcC06X17A8Cu9mInwQCzo//rg8C2fq3hwgCqfr/ggEClrH5+w0Cv8H63AkC+vrz5AcC8LDcnw0Cse/b9wsCkuCB6wkCvM6GggwCtPyh3QwCiPTA3wEC9tio2AECkpi04AMC/5C8igwCnJOPlwcCu9uYNAL7jv3SCQKtjPrsDAL81cOXBAK4zobQDgLh8K2kDgLTl79QAqbK0cgJAs/v17IFAsPSs9YGAtj4rqUDAq3K248NAsGKiaUMAqzV1OUDAsP/qroKAsWW4acBAqPpj88GArvxma4EArrxr/oKAojE1tUMAtrsr+QMAqX7y48IAvjU0tINAsmhrMkDAo/LnNMNAtLC3MMJAvXA29sCYp1i3Kqx0sZfmQtXhe44dBTnogw=\" />\\r\\n        \\r\\n          \\r\\n        <div id=\"wrap\">\\r\\n            <!--your header goes here-->\\r\\n            \\r\\n    \\r\\n    <div id=\"topbannerbackground\"></div>\\r\\n    \\r\\n    <div id=\"main\" class=\"tmaspx\">\\r\\n        \\r\\n    <div id=\"TN\">\\r\\n\\t\\r\\n\\r\\n    <div class=\"subnav\">\\r\\n        <div id=\"auth-guest\" class=\"\">\\r\\n            <span class=\"none\">\\r\\n                <a href=\"/register\">\\r\\n                    <i class=\"icon-check\"></i> Join us now!\\r\\n                </a>\\r\\n            </span>\\r\\n            <a href=\"/login\" id=\"subnav-login\">\\r\\n                <i class=\"icon-signin\"></i>\\r\\n                Log in\\r\\n                <span class=\"\"> / </span>\\r\\n                <i class=\"icon-facebook-sign icon-large\" style=\"display:\"></i>\\r\\n                <i class=\"icon-twitter-sign icon-large\" style=\"display:\"></i>\\r\\n                <i class=\"icon-google-plus-sign icon-large\" style=\"display:\"></i>\\r\\n            </a>\\r\\n\\r\\n            <div class=\"none\" id=\"subnav-loginbox-div\">\\r\\n                <div class=\"wideDivider\"></div>\\r\\n                <table class=\"subnav-loginbox\">\\r\\n                    <tr>\\r\\n                        <td>\\r\\n                            Username\\r\\n                        </td>\\r\\n                        <td class=\"relative\">\\r\\n                            <input type=\"text\" id=\"subnav-loginbox-u\">\\r\\n                        </td>\\r\\n                    </tr>\\r\\n                    <tr>\\r\\n                        <td>\\r\\n                            Password\\r\\n                        </td>\\r\\n                        <td>\\r\\n                            <input type=\"password\" id=\"subnav-loginbox-p\">\\r\\n                        </td>\\r\\n                    </tr>\\r\\n                    <tr class=\"none\">\\r\\n                        <td>\\r\\n                            Verification\\r\\n                        </td>\\r\\n                        <td>\\r\\n                            <img src=\"/app_themes/Progressive/image/blank.gif\" id=\"subnav-loginbox-captcha\"/> <br/>\\r\\n                            <input type=\"text\" id=\"subnav-loginbox-c\" maxlength=\"\">\\r\\n                        </td>\\r\\n                    </tr>\\r\\n                    <tr>\\r\\n                        <td>&nbsp;</td>\\r\\n                        <td>\\r\\n                            <input type=\"checkbox\" id=\"subnav-loginbox-r\" />\\r\\n                            <label for=\"subnav-loginbox-r\">Stay logged in</label>\\r\\n                        </td>\\r\\n                    </tr>\\r\\n                    <tr>\\r\\n                        <td>&nbsp;</td>\\r\\n                        <td>\\r\\n                            <button class=\"linkbutton gradient1\" id=\"subnav-loginbox-submit\"><img src=\"/app_themes/Progressive/image/login.gif\"/> \\r\\n                            Login</button>\\r\\n                        </td>\\r\\n                    </tr>\\r\\n                </table>\\r\\n                <div id=\"socialLoginDiv\" class=\"topSocialLoginDiv\">\\r\\n                    <div class=\"overflowAuto center\">\\r\\n                        <h3>- OR -</h3>\\r\\n                        <div class=\"wideDivider\"></div>\\r\\n                        <a href=\"sociallogin.aspx?login=facebook\" id=\"fbLogin\" class=\"fbLogin\" tabindex=\"1\">\\r\\n        <span>Log in with Facebook</span>\\r\\n    </a>\\r\\n    <div class=\"divider\"></div>\\r\\n    <a href=\"sociallogin.aspx?login=twitter\" id=\"twitterLogin\" class=\"twitterLogin\">\\r\\n        <i class=\"icon-twitter icon-large\"></i> <span>Log in with Twitter</span>\\r\\n    </a>\\r\\n                        \\r\\n                            <div class=\"divider\"></div>\\r\\n                            <a href=\"#\" class=\"googleLogin\"><i class=\"icon-google-plus-sign icon-large\"></i> <span>Log in with Google</span></a>\\r\\n                            <div class=\"wideDivider\"></div>\\r\\n                            <a href=\"sociallogin.aspx\" class=\"right\">more social login options..</a>\\r\\n                    </div>             \\r\\n                </div>\\r\\n                <div class=\"superWideDivider\"></div>\\r\\n                <div class=\"center\">\\r\\n                    <a href=\"/Login?forgotpass=true\">Forgot Your Password?</a>\\r\\n                    <span class=\"wideOptionSep\"></span>\\r\\n                    <a href=\"/Login?forgotlogin=true\">Forgot your Username?</a>\\r\\n                    <span class=\"wideOptionSep\"></span>\\r\\n                    <a href=\"/Login?emailconfirm=true\">Haven\\'t received registration validation E-mail?</a>                    \\r\\n                </div>\\r\\n                <div class=\"superWideDivider\"></div>\\r\\n            </div>\\r\\n        </div>\\r\\n        <div id=\"profile-member\" class=\"none\">\\r\\n            <span id=\"CurrentLoginName\"></span>\\r\\n            <a href=\"/editprofile.aspx\" id=\"subnav-profile\">\\r\\n                <i class=\"icon-cog\"></i> User Control Panel\\r\\n            </a>\\r\\n            <a href=\"/logout\">\\r\\n                <i class=\"icon-signout\"></i> Log out\\r\\n            </a>            \\r\\n        </div>\\r\\n    </div>\\r\\n    <script type=\"text/javascript\">\\r\\n        registerLoginbox($(\\'#subnav-login\\'), \\'\\');\\r\\n        registerGplusButtonClick();\\r\\n    </script>\\r\\n\\r\\n    <div class=\"topnav\">\\r\\n        <div id=\"searchDiv\" class=\"masterphraseWrapper\">\\r\\n            <input type=\"text\" name=\"masterphrase\" class=\"searchTxtBox left\" placeholder=\"Enter Search Phrase...\"\\r\\n                id=\"masterphrase\" />\\r\\n            <button class=\"linkbutton rightbutton gradient2\"  id=\"masterSearchButton\" tabindex=\"0\"><span><i class=\"lPadding5 icon-search icon-large\"></i></span></button>\\r\\n        </div>\\r\\n\\r\\n        <div class=\"ForumHeaderRow hidden\">\\r\\n          <!--  <a class=\"head\" href=\"http://www.body-fitness.nl/\">\\r\\n\\t\\t\\t\\r\\n\\t\\t\\t</a>-->\\r\\n\\t\\t\\t  <span style=\"margin-left:310px;\"><a href=\\'http://ads.body-fitness.nl/openx/www/delivery/ck.php?n=a4885de0&amp;cb=INSERT_RANDOM_NUMBER_HERE\\' target=\\'_blank\\'><img src=\\'http://ads.body-fitness.nl/openx/www/delivery/avw.php?zoneid=2&amp;n=a4885de0\\' border=\\'0\\' alt=\\'\\' /></a></span>   \\r\\n        </div>\\r\\n\\r\\n        <div class=\"topnavTabs\">\\r\\n\\r\\n            <ul class=\"topnavTabList\">\\r\\n                <li id=\"forumMenuOpener\" style=\"display:\">Forums</li>                \\r\\n                <li data-filtertype=\"posts\" style=\"display:\">Posts\\r\\n                    <div class=\"topnav-menu none\">\\r\\n                        <div class=\"topnav-menuTopFilters\" data-topfiltertype=\"posts\">\\r\\n                            <div data-filter=\"RecentPosts\" class=\"resultTopFilter \">Latest Posts</div>\\r\\n<div data-filter=\"Active\" class=\"resultTopFilter \">Active Posts</div>\\r\\n<div data-filter=\"RecentVisits\" class=\"resultTopFilter \">Recently Visited</div>\\r\\n<div data-filter=\"SearchResult\" class=\"resultTopFilter none\">Search Results</div>\\r\\n                            <div class=\"topnav-extraLinks posts\">\\r\\n                                <a class=\"viewmore\" href=\"#\">View More <i class=\"icon-forward\"></i></a>\\r\\n                                <span class=\"optionSep\"></span>\\r\\n                                <span class=\"reload\"><i class=\"icon-refresh icon-large\"></i></span>\\r\\n                            </div>\\r\\n                        </div>\\r\\n\\r\\n                    </div>\\r\\n                </li>\\r\\n                <li data-filtertype=\"blog\" style=\"display:none\">Blog\\r\\n                    <div class=\"topnav-menu none\">\\r\\n                        <div class=\"topnav-menuTopFilters\" data-topfiltertype=\"blog\">\\r\\n                            <div class=\"resultTopFilter\" data-filter=\"recentblogs\">Recent Blog Posts</div>\\r\\n                            <div class=\"topnav-extraLinks blog\">\\r\\n                                <a class=\"viewmore\" href=\"#\">View More <i class=\"icon-forward\"></i></a>\\r\\n                            </div>                                                                   \\r\\n                        </div>                        \\r\\n                    </div>                      \\r\\n                </li>\\r\\n                <!-- Cannot use Class=\"none\" to hide because of css conflict -->\\r\\n                <li data-filtertype=\"gallery\" style=\"display:\">Photos\\r\\n                    <div class=\"topnav-menu none\">\\r\\n                        <div class=\"topnav-menuTopFilters\" data-topfiltertype=\"gallery\">\\r\\n                            <div class=\"resultTopFilter\" data-filter=\"recentphotos\">Recent Photos</div>\\r\\n                            <div class=\"resultTopFilter none\" data-filter=\"myfavorites\">My Favorites</div>   \\r\\n                            <div class=\"topnav-extraLinks gallery\">\\r\\n                                <a class=\"viewmore\" href=\"#\">View More <i class=\"icon-forward\"></i></a>\\r\\n                                <span class=\"optionSep\"></span>\\r\\n                                <a href=\"/gallery.aspx\"><i class=\"icon-picture\"></i> Photo Galleries</a>\\r\\n                            </div>                                                                   \\r\\n                        </div>                        \\r\\n                    </div>                      \\r\\n                </li>\\r\\n                <!-- Cannot use Class=\"none\" to hide because of css conflict -->\\r\\n                <li data-filtertype=\"pm\" style=\"display:none\">PMs\\r\\n                    \\r\\n                    <div class=\"topnav-menu none\">\\r\\n                        <div class=\"topnav-menuTopFilters\" data-topfiltertype=\"pm\">\\r\\n                            <div class=\"resultTopFilter\" data-filter=\"unreadpm\">Unread PMs</div>\\r\\n                            <div class=\"resultTopFilter\" data-filter=\"pminbox\">Inbox</div>          \\r\\n                            <div class=\"topnav-extraLinks pm\">\\r\\n                                <a href=\"/pmsend.aspx\"><i class=\"icon-pencil\"></i> Send New PM</a>\\r\\n                                <span class=\"optionSep\"></span>\\r\\n                                <a class=\"viewmore\" href=\"#\">View More <i class=\"icon-forward\"></i></a>\\r\\n                            </div>                                                    \\r\\n                        </div>     \\r\\n                    </div>                    \\r\\n                </li>\\r\\n                <li id=\"extrabarOpener\" style=\"display:&lt;%= GeneralMenuVisibilityStyle() %>\" data-extrabar=\"http://forum.body-fitness.nl/ws/extrabar.aspx?mid=719672&amp;t=true&amp;o=m&amp;w=true&amp;p=true .sidebarUrlWrap\">Page Extras</li>\\r\\n                <li id=\"rightOptionTopMenu\" style=\"display:\" class=\"right\"><i class=\"icon-cogs\"></i> Menu\\r\\n                    <ul class=\"none\">\\r\\n                        <li>\\r\\n                            <div id=\"themePL\">\\r\\n\\t\\t\\r\\n                                Forum Themes\\r\\n                                <select name=\"ctl00$ctl00$ContentPlaceHolderMain$ctl00$ThemeList\" id=\"ThemeList\" class=\"DropDown\" onchange=\"changeTheme(this)\">\\r\\n\\t\\t\\t<option value=\"Mobile\">Mobile</option>\\r\\n\\t\\t\\t<option selected=\"selected\" value=\"Progressive\">Progressive</option>\\r\\n\\r\\n\\t\\t</select>\\r\\n                            \\r\\n\\t</div>\\r\\n                        </li>                      \\r\\n                          \\r\\n                    </ul>\\r\\n                </li>\\r\\n            </ul> \\r\\n            <div class=\"clearBoth\"></div>\\r\\n        </div>\\r\\n        <ul class=\"none\" id=\"hiddenTopMenu\">\\r\\n            \\r\\n        </ul>\\r\\n    </div>\\r\\n    <div id=\"BCDR\" class=\"BreadCrumbDivRow\">\\r\\n\\t\\t\\r\\n        \\r\\n                <div class=\"breadcrumb\">\\r\\n            \\r\\n                <a class=\"breadcrumbitem\" href=\"/default.aspx\" >Home</a>\\r\\n            \\r\\n                &raquo;\\r\\n            \\r\\n                <a class=\"breadcrumbitem\" href=\"/Forums\" >All Forums</a>\\r\\n            \\r\\n                &raquo;\\r\\n            \\r\\n                <a class=\"breadcrumbitem\" href=\"/Wat-de-mond-in-gaat-f61.aspx\" data-dropdown=\"true\">[Wat de mond in gaat....]</a>\\r\\n            \\r\\n                &raquo;\\r\\n            \\r\\n                <a class=\"breadcrumbitem\" href=\"/Supplementen-f145.aspx\" data-dropdown=\"true\">Supplementen</a>\\r\\n            \\r\\n                &raquo;\\r\\n            \\r\\n                <span class=\"breadcrumbitem\" >Hematocriet verhogen</span>\\r\\n            \\r\\n                </div>\\r\\n    \\r\\n\\t</div>\\r\\n    <div class=\"clearBoth\"></div>\\r\\n    <script type=\"text/javascript\">\\r\\n        injectHiddenTopMenu();\\r\\n        registerTopNavDropDowns();\\r\\n        registerSearchBoxes();\\r\\n    </script>\\r\\n   \\r\\n</div>\\r\\n        \\r\\n    \\r\\n    \\r\\n        <script type=\"text/javascript\">\\r\\n    \\r\\n            var currentThreadID = 719672;\\r\\n            var currentForumID = 145;\\r\\n        </script>\\r\\n    \\r\\n        \\r\\n    <table id=\"ForumMenus\" width=\"100%\" style=\"margin: 10px auto\">\\r\\n\\t<tr>\\r\\n\\t\\t<td style=\"width: 250px;\">\\r\\n                \\r\\n            </td>\\r\\n\\t\\t<td width=\"*\">\\r\\n               <div id=\"OptionsPanel\" class=\"optionsMenu right\">\\r\\n\\t\\t\\t<a href=\"#\" onclick=\"return threadReadToggle(this, false)\">Mark Thread Unread</a><span class=\"wideOptionSep\"></span><a class=\" splitprimary\"  id=\"\" data-menuusesecondary=\"true\" data-menustyle=\"qtip-apgsmallmenu qtip-shadow qtip-rounded\" data-menuupexpand=\"false\" data-menu=\"\" tabindex=\"0\" href=\"/#\"><span>Flat Reading Mode</span></a><a class=\" splitsecondary \"  id=\"_split\" data-menustyle=\"qtip-apgsmallmenu qtip-shadow qtip-rounded\" data-menuupexpand=\"false\" data-menu=\"[{url: \\'/Hematocriet-verhogen-m719672.aspx?print=true\\', title : \\'View Printable Page\\'}, {url: \\'/Hematocriet-verhogen-m719672.aspx?tree=true\\', title : \\'Thread Reading Mode\\'}]\" tabindex=\"0\" href=\"/#\"><span>&#10064;</span></a>\\r\\n\\t\\t</div>\\r\\n            </td>\\r\\n\\t</tr>\\r\\n</table>\\r\\n\\r\\n\\r\\n    \\r\\n\\r\\n    \\r\\n        <div class=\"small_wrapper\">\\r\\n        <div><div class=\"nxtprv\"></div>\\r\\n        <h3 class=\"message_title\">\\r\\n    Hematocriet verhogen <a href=\"http://forum.body-fitness.nl/rss-m719672.ashx\"><img src=\"/app_themes/Progressive/image/feed.png\" /></a>\\r\\n        </h3>\\r\\n        <div class=\"forum_wrapper\">\\r\\n    \\r\\n    \\r\\n    <script type=\"text/javascript\">RegisterNextPrevLinkInHeader();</script>\\r\\n    \\r\\n    <div id=\"ResultXmlPanel\" class=\"RadXmlHttpPanel\">\\r\\n\\t<!-- 2013.3.1324.40 -->\\r\\n        \\r\\n<table class=\"width100pc border0\">\\r\\n<tr class=\"smallcat\">\\r\\n<th class=\"msgtableHeader\">\\r\\n    <div class=\"authorside margin0\">Author</div>\\r\\n\\r\\n    <div class=\"msgside margin0\">\\r\\n        <span class=\"right \">\\r\\n        <a href=\"#\" onclick=\"changeTmSort(1); return false;\">\\r\\n            Post\\r\\n        </a>\\r\\n        <i class=\"icon-caret-up\"></i>\\r\\n        </span>\\r\\n    </div>\\r\\n    \\r\\n    <div class=\"center \">\\r\\n        <a class=\"topModeSwitch selected\" onclick=\"return essentialModeToggle(true);\" href=\"#\">Essentials Only</a>\\r\\n                    \\r\\n        <a class=\"topModeSwitch \" onclick=\"return essentialModeToggle(false);\" href=\"#\">Full Version</a>\\r\\n    </div>    \\r\\n</th>\\r\\n</tr>     \\r\\n\\r\\n\\r\\n\\r\\n<tr>\\r\\n<td id=\"msg719672\" class=\"msgtable item \">\\r\\n    \\r\\n    <div class=\"altItem essential authorcontent\"> \\r\\n        \\r\\n        <div class=\"essentialAuthorLine\">\\r\\n            <div id=\"Avatar719672\" class=\"essentialAvatar\">\\r\\n                <img src=\"/thumb.axd/145_15182/BABDCDEC80564607ACCA9A81E7313B38.jpg\" title=\"Marathonman\" class=\"midAvatar\" style=\"\" />\\r\\n            </div>\\r\\n            <div class=\"left\">\\r\\n                <a href=\"/Profile/15182/\" class=\"left titlehead \" data-login=\"Marathonman\" data-mem=\"15182\" data-isfriend=\"false\" data-isignored=\"false\" data-viewerisguest=\"true\" data-isownpost=\"false\" data-showpmlink=\"false\" data-isrecycled=\"false\" data-messageid=\"719672\"\\r\\n                >Marathonman </a>\\r\\n                <div class=\"divider\"></div>\\r\\n                <span class=\"left msgLabel tmUserTitle \">Heavy Weight</span>\\r\\n            </div>\\r\\n            \\r\\n            \\r\\n        </div>\\r\\n        \\r\\n         \\r\\n    </div>    \\r\\n            \\r\\n    <div class=\"item essential msgcontent\">\\r\\n        <span id=\"msgNum1\"></span>\\r\\n            \\r\\n        \\r\\n        <div class=\" lPadding10\">\\r\\n            <img src=\"/app_themes/Progressive/image/mIcons/m1.gif\" class=\"msgIcon\" />\\r\\n            <div class=\"msgSubjectLine\">\\r\\n                 \\r\\n                <span class=\"msgInfo\">\\r\\n                    <span id=\"date719672\" data-mid=\"719672\" class=\"msgDate \"> \\r\\n                        <span class=\"performdateformat\" data-date=\"2013/12/05 01:47:46\" data-format=\"ddd dd-MMM-yy HH:mm\">2013/12/05 01:47:46</span>\\r\\n                    </span>\\r\\n                    (<a href=\"javascript:void(showMsgNum(719672))\">permalink</a>)\\r\\n                    \\r\\n                </span>\\r\\n                \\r\\n            </div>\\r\\n        </div>\\r\\n        \\r\\n        <div class=\"margin10  ratingBox\" title=\"0 vote\" id=\"ratingDiv719672\"><select class=\"ratingSelect starRating\" id=\"starRating719672\"disabled=\\'disabled\\'><option value=\"\"></option><option value=\"-2\"></option><option value=\"-1\"></option><option value=\"0\"></option><option value=\"1\"></option><option value=\"2\"></option></select><div class=\"divider\"></div><span class=\"ratingResult\" id=\"ratingResult719672\">0</span></div>\\r\\n\\r\\n        <div class=\"msg \">\\r\\n            \\r\\n            <div class=\"msgSection\">\\r\\n                <h1>Hematocriet verhogen</h1>\\r\\n                Misschien iemand een idee of er iets is dat op legale manier je hematocriet merkbaar kan verhogen?<br/>\\r\\n                \\r\\n                \\r\\n            </div>\\r\\n        </div>\\r\\n        \\r\\n        <!-- AddThis Button BEGIN -->\\n<div class=\"addthis_toolbox addthis_floating_style addthis_32x32_style\" style=\"top:275px; border:1px solid #DADADA\" addthis:url=\"http://forum.body-fitness.nl/Hematocriet-verhogen-m719672.aspx\" addthis:title=\"Hematocriet%20verhogen\">\\n<a class=\"addthis_button_facebook\"></a>\\n<a class=\"addthis_button_twitter\"></a>\\n<a class=\"addthis_button_google_plusone_share\"></a>\\n<a class=\"addthis_button_compact\"></a>\\n</div>\\n<div class=\"addthis_toolbox addthis_default_style addthis_32x32_style\" addthis:url=\"http://forum.body-fitness.nl/Hematocriet-verhogen-m719672.aspx\" addthis:title=\"Hematocriet%20verhogen\">\\n<a class=\"addthis_button_facebook\"></a>\\n<a class=\"addthis_button_twitter\"></a>\\n<a class=\"addthis_button_google_plusone_share\"></a>\\n<a class=\"addthis_button_compact\"></a>\\n</div>\\n<script type=\"text/javascript\">\\nvar _share_mainOffset_left = $(\\'#main\\').offset().left;\\nvar _offset_limit = 50;\\nif (_share_mainOffset_left > _offset_limit){\\nvar $floating = $(\\'.addthis_floating_style\\');\\nvar _share_floatingOffset_left = $floating.offset().left;\\n\\n$floating.css(\\'margin-left\\', - (_share_floatingOffset_left - _share_mainOffset_left + _offset_limit));\\n$(\\'.addthis_default_style\\').remove();\\n} else {\\n$(\\'.addthis_floating_style\\').remove();\\n}\\n</script>\\r\\n\\r\\n        <div class=\"msg signature \">\\r\\n            \\r\\n        </div>\\r\\n\\r\\n        <div class=\"msgButtonsPanel \">\\r\\n            \\r\\n            \\r\\n            \\r\\n            \\r\\n            \\r\\n                \\r\\n                <a href=\"javascript:void(showMsgNum(719672))\">#1</a> \\r\\n        </div>  \\r\\n\\r\\n    </div>                 \\r\\n    \\r\\n    <div class=\"item msgRepliesDiv\">\\r\\n        \\r\\n        \\r\\n\\r\\n        <div class=\"wideDivider\"></div>\\r\\n\\r\\n        \\r\\n        \\r\\n        <h3 class=\"topReplyHeader\">14 Replies\\r\\n        <span class=\"wideOptionSep\"></span>\\r\\n        <a href=\"#\" id=\"relatedSearch\"\\r\\n            data-orisearchid=\"220605\" \\r\\n            data-orisearchterm=\"Hematocriet OR verhogen OR Fitness OR Bodybuilding\">Related Threads</a></h3>\\r\\n\\r\\n        <div id=\"relatedTopics\" class=\"relatedTopics\">\\r\\n            \\r\\n            <ul></ul>\\r\\n        </div>  \\r\\n    </div>    \\r\\n    \\r\\n</td>\\r\\n</tr>\\r\\n\\r\\n<tr>\\r\\n<td id=\"msg719679\" class=\"msgtable item \">\\r\\n    \\r\\n    <div class=\"altItem essential authorcontent\"> \\r\\n        \\r\\n        <div class=\"essentialAuthorLine\">\\r\\n            <div id=\"Avatar719679\" class=\"essentialAvatar\">\\r\\n                <img src=\"/app_themes/Progressive/image/noavatar.gif\" title=\"teddybeerke\" class=\"midAvatar\" style=\"\" />\\r\\n            </div>\\r\\n            <div class=\"left\">\\r\\n                <a href=\"/Profile/707/\" class=\"left titlehead \" data-login=\"teddybeerke\" data-mem=\"707\" data-isfriend=\"false\" data-isignored=\"false\" data-viewerisguest=\"true\" data-isownpost=\"false\" data-showpmlink=\"false\" data-isrecycled=\"false\" data-messageid=\"719679\"\\r\\n                >teddybeerke </a>\\r\\n                <div class=\"divider\"></div>\\r\\n                <span class=\"left msgLabel tmUserTitle \">hug on own risc</span>\\r\\n            </div>\\r\\n            \\r\\n            \\r\\n        </div>\\r\\n        \\r\\n         \\r\\n    </div>    \\r\\n            \\r\\n    <div class=\"item essential msgcontent\">\\r\\n        <span id=\"msgNum2\"></span>\\r\\n            \\r\\n        \\r\\n        <div class=\" lPadding10\">\\r\\n            <img src=\"/app_themes/Progressive/image/mIcons/m1.gif\" class=\"msgIcon\" />\\r\\n            <div class=\"msgSubjectLine\">\\r\\n                <span id=\"subject719679\" class=\"msgInfo\">Re: Hematocriet verhogen</span><span class=\"optionSep\"></span> \\r\\n                <span class=\"msgInfo\">\\r\\n                    <span id=\"date719679\" data-mid=\"719679\" class=\"msgDate \"> \\r\\n                        <span class=\"performdateformat\" data-date=\"2013/12/09 14:05:18\" data-format=\"ddd dd-MMM-yy HH:mm\">2013/12/09 14:05:18</span>\\r\\n                    </span>\\r\\n                    (<a href=\"javascript:void(showMsgNum(719679))\">permalink</a>)\\r\\n                    \\r\\n                </span>\\r\\n                \\r\\n            </div>\\r\\n        </div>\\r\\n        \\r\\n        <div class=\"margin10  ratingBox\" title=\"1 vote\" id=\"ratingDiv719679\"><div id=\"ratingThumbs719679\"><a href=\"javascript:(void(0))\" id=\"thumbRating719679\" class=\"up thumbdisabled\"><i class=\"icon-thumbs-up icon-large\"></i></a><a href=\"javascript:(void(0))\" id=\"thumbRating719679\" class=\"down icon-flip-horizontal thumbdisabled\"><i class=\"icon-thumbs-down icon-flip-horizontal icon-large\"></i></a></div><div class=\"divider\"></div><span class=\"ratingResult\" id=\"ratingResult719679\">+1 <span class=\"xsmall\">(1)</span></span></div>\\r\\n\\r\\n        <div class=\"msg \">\\r\\n            \\r\\n            <div class=\"msgSection\">\\r\\n                \\r\\n                Rode bietensap<br/>&nbsp;<br/>\\r\\n                \\r\\n                \\r\\n            </div>\\r\\n        </div>\\r\\n        \\r\\n        \\r\\n\\r\\n        <div class=\"msg signature \">\\r\\n            \\r\\n        </div>\\r\\n\\r\\n        <div class=\"msgButtonsPanel \">\\r\\n            \\r\\n            \\r\\n            \\r\\n            \\r\\n            \\r\\n                \\r\\n                <a href=\"javascript:void(showMsgNum(719679))\">#2</a> \\r\\n        </div>  \\r\\n\\r\\n    </div>                 \\r\\n    \\r\\n        \\r\\n    \\r\\n</td>\\r\\n</tr>\\r\\n\\r\\n<tr>\\r\\n<td id=\"msg719683\" class=\"msgtable item \">\\r\\n    \\r\\n    <div class=\"altItem essential authorcontent\"> \\r\\n        \\r\\n        <div class=\"essentialAuthorLine\">\\r\\n            <div id=\"Avatar719683\" class=\"essentialAvatar\">\\r\\n                <img src=\"/avatars/useGoogle[1].jpg\" title=\"ErEf\" class=\"midAvatar\" style=\"\" />\\r\\n            </div>\\r\\n            <div class=\"left\">\\r\\n                <a href=\"/Profile/2/\" class=\"left titlehead admin\" data-login=\"ErEf\" data-mem=\"2\" data-isfriend=\"false\" data-isignored=\"false\" data-viewerisguest=\"true\" data-isownpost=\"false\" data-showpmlink=\"false\" data-isrecycled=\"false\" data-messageid=\"719683\"\\r\\n                >ErEf </a>\\r\\n                <div class=\"divider\"></div>\\r\\n                <span class=\"left msgLabel tmUserTitle \">Growing pains BFF AD</span>\\r\\n            </div>\\r\\n            \\r\\n            \\r\\n        </div>\\r\\n        \\r\\n         \\r\\n    </div>    \\r\\n            \\r\\n    <div class=\"item essential msgcontent\">\\r\\n        <span id=\"msgNum3\"></span>\\r\\n            \\r\\n        \\r\\n        <div class=\" lPadding10\">\\r\\n            <img src=\"/app_themes/Progressive/image/mIcons/m1.gif\" class=\"msgIcon\" />\\r\\n            <div class=\"msgSubjectLine\">\\r\\n                <span id=\"subject719683\" class=\"msgInfo\">Re: Hematocriet verhogen</span><span class=\"optionSep\"></span> \\r\\n                <span class=\"msgInfo\">\\r\\n                    <span id=\"date719683\" data-mid=\"719683\" class=\"msgDate \"> \\r\\n                        <span class=\"performdateformat\" data-date=\"2013/12/09 21:39:38\" data-format=\"ddd dd-MMM-yy HH:mm\">2013/12/09 21:39:38</span>\\r\\n                    </span>\\r\\n                    (<a href=\"javascript:void(showMsgNum(719683))\">permalink</a>)\\r\\n                    \\r\\n                </span>\\r\\n                \\r\\n            </div>\\r\\n        </div>\\r\\n        \\r\\n        <div class=\"margin10  ratingBox\" title=\"0 vote\" id=\"ratingDiv719683\"><div id=\"ratingThumbs719683\"><a href=\"javascript:(void(0))\" id=\"thumbRating719683\" class=\"up thumbdisabled\"><i class=\"icon-thumbs-up icon-large\"></i></a><a href=\"javascript:(void(0))\" id=\"thumbRating719683\" class=\"down icon-flip-horizontal thumbdisabled\"><i class=\"icon-thumbs-down icon-flip-horizontal icon-large\"></i></a></div><div class=\"divider\"></div><span class=\"ratingResult\" id=\"ratingResult719683\">0</span></div>\\r\\n\\r\\n        <div class=\"msg \">\\r\\n            \\r\\n            <div class=\"msgSection\">\\r\\n                \\r\\n                bietjes! <img src=\"http://forum.body-fitness.nl/upfiles/smiley/s1.gif\" alt=\"blij\" data-smiley=\":)\" /><br/>&nbsp;<br/>o shit.. merkbaar<br/>&nbsp;<br/>\\r\\n                \\r\\n                \\r\\n            </div>\\r\\n        </div>\\r\\n        \\r\\n        \\r\\n\\r\\n        <div class=\"msg signature \">\\r\\n            \\r\\n        </div>\\r\\n\\r\\n        <div class=\"msgButtonsPanel \">\\r\\n            \\r\\n            \\r\\n            \\r\\n            \\r\\n            \\r\\n                \\r\\n                <a href=\"javascript:void(showMsgNum(719683))\">#3</a> \\r\\n        </div>  \\r\\n\\r\\n    </div>                 \\r\\n    \\r\\n        \\r\\n    \\r\\n</td>\\r\\n</tr>\\r\\n\\r\\n<tr>\\r\\n<td id=\"msg719687\" class=\"msgtable item \">\\r\\n    \\r\\n    <div class=\"altItem essential authorcontent\"> \\r\\n        \\r\\n        <div class=\"essentialAuthorLine\">\\r\\n            <div id=\"Avatar719687\" class=\"essentialAvatar\">\\r\\n                <img src=\"/thumb.axd/145_15182/BABDCDEC80564607ACCA9A81E7313B38.jpg\" title=\"Marathonman\" class=\"midAvatar\" style=\"\" />\\r\\n            </div>\\r\\n            <div class=\"left\">\\r\\n                <a href=\"/Profile/15182/\" class=\"left titlehead \" data-login=\"Marathonman\" data-mem=\"15182\" data-isfriend=\"false\" data-isignored=\"false\" data-viewerisguest=\"true\" data-isownpost=\"false\" data-showpmlink=\"false\" data-isrecycled=\"false\" data-messageid=\"719687\"\\r\\n                >Marathonman </a>\\r\\n                <div class=\"divider\"></div>\\r\\n                <span class=\"left msgLabel tmUserTitle \">Heavy Weight</span>\\r\\n            </div>\\r\\n            \\r\\n            \\r\\n        </div>\\r\\n        \\r\\n         \\r\\n    </div>    \\r\\n            \\r\\n    <div class=\"item essential msgcontent\">\\r\\n        <span id=\"msgNum4\"></span>\\r\\n            \\r\\n        \\r\\n        <div class=\" lPadding10\">\\r\\n            <img src=\"/app_themes/Progressive/image/mIcons/m1.gif\" class=\"msgIcon\" />\\r\\n            <div class=\"msgSubjectLine\">\\r\\n                <span id=\"subject719687\" class=\"msgInfo\">Re: Hematocriet verhogen</span><span class=\"optionSep\"></span> \\r\\n                <span class=\"msgInfo\">\\r\\n                    <span id=\"date719687\" data-mid=\"719687\" class=\"msgDate \"> \\r\\n                        <span class=\"performdateformat\" data-date=\"2013/12/10 16:28:11\" data-format=\"ddd dd-MMM-yy HH:mm\">2013/12/10 16:28:11</span>\\r\\n                    </span>\\r\\n                    (<a href=\"javascript:void(showMsgNum(719687))\">permalink</a>)\\r\\n                    \\r\\n                </span>\\r\\n                \\r\\n            </div>\\r\\n        </div>\\r\\n        \\r\\n        <div class=\"margin10  ratingBox\" title=\"0 vote\" id=\"ratingDiv719687\"><div id=\"ratingThumbs719687\"><a href=\"javascript:(void(0))\" id=\"thumbRating719687\" class=\"up thumbdisabled\"><i class=\"icon-thumbs-up icon-large\"></i></a><a href=\"javascript:(void(0))\" id=\"thumbRating719687\" class=\"down icon-flip-horizontal thumbdisabled\"><i class=\"icon-thumbs-down icon-flip-horizontal icon-large\"></i></a></div><div class=\"divider\"></div><span class=\"ratingResult\" id=\"ratingResult719687\">0</span></div>\\r\\n\\r\\n        <div class=\"msg \">\\r\\n            \\r\\n            <div class=\"msgSection\">\\r\\n                \\r\\n                al geprobeerd bloed laten trekken voor een week bietensap en erna, maar gaf niks <img src=\"http://forum.body-fitness.nl/upfiles/smiley/s12.gif\" alt=\"\" data-smiley=\":-\" />(<br/>&nbsp;<br/>Langer dan 5 dagen achter elkaar een halve liter bietensap/dag drinken zou weinig zin hebben volgens mijn arts<br/>\\r\\n                \\r\\n                \\r\\n            </div>\\r\\n        </div>\\r\\n        \\r\\n        \\r\\n\\r\\n        <div class=\"msg signature \">\\r\\n            \\r\\n        </div>\\r\\n\\r\\n        <div class=\"msgButtonsPanel \">\\r\\n            \\r\\n            \\r\\n            \\r\\n            \\r\\n            \\r\\n                \\r\\n                <a href=\"javascript:void(showMsgNum(719687))\">#4</a> \\r\\n        </div>  \\r\\n\\r\\n    </div>                 \\r\\n    \\r\\n        \\r\\n    \\r\\n</td>\\r\\n</tr>\\r\\n\\r\\n<tr>\\r\\n<td id=\"msg719689\" class=\"msgtable item \">\\r\\n    \\r\\n    <div class=\"altItem essential authorcontent\"> \\r\\n        \\r\\n        <div class=\"essentialAuthorLine\">\\r\\n            <div id=\"Avatar719689\" class=\"essentialAvatar\">\\r\\n                <img src=\"/avatars/useGoogle[1].jpg\" title=\"ErEf\" class=\"midAvatar\" style=\"\" />\\r\\n            </div>\\r\\n            <div class=\"left\">\\r\\n                <a href=\"/Profile/2/\" class=\"left titlehead admin\" data-login=\"ErEf\" data-mem=\"2\" data-isfriend=\"false\" data-isignored=\"false\" data-viewerisguest=\"true\" data-isownpost=\"false\" data-showpmlink=\"false\" data-isrecycled=\"false\" data-messageid=\"719689\"\\r\\n                >ErEf </a>\\r\\n                <div class=\"divider\"></div>\\r\\n                <span class=\"left msgLabel tmUserTitle \">Growing pains BFF AD</span>\\r\\n            </div>\\r\\n            \\r\\n            \\r\\n        </div>\\r\\n        \\r\\n         \\r\\n    </div>    \\r\\n            \\r\\n    <div class=\"item essential msgcontent\">\\r\\n        <span id=\"msgNum5\"></span>\\r\\n            \\r\\n        \\r\\n        <div class=\" lPadding10\">\\r\\n            <img src=\"/app_themes/Progressive/image/mIcons/m1.gif\" class=\"msgIcon\" />\\r\\n            <div class=\"msgSubjectLine\">\\r\\n                <span id=\"subject719689\" class=\"msgInfo\">Re: Hematocriet verhogen</span><span class=\"optionSep\"></span> \\r\\n                <span class=\"msgInfo\">\\r\\n                    <span id=\"date719689\" data-mid=\"719689\" class=\"msgDate \"> \\r\\n                        <span class=\"performdateformat\" data-date=\"2013/12/11 09:05:21\" data-format=\"ddd dd-MMM-yy HH:mm\">2013/12/11 09:05:21</span>\\r\\n                    </span>\\r\\n                    (<a href=\"javascript:void(showMsgNum(719689))\">permalink</a>)\\r\\n                    \\r\\n                </span>\\r\\n                \\r\\n            </div>\\r\\n        </div>\\r\\n        \\r\\n        <div class=\"margin10  ratingBox\" title=\"0 vote\" id=\"ratingDiv719689\"><div id=\"ratingThumbs719689\"><a href=\"javascript:(void(0))\" id=\"thumbRating719689\" class=\"up thumbdisabled\"><i class=\"icon-thumbs-up icon-large\"></i></a><a href=\"javascript:(void(0))\" id=\"thumbRating719689\" class=\"down icon-flip-horizontal thumbdisabled\"><i class=\"icon-thumbs-down icon-flip-horizontal icon-large\"></i></a></div><div class=\"divider\"></div><span class=\"ratingResult\" id=\"ratingResult719689\">0</span></div>\\r\\n\\r\\n        <div class=\"msg \">\\r\\n            \\r\\n            <div class=\"msgSection\">\\r\\n                \\r\\n                ik heb eens een docu gezien van .. hoe heet die wielrenner die Armstrong aan de paal nagelde? Floyd Landis?&nbsp;.. iig.. die had een kamertje gebouwd, meer een koker, waarin hij het zuurstof niveau gecontroleerd lager bracht om zo een hoogtestage te simuleren.<br/>\\r\\n                \\r\\n                \\r\\n            </div>\\r\\n        </div>\\r\\n        \\r\\n        \\r\\n\\r\\n        <div class=\"msg signature \">\\r\\n            \\r\\n        </div>\\r\\n\\r\\n        <div class=\"msgButtonsPanel \">\\r\\n            \\r\\n            \\r\\n            \\r\\n            \\r\\n            \\r\\n                \\r\\n                <a href=\"javascript:void(showMsgNum(719689))\">#5</a> \\r\\n        </div>  \\r\\n\\r\\n    </div>                 \\r\\n    \\r\\n        \\r\\n    \\r\\n</td>\\r\\n</tr>\\r\\n\\r\\n<tr>\\r\\n<td id=\"msg719721\" class=\"msgtable item \">\\r\\n    \\r\\n    <div class=\"altItem essential authorcontent\"> \\r\\n        \\r\\n        <div class=\"essentialAuthorLine\">\\r\\n            <div id=\"Avatar719721\" class=\"essentialAvatar\">\\r\\n                <img src=\"/thumb.axd/145_205/8FA6CEBBFEBF45BFA098900CFAB8EE15.jpg\" title=\"Marcus\" class=\"midAvatar\" style=\"\" />\\r\\n            </div>\\r\\n            <div class=\"left\">\\r\\n                <a href=\"/Profile/205/\" class=\"left titlehead \" data-login=\"Marcus\" data-mem=\"205\" data-isfriend=\"false\" data-isignored=\"false\" data-viewerisguest=\"true\" data-isownpost=\"false\" data-showpmlink=\"false\" data-isrecycled=\"false\" data-messageid=\"719721\"\\r\\n                >Marcus </a>\\r\\n                <div class=\"divider\"></div>\\r\\n                <span class=\"left msgLabel tmUserTitle \">Natural born chiller</span>\\r\\n            </div>\\r\\n            \\r\\n            \\r\\n        </div>\\r\\n        \\r\\n         \\r\\n    </div>    \\r\\n            \\r\\n    <div class=\"item essential msgcontent\">\\r\\n        <span id=\"msgNum6\"></span>\\r\\n            \\r\\n        \\r\\n        <div class=\" lPadding10\">\\r\\n            <img src=\"/app_themes/Progressive/image/mIcons/m1.gif\" class=\"msgIcon\" />\\r\\n            <div class=\"msgSubjectLine\">\\r\\n                <span id=\"subject719721\" class=\"msgInfo\">Re: Hematocriet verhogen</span><span class=\"optionSep\"></span> \\r\\n                <span class=\"msgInfo\">\\r\\n                    <span id=\"date719721\" data-mid=\"719721\" class=\"msgDate \"> \\r\\n                        <span class=\"performdateformat\" data-date=\"2013/12/16 13:31:59\" data-format=\"ddd dd-MMM-yy HH:mm\">2013/12/16 13:31:59</span>\\r\\n                    </span>\\r\\n                    (<a href=\"javascript:void(showMsgNum(719721))\">permalink</a>)\\r\\n                    \\r\\n                </span>\\r\\n                \\r\\n            </div>\\r\\n        </div>\\r\\n        \\r\\n        <div class=\"margin10  ratingBox\" title=\"0 vote\" id=\"ratingDiv719721\"><div id=\"ratingThumbs719721\"><a href=\"javascript:(void(0))\" id=\"thumbRating719721\" class=\"up thumbdisabled\"><i class=\"icon-thumbs-up icon-large\"></i></a><a href=\"javascript:(void(0))\" id=\"thumbRating719721\" class=\"down icon-flip-horizontal thumbdisabled\"><i class=\"icon-thumbs-down icon-flip-horizontal icon-large\"></i></a></div><div class=\"divider\"></div><span class=\"ratingResult\" id=\"ratingResult719721\">0</span></div>\\r\\n\\r\\n        <div class=\"msg \">\\r\\n            \\r\\n            <div class=\"msgSection\">\\r\\n                \\r\\n                Uitdroging? <img src=\"http://forum.body-fitness.nl/upfiles/smiley/s2.gif\" alt=\"super blij\" data-smiley=\":D\" /><br/>Wielrenner die ik ken zegt baat te hebben bij vitamine B12 injecties.<br/>&nbsp;<br/>Waarom wil je trouwens hematocriet verhogen? Ik neem aan voor je aerobe conditie?<br/>IMO is hematocriet verhogen geen interessant doel op zichzelf.<br/>Heb zelf bijvoorbeeld van nature een hoog hematocriet. Meestal rond de 50% en ooit wel eens getest op 51,2%, wil niet zeggen dat ik daardoor een super aerobe conditie had. Het is 1 factor uit de velen die je aerobe conditie bepalen en in mijn ervaring zeker niet de belangrijkste.<br/>\\r\\n                \\r\\n                \\r\\n            </div>\\r\\n        </div>\\r\\n        \\r\\n        \\r\\n\\r\\n        <div class=\"msg signature \">\\r\\n            \\r\\n        </div>\\r\\n\\r\\n        <div class=\"msgButtonsPanel \">\\r\\n            \\r\\n            \\r\\n            \\r\\n            \\r\\n            \\r\\n                \\r\\n                <a href=\"javascript:void(showMsgNum(719721))\">#6</a> \\r\\n        </div>  \\r\\n\\r\\n    </div>                 \\r\\n    \\r\\n        \\r\\n    \\r\\n</td>\\r\\n</tr>\\r\\n\\r\\n<tr>\\r\\n<td id=\"msg719723\" class=\"msgtable item \">\\r\\n    \\r\\n    <div class=\"altItem essential authorcontent\"> \\r\\n        \\r\\n        <div class=\"essentialAuthorLine\">\\r\\n            <div id=\"Avatar719723\" class=\"essentialAvatar\">\\r\\n                <img src=\"/thumb.axd/145_15182/BABDCDEC80564607ACCA9A81E7313B38.jpg\" title=\"Marathonman\" class=\"midAvatar\" style=\"\" />\\r\\n            </div>\\r\\n            <div class=\"left\">\\r\\n                <a href=\"/Profile/15182/\" class=\"left titlehead \" data-login=\"Marathonman\" data-mem=\"15182\" data-isfriend=\"false\" data-isignored=\"false\" data-viewerisguest=\"true\" data-isownpost=\"false\" data-showpmlink=\"false\" data-isrecycled=\"false\" data-messageid=\"719723\"\\r\\n                >Marathonman </a>\\r\\n                <div class=\"divider\"></div>\\r\\n                <span class=\"left msgLabel tmUserTitle \">Heavy Weight</span>\\r\\n            </div>\\r\\n            \\r\\n            \\r\\n        </div>\\r\\n        \\r\\n         \\r\\n    </div>    \\r\\n            \\r\\n    <div class=\"item essential msgcontent\">\\r\\n        <span id=\"msgNum7\"></span>\\r\\n            \\r\\n        \\r\\n        <div class=\" lPadding10\">\\r\\n            <img src=\"/app_themes/Progressive/image/mIcons/m1.gif\" class=\"msgIcon\" />\\r\\n            <div class=\"msgSubjectLine\">\\r\\n                <span id=\"subject719723\" class=\"msgInfo\">Re: Hematocriet verhogen</span><span class=\"optionSep\"></span> \\r\\n                <span class=\"msgInfo\">\\r\\n                    <span id=\"date719723\" data-mid=\"719723\" class=\"msgDate \"> \\r\\n                        <span class=\"performdateformat\" data-date=\"2013/12/16 17:04:25\" data-format=\"ddd dd-MMM-yy HH:mm\">2013/12/16 17:04:25</span>\\r\\n                    </span>\\r\\n                    (<a href=\"javascript:void(showMsgNum(719723))\">permalink</a>)\\r\\n                    \\r\\n                </span>\\r\\n                \\r\\n            </div>\\r\\n        </div>\\r\\n        \\r\\n        <div class=\"margin10  ratingBox\" title=\"0 vote\" id=\"ratingDiv719723\"><div id=\"ratingThumbs719723\"><a href=\"javascript:(void(0))\" id=\"thumbRating719723\" class=\"up thumbdisabled\"><i class=\"icon-thumbs-up icon-large\"></i></a><a href=\"javascript:(void(0))\" id=\"thumbRating719723\" class=\"down icon-flip-horizontal thumbdisabled\"><i class=\"icon-thumbs-down icon-flip-horizontal icon-large\"></i></a></div><div class=\"divider\"></div><span class=\"ratingResult\" id=\"ratingResult719723\">0</span></div>\\r\\n\\r\\n        <div class=\"msg \">\\r\\n            \\r\\n            <div class=\"msgSection\">\\r\\n                \\r\\n                Als je een tijd lang veel kms doet zal je hematocriet verlagen.&nbsp; Bijvoorbeeld na 10 weken trainen voor een marathon in een fatsoenlijke tijd zal je hematocriet aanzienlijk dalen en hoe lager je hematocriet onder het normale pijl hoe minder prestatie je nog kan leveren. Vandaar.. Zit nu iets onder 43 en 2 jaar geleden 48.. (of is het 143 en 148?)<br/>\\r\\n                \\r\\n                \\r\\n            </div>\\r\\n        </div>\\r\\n        \\r\\n        \\r\\n\\r\\n        <div class=\"msg signature \">\\r\\n            \\r\\n        </div>\\r\\n\\r\\n        <div class=\"msgButtonsPanel \">\\r\\n            \\r\\n            \\r\\n            \\r\\n            \\r\\n            \\r\\n                \\r\\n                <a href=\"javascript:void(showMsgNum(719723))\">#7</a> \\r\\n        </div>  \\r\\n\\r\\n    </div>                 \\r\\n    \\r\\n        \\r\\n    \\r\\n</td>\\r\\n</tr>\\r\\n\\r\\n<tr>\\r\\n<td id=\"msg719725\" class=\"msgtable item \">\\r\\n    \\r\\n    <div class=\"altItem essential authorcontent\"> \\r\\n        \\r\\n        <div class=\"essentialAuthorLine\">\\r\\n            <div id=\"Avatar719725\" class=\"essentialAvatar\">\\r\\n                <img src=\"/thumb.axd/145_15182/BABDCDEC80564607ACCA9A81E7313B38.jpg\" title=\"Marathonman\" class=\"midAvatar\" style=\"\" />\\r\\n            </div>\\r\\n            <div class=\"left\">\\r\\n                <a href=\"/Profile/15182/\" class=\"left titlehead \" data-login=\"Marathonman\" data-mem=\"15182\" data-isfriend=\"false\" data-isignored=\"false\" data-viewerisguest=\"true\" data-isownpost=\"false\" data-showpmlink=\"false\" data-isrecycled=\"false\" data-messageid=\"719725\"\\r\\n                >Marathonman </a>\\r\\n                <div class=\"divider\"></div>\\r\\n                <span class=\"left msgLabel tmUserTitle \">Heavy Weight</span>\\r\\n            </div>\\r\\n            \\r\\n            \\r\\n        </div>\\r\\n        \\r\\n         \\r\\n    </div>    \\r\\n            \\r\\n    <div class=\"item essential msgcontent\">\\r\\n        <span id=\"msgNum8\"></span>\\r\\n            \\r\\n        \\r\\n        <div class=\" lPadding10\">\\r\\n            <img src=\"/app_themes/Progressive/image/mIcons/m1.gif\" class=\"msgIcon\" />\\r\\n            <div class=\"msgSubjectLine\">\\r\\n                <span id=\"subject719725\" class=\"msgInfo\">Re: Hematocriet verhogen</span><span class=\"optionSep\"></span> \\r\\n                <span class=\"msgInfo\">\\r\\n                    <span id=\"date719725\" data-mid=\"719725\" class=\"msgDate \"> \\r\\n                        <span class=\"performdateformat\" data-date=\"2013/12/17 00:01:31\" data-format=\"ddd dd-MMM-yy HH:mm\">2013/12/17 00:01:31</span>\\r\\n                    </span>\\r\\n                    (<a href=\"javascript:void(showMsgNum(719725))\">permalink</a>)\\r\\n                    \\r\\n                </span>\\r\\n                \\r\\n            </div>\\r\\n        </div>\\r\\n        \\r\\n        <div class=\"margin10  ratingBox\" title=\"0 vote\" id=\"ratingDiv719725\"><div id=\"ratingThumbs719725\"><a href=\"javascript:(void(0))\" id=\"thumbRating719725\" class=\"up thumbdisabled\"><i class=\"icon-thumbs-up icon-large\"></i></a><a href=\"javascript:(void(0))\" id=\"thumbRating719725\" class=\"down icon-flip-horizontal thumbdisabled\"><i class=\"icon-thumbs-down icon-flip-horizontal icon-large\"></i></a></div><div class=\"divider\"></div><span class=\"ratingResult\" id=\"ratingResult719725\">0</span></div>\\r\\n\\r\\n        <div class=\"msg \">\\r\\n            \\r\\n            <div class=\"msgSection\">\\r\\n                \\r\\n                <blockquote class=\"quote\"><span class=\"original\">Marcus</span><br/>Heb zelf bijvoorbeeld van nature een hoog hematocriet. Meestal rond de 50% en ooit wel eens getest op 51,2%, wil niet zeggen dat ik daardoor een super aerobe conditie had. Het is 1 factor uit de velen die je aerobe conditie bepalen en in mijn ervaring zeker niet de belangrijkste.<br/></blockquote><br><br><br/>&nbsp;<br/>Volgens mij wordt de hematocriet(zal het nu ook met % aanduiden) zelfs lager hoe beter je in conditie komt. Door veel aeroob te trainen wordt je aerobe conditie beter, maar je hematocriet zal dalen. Na voor iets zwaar getraind te hebben(neem hier als vb marathon omdat ik daar een beetje van weet) zal je hematocriet ZWAAR gedaald zijn, maar je conditie is op zich goed. Het is dan wel gezond weer te recupereren en je hematocriet te verhogen..<br/>&nbsp;<br/>Ik zat dus toen ik alleen maar wat voetbalde en af en toe met gewichtjes aanmodderde op 48% en &nbsp;later na een marathon op 43%. Conditie was echter 10X beter bij die 43%, maar lichaam was bijna uitgeput..<br/>Eigenlijk moet je je jaar periodiseren, maar is nu de 1e keer dat ik hiermee te maken krijg.<br/>&nbsp;<br/>&nbsp;Zou hem dus weer rond 48% willen krijgen om dan terug iets (op mijn niveau) spectaculairs te doen.. Binnenkort nog eens bloed laten prikken, want marathon is ondertussen alweer 2 maanden voorbij en heb niet zoveel meer getraind..<br><br>Vraag is dus wat je kan doen om die omhoog te krijgen zonder EPO. &nbsp;Hoogtestage zit er ook niet in. &nbsp;<img src=\"http://forum.body-fitness.nl/upfiles/smiley/s2.gif\" alt=\"super blij\" data-smiley=\":D\" /><br><br>Vitamine B-12 injecties kan ik zonder problemen krijgen bij mn sportarts denk ik. Hij heeft een aantal jaar geleden een wielerteam medisch bijgeleid in de tour, dus ik veronderstel dat hij er wel wat vanaf weet, maar ik val hem niet om de haverklap lastig met vragen over mijn toch wel beperkte prestaties.. Vandaar dat ik het hier ook even vroeg..<br/>\\r\\n                \\r\\n                \\r\\n            </div>\\r\\n        </div>\\r\\n        \\r\\n        \\r\\n\\r\\n        <div class=\"msg signature \">\\r\\n            \\r\\n        </div>\\r\\n\\r\\n        <div class=\"msgButtonsPanel \">\\r\\n            \\r\\n            \\r\\n            \\r\\n            \\r\\n            \\r\\n                \\r\\n                <a href=\"javascript:void(showMsgNum(719725))\">#8</a> \\r\\n        </div>  \\r\\n\\r\\n    </div>                 \\r\\n    \\r\\n        \\r\\n    \\r\\n</td>\\r\\n</tr>\\r\\n\\r\\n<tr>\\r\\n<td id=\"msg719728\" class=\"msgtable item \">\\r\\n    \\r\\n    <div class=\"altItem essential authorcontent\"> \\r\\n        \\r\\n        <div class=\"essentialAuthorLine\">\\r\\n            <div id=\"Avatar719728\" class=\"essentialAvatar\">\\r\\n                <img src=\"/thumb.axd/145_205/8FA6CEBBFEBF45BFA098900CFAB8EE15.jpg\" title=\"Marcus\" class=\"midAvatar\" style=\"\" />\\r\\n            </div>\\r\\n            <div class=\"left\">\\r\\n                <a href=\"/Profile/205/\" class=\"left titlehead \" data-login=\"Marcus\" data-mem=\"205\" data-isfriend=\"false\" data-isignored=\"false\" data-viewerisguest=\"true\" data-isownpost=\"false\" data-showpmlink=\"false\" data-isrecycled=\"false\" data-messageid=\"719728\"\\r\\n                >Marcus </a>\\r\\n                <div class=\"divider\"></div>\\r\\n                <span class=\"left msgLabel tmUserTitle \">Natural born chiller</span>\\r\\n            </div>\\r\\n            \\r\\n            \\r\\n        </div>\\r\\n        \\r\\n         \\r\\n    </div>    \\r\\n            \\r\\n    <div class=\"item essential msgcontent\">\\r\\n        <span id=\"msgNum9\"></span>\\r\\n            \\r\\n        \\r\\n        <div class=\" lPadding10\">\\r\\n            <img src=\"/app_themes/Progressive/image/mIcons/m1.gif\" class=\"msgIcon\" />\\r\\n            <div class=\"msgSubjectLine\">\\r\\n                <span id=\"subject719728\" class=\"msgInfo\">Re: Hematocriet verhogen</span><span class=\"optionSep\"></span> \\r\\n                <span class=\"msgInfo\">\\r\\n                    <span id=\"date719728\" data-mid=\"719728\" class=\"msgDate \"> \\r\\n                        <span class=\"performdateformat\" data-date=\"2013/12/17 16:10:21\" data-format=\"ddd dd-MMM-yy HH:mm\">2013/12/17 16:10:21</span>\\r\\n                    </span>\\r\\n                    (<a href=\"javascript:void(showMsgNum(719728))\">permalink</a>)\\r\\n                    \\r\\n                </span>\\r\\n                \\r\\n            </div>\\r\\n        </div>\\r\\n        \\r\\n        <div class=\"margin10  ratingBox\" title=\"0 vote\" id=\"ratingDiv719728\"><div id=\"ratingThumbs719728\"><a href=\"javascript:(void(0))\" id=\"thumbRating719728\" class=\"up thumbdisabled\"><i class=\"icon-thumbs-up icon-large\"></i></a><a href=\"javascript:(void(0))\" id=\"thumbRating719728\" class=\"down icon-flip-horizontal thumbdisabled\"><i class=\"icon-thumbs-down icon-flip-horizontal icon-large\"></i></a></div><div class=\"divider\"></div><span class=\"ratingResult\" id=\"ratingResult719728\">0</span></div>\\r\\n\\r\\n        <div class=\"msg \">\\r\\n            \\r\\n            <div class=\"msgSection\">\\r\\n                \\r\\n                <blockquote class=\"quote\"><span class=\"original\"></span>Zit nu iets onder 43 en 2 jaar geleden 48.. (of is het 143 en 148?)</blockquote><br/>&nbsp;<br/>hematocriet is volume fractie rode bloedcellen in bloed, dus elke getal boven de 100 indien aangegeven in percentage zou nergens op slaan.<br><blockquote class=\"quote\"><span class=\"original\"></span>Volgens mij wordt de hematocriet(zal het nu ook met % aanduiden) zelfs lager hoe beter je in conditie komt. Door veel aeroob te trainen wordt je aerobe conditie beter, maar je hematocriet zal dalen. Na voor iets zwaar getraind te hebben(neem hier als vb marathon omdat ik daar een beetje van weet) zal je hematocriet ZWAAR gedaald zijn, maar je conditie is op zich goed. Het is dan wel gezond weer te recupereren en je hematocriet te verhogen..</blockquote>MINDER rode bloedcellen als gevolg van aerobe training is NIET een normale training respons, juist het omgekeerde.<br>Is ook niet logisch omdat je conditie mede bepaald wordt door hoeveel zuurstof je kunt transporteren in je bloed en dat gebeurt met hemoglobine in rode bloedcellen.Als jij een betere conditie kan hebben bij en HT van 43% dan bij een HT van 48% dan zegt dat denk ik dat er op jouw niveau waarschijnlijk andere factoren een grotere impact hebben op je conditie dan HT.<br/>&nbsp;<br/>edit:<br/>5% is trouwens een behoorlijke verlaging van HT (=de helft van het normale bereik van HT in mensen).<br/>Misschien een idee om uit te laten sluiten dat het niet het gevolg is van enge onderliggende gezondheidsproblemen.<br/>\\r\\n                <div class=\"editInfo\"><i class=\"icon-edit\"></i> post edited by Marcus - <span class=\"performdateformat\" data-date=\"2013/12/17 16:21:03\" data-format=\"ddd dd-MMM-yy HH:mm\">2013/12/17 16:21:03</span></div>\\r\\n                \\r\\n            </div>\\r\\n        </div>\\r\\n        \\r\\n        \\r\\n\\r\\n        <div class=\"msg signature \">\\r\\n            \\r\\n        </div>\\r\\n\\r\\n        <div class=\"msgButtonsPanel \">\\r\\n            \\r\\n            \\r\\n            \\r\\n            \\r\\n            \\r\\n                \\r\\n                <a href=\"javascript:void(showMsgNum(719728))\">#9</a> \\r\\n        </div>  \\r\\n\\r\\n    </div>                 \\r\\n    \\r\\n        \\r\\n    \\r\\n</td>\\r\\n</tr>\\r\\n\\r\\n<tr>\\r\\n<td id=\"msg719734\" class=\"msgtable item \">\\r\\n    \\r\\n    <div class=\"altItem essential authorcontent\"> \\r\\n        \\r\\n        <div class=\"essentialAuthorLine\">\\r\\n            <div id=\"Avatar719734\" class=\"essentialAvatar\">\\r\\n                <img src=\"/thumb.axd/145_15182/BABDCDEC80564607ACCA9A81E7313B38.jpg\" title=\"Marathonman\" class=\"midAvatar\" style=\"\" />\\r\\n            </div>\\r\\n            <div class=\"left\">\\r\\n                <a href=\"/Profile/15182/\" class=\"left titlehead \" data-login=\"Marathonman\" data-mem=\"15182\" data-isfriend=\"false\" data-isignored=\"false\" data-viewerisguest=\"true\" data-isownpost=\"false\" data-showpmlink=\"false\" data-isrecycled=\"false\" data-messageid=\"719734\"\\r\\n                >Marathonman </a>\\r\\n                <div class=\"divider\"></div>\\r\\n                <span class=\"left msgLabel tmUserTitle \">Heavy Weight</span>\\r\\n            </div>\\r\\n            \\r\\n            \\r\\n        </div>\\r\\n        \\r\\n         \\r\\n    </div>    \\r\\n            \\r\\n    <div class=\"item essential msgcontent\">\\r\\n        <span id=\"msgNum10\"></span>\\r\\n            \\r\\n        \\r\\n        <div class=\" lPadding10\">\\r\\n            <img src=\"/app_themes/Progressive/image/mIcons/m1.gif\" class=\"msgIcon\" />\\r\\n            <div class=\"msgSubjectLine\">\\r\\n                <span id=\"subject719734\" class=\"msgInfo\">Re: Hematocriet verhogen</span><span class=\"optionSep\"></span> \\r\\n                <span class=\"msgInfo\">\\r\\n                    <span id=\"date719734\" data-mid=\"719734\" class=\"msgDate \"> \\r\\n                        <span class=\"performdateformat\" data-date=\"2013/12/17 20:03:04\" data-format=\"ddd dd-MMM-yy HH:mm\">2013/12/17 20:03:04</span>\\r\\n                    </span>\\r\\n                    (<a href=\"javascript:void(showMsgNum(719734))\">permalink</a>)\\r\\n                    \\r\\n                </span>\\r\\n                \\r\\n            </div>\\r\\n        </div>\\r\\n        \\r\\n        <div class=\"margin10  ratingBox\" title=\"1 vote\" id=\"ratingDiv719734\"><div id=\"ratingThumbs719734\"><a href=\"javascript:(void(0))\" id=\"thumbRating719734\" class=\"up thumbdisabled\"><i class=\"icon-thumbs-up icon-large\"></i></a><a href=\"javascript:(void(0))\" id=\"thumbRating719734\" class=\"down icon-flip-horizontal thumbdisabled\"><i class=\"icon-thumbs-down icon-flip-horizontal icon-large\"></i></a></div><div class=\"divider\"></div><span class=\"ratingResult\" id=\"ratingResult719734\">+1 <span class=\"xsmall\">(1)</span></span></div>\\r\\n\\r\\n        <div class=\"msg \">\\r\\n            \\r\\n            <div class=\"msgSection\">\\r\\n                \\r\\n                <blockquote class=\"quote\"><span class=\"original\">Marcus</span><br/>MINDER rode bloedcellen als gevolg van aerobe training is NIET een normale training respons, juist het omgekeerde.</blockquote><br><br><br/>&nbsp;<br/>Heb het over in het ROOD gaan met je trainingen en wedstrijden.&nbsp; Dus jij denkt dat wielrenners na het einde van de tour de France hun hematocriet niet gedaalt is?? Waarom spoot iedereen dan EPO in de jaren \\'90? Dat was niet zomaar om stoer te doen hoor.<br><br><br/>\\r\\n                \\r\\n                \\r\\n            </div>\\r\\n        </div>\\r\\n        \\r\\n        \\r\\n\\r\\n        <div class=\"msg signature \">\\r\\n            \\r\\n        </div>\\r\\n\\r\\n        <div class=\"msgButtonsPanel \">\\r\\n            \\r\\n            \\r\\n            \\r\\n            \\r\\n            \\r\\n                \\r\\n                <a href=\"javascript:void(showMsgNum(719734))\">#10</a> \\r\\n        </div>  \\r\\n\\r\\n    </div>                 \\r\\n    \\r\\n        \\r\\n    \\r\\n</td>\\r\\n</tr>\\r\\n\\r\\n<tr>\\r\\n<td id=\"msg719735\" class=\"msgtable item \">\\r\\n    \\r\\n    <div class=\"altItem essential authorcontent\"> \\r\\n        \\r\\n        <div class=\"essentialAuthorLine\">\\r\\n            <div id=\"Avatar719735\" class=\"essentialAvatar\">\\r\\n                <img src=\"/thumb.axd/145_205/8FA6CEBBFEBF45BFA098900CFAB8EE15.jpg\" title=\"Marcus\" class=\"midAvatar\" style=\"\" />\\r\\n            </div>\\r\\n            <div class=\"left\">\\r\\n                <a href=\"/Profile/205/\" class=\"left titlehead \" data-login=\"Marcus\" data-mem=\"205\" data-isfriend=\"false\" data-isignored=\"false\" data-viewerisguest=\"true\" data-isownpost=\"false\" data-showpmlink=\"false\" data-isrecycled=\"false\" data-messageid=\"719735\"\\r\\n                >Marcus </a>\\r\\n                <div class=\"divider\"></div>\\r\\n                <span class=\"left msgLabel tmUserTitle \">Natural born chiller</span>\\r\\n            </div>\\r\\n            \\r\\n            \\r\\n        </div>\\r\\n        \\r\\n         \\r\\n    </div>    \\r\\n            \\r\\n    <div class=\"item essential msgcontent\">\\r\\n        <span id=\"msgNum11\"></span>\\r\\n            \\r\\n        \\r\\n        <div class=\" lPadding10\">\\r\\n            <img src=\"/app_themes/Progressive/image/mIcons/m1.gif\" class=\"msgIcon\" />\\r\\n            <div class=\"msgSubjectLine\">\\r\\n                <span id=\"subject719735\" class=\"msgInfo\">Re: Hematocriet verhogen</span><span class=\"optionSep\"></span> \\r\\n                <span class=\"msgInfo\">\\r\\n                    <span id=\"date719735\" data-mid=\"719735\" class=\"msgDate \"> \\r\\n                        <span class=\"performdateformat\" data-date=\"2013/12/18 00:47:41\" data-format=\"ddd dd-MMM-yy HH:mm\">2013/12/18 00:47:41</span>\\r\\n                    </span>\\r\\n                    (<a href=\"javascript:void(showMsgNum(719735))\">permalink</a>)\\r\\n                    \\r\\n                </span>\\r\\n                \\r\\n            </div>\\r\\n        </div>\\r\\n        \\r\\n        <div class=\"margin10  ratingBox\" title=\"1 vote\" id=\"ratingDiv719735\"><div id=\"ratingThumbs719735\"><a href=\"javascript:(void(0))\" id=\"thumbRating719735\" class=\"up thumbdisabled\"><i class=\"icon-thumbs-up icon-large\"></i></a><a href=\"javascript:(void(0))\" id=\"thumbRating719735\" class=\"down icon-flip-horizontal thumbdisabled\"><i class=\"icon-thumbs-down icon-flip-horizontal icon-large\"></i></a></div><div class=\"divider\"></div><span class=\"ratingResult\" id=\"ratingResult719735\">+1 <span class=\"xsmall\">(1)</span></span></div>\\r\\n\\r\\n        <div class=\"msg \">\\r\\n            \\r\\n            <div class=\"msgSection\">\\r\\n                \\r\\n                <blockquote class=\"quote\"><span class=\"original\"></span>Heb het over in het ROOD gaan met je trainingen en wedstrijden.&nbsp; </blockquote><br/>&nbsp;<br/>\"in het ROOD gaan\" is meer een emotionele dan een fysiologische classificatie....maar zolang je geen overtraining bedoelt: blijf ik bij wat ik zei.<br/>&nbsp;<br/><blockquote class=\"quote\"><span class=\"original\"></span>Dus jij denkt dat wielrenners na het einde van de tour de France hun hematocriet niet gedaalt is?? </blockquote><br/>&nbsp;<br/>Wat ik denk is het volgende:<br/>1) Je kunt je afvagen in hoeverre een topsporters in een extreme en langdurige duur wedstrijd relevant zijn voor jouw situatie of representatief om algemene conclusies uit te trekken.<br/><br>2) Rode bloedcellen en HT is niet helemaal hetzelfde zoals ik al probeerde uit te leggen. Dat rode bloedcellen volume omhoog gaat als gevolg van training is een normale trainingsaanpassing. Dat bloedplasma volume omhoog gaat ook. Dus ja...je HT <u>kan</u> licht dalen als gevolg van training als je bloedplasma volume harder stijgt dan je rode bloedcellen vorlume, maar je had het over een ZWARE daling. Dat is geen normale trainingsaanpassing.<br/>&nbsp;<br/>3) Je omschrijving \"conditie is op zich goed. Het is dan wel gezond weer te recupereren en je hematocriet te verhogen\" snijdt fysiologisch weinig hout IMO: of je gelooft dat je rode bloedcellen wel zwaar gedaald zijn maar mysterieus genoeg je conditie een stuk beter is geworden of je gelooft dat zowel rode bloedcellen en plasma gestegen zijn in volume en recupereren een kwestie is van...uitdrogen? Want hoe stijgt in dat laatste geval anders je HT zonder dat je conditie achteruitgaat?<br/>&nbsp;<br/>4) Tour de France = overtraining dus zou me verbazen als HT niet zou dalen, net zo goed als andere bloedwaardes die horen bij een goede gezondheid.<br/>&nbsp;<br/><blockquote class=\"quote\"><span class=\"original\"></span>Waarom spoot iedereen dan EPO in de jaren \\'90? Dat was niet zomaar om stoer te doen hoor.</blockquote><br/>&nbsp;<br/>Sjips, \"zomaar om stoer te doen\" was inderdaad mijn eerste antwoord geweest...naja dan maar m\\'n tweede antwoord: om te winnen? <img src=\"http://forum.body-fitness.nl/upfiles/smiley/s2.gif\" alt=\"super blij\" data-smiley=\":D\" /><br/>\\r\\n                <div class=\"editInfo\"><i class=\"icon-edit\"></i> post edited by Marcus - <span class=\"performdateformat\" data-date=\"2013/12/18 01:07:21\" data-format=\"ddd dd-MMM-yy HH:mm\">2013/12/18 01:07:21</span></div>\\r\\n                \\r\\n            </div>\\r\\n        </div>\\r\\n        \\r\\n        \\r\\n\\r\\n        <div class=\"msg signature \">\\r\\n            \\r\\n        </div>\\r\\n\\r\\n        <div class=\"msgButtonsPanel \">\\r\\n            \\r\\n            \\r\\n            \\r\\n            \\r\\n            \\r\\n                \\r\\n                <a href=\"javascript:void(showMsgNum(719735))\">#11</a> \\r\\n        </div>  \\r\\n\\r\\n    </div>                 \\r\\n    \\r\\n        \\r\\n    \\r\\n</td>\\r\\n</tr>\\r\\n\\r\\n<tr>\\r\\n<td id=\"msg719738\" class=\"msgtable item \">\\r\\n    \\r\\n    <div class=\"altItem essential authorcontent\"> \\r\\n        \\r\\n        <div class=\"essentialAuthorLine\">\\r\\n            <div id=\"Avatar719738\" class=\"essentialAvatar\">\\r\\n                <img src=\"/thumb.axd/145_15182/BABDCDEC80564607ACCA9A81E7313B38.jpg\" title=\"Marathonman\" class=\"midAvatar\" style=\"\" />\\r\\n            </div>\\r\\n            <div class=\"left\">\\r\\n                <a href=\"/Profile/15182/\" class=\"left titlehead \" data-login=\"Marathonman\" data-mem=\"15182\" data-isfriend=\"false\" data-isignored=\"false\" data-viewerisguest=\"true\" data-isownpost=\"false\" data-showpmlink=\"false\" data-isrecycled=\"false\" data-messageid=\"719738\"\\r\\n                >Marathonman </a>\\r\\n                <div class=\"divider\"></div>\\r\\n                <span class=\"left msgLabel tmUserTitle \">Heavy Weight</span>\\r\\n            </div>\\r\\n            \\r\\n            \\r\\n        </div>\\r\\n        \\r\\n         \\r\\n    </div>    \\r\\n            \\r\\n    <div class=\"item essential msgcontent\">\\r\\n        <span id=\"msgNum12\"></span>\\r\\n            \\r\\n        \\r\\n        <div class=\" lPadding10\">\\r\\n            <img src=\"/app_themes/Progressive/image/mIcons/m1.gif\" class=\"msgIcon\" />\\r\\n            <div class=\"msgSubjectLine\">\\r\\n                <span id=\"subject719738\" class=\"msgInfo\">Re: Hematocriet verhogen</span><span class=\"optionSep\"></span> \\r\\n                <span class=\"msgInfo\">\\r\\n                    <span id=\"date719738\" data-mid=\"719738\" class=\"msgDate \"> \\r\\n                        <span class=\"performdateformat\" data-date=\"2013/12/18 15:20:24\" data-format=\"ddd dd-MMM-yy HH:mm\">2013/12/18 15:20:24</span>\\r\\n                    </span>\\r\\n                    (<a href=\"javascript:void(showMsgNum(719738))\">permalink</a>)\\r\\n                    \\r\\n                </span>\\r\\n                \\r\\n            </div>\\r\\n        </div>\\r\\n        \\r\\n        <div class=\"margin10  ratingBox\" title=\"0 vote\" id=\"ratingDiv719738\"><div id=\"ratingThumbs719738\"><a href=\"javascript:(void(0))\" id=\"thumbRating719738\" class=\"up thumbdisabled\"><i class=\"icon-thumbs-up icon-large\"></i></a><a href=\"javascript:(void(0))\" id=\"thumbRating719738\" class=\"down icon-flip-horizontal thumbdisabled\"><i class=\"icon-thumbs-down icon-flip-horizontal icon-large\"></i></a></div><div class=\"divider\"></div><span class=\"ratingResult\" id=\"ratingResult719738\">0</span></div>\\r\\n\\r\\n        <div class=\"msg \">\\r\\n            \\r\\n            <div class=\"msgSection\">\\r\\n                \\r\\n                <blockquote class=\"quote\"><span class=\"original\">Marcus</span><br/><blockquote class=\"quote\"><span class=\"original\"></span>Heb het over in het ROOD gaan met je trainingen en wedstrijden.&nbsp; </blockquote><br/>&nbsp;<br/>\"in het ROOD gaan\" is meer een emotionele dan een fysiologische classificatie....maar zolang je geen overtraining bedoelt: blijf ik bij wat ik zei.<br/>&nbsp;<br/><blockquote class=\"quote\"><span class=\"original\"></span>Dus jij denkt dat wielrenners na het einde van de tour de France hun hematocriet niet gedaalt is?? </blockquote><br/>&nbsp;<br/>Wat ik denk is het volgende:<br/>1) Je kunt je afvagen in hoeverre een topsporters in een extreme en langdurige duur wedstrijd relevant zijn voor jouw situatie of representatief om algemene conclusies uit te trekken.<br/><br>2) Rode bloedcellen en HT is niet helemaal hetzelfde zoals ik al probeerde uit te leggen. Dat rode bloedcellen volume omhoog gaat als gevolg van training is een normale trainingsaanpassing. Dat bloedplasma volume omhoog gaat ook. Dus ja...je HT <u>kan</u> licht dalen als gevolg van training als je bloedplasma volume harder stijgt dan je rode bloedcellen vorlume, maar je had het over een ZWARE daling. Dat is geen normale trainingsaanpassing.<br/>&nbsp;<br/>3) Je omschrijving \"conditie is op zich goed. Het is dan wel gezond weer te recupereren en je hematocriet te verhogen\" snijdt fysiologisch weinig hout IMO: of je gelooft dat je rode bloedcellen wel zwaar gedaald zijn maar mysterieus genoeg je conditie een stuk beter is geworden of je gelooft dat zowel rode bloedcellen en plasma gestegen zijn in volume en recupereren een kwestie is van...uitdrogen? Want hoe stijgt in dat laatste geval anders je HT zonder dat je conditie achteruitgaat?<br/>&nbsp;<br/>4) Tour de France = overtraining dus zou me verbazen als HT niet zou dalen, net zo goed als andere bloedwaardes die horen bij een goede gezondheid.<br/>&nbsp;<br/><blockquote class=\"quote\"><span class=\"original\"></span>Waarom spoot iedereen dan EPO in de jaren \\'90? Dat was niet zomaar om stoer te doen hoor.</blockquote><br/>&nbsp;<br/>Sjips, \"zomaar om stoer te doen\" was inderdaad mijn eerste antwoord geweest...naja dan maar m\\'n tweede antwoord: om te winnen? <img src=\"http://forum.body-fitness.nl/upfiles/smiley/s2.gif\" alt=\"super blij\" data-smiley=\":D\" /><br/><br></blockquote><br><br><br/>&nbsp;<br/>In het rood gaan bedoel ik mee: overtraining.<br/>&nbsp;<br/>Conditie zal inderdaad wel wat zakken als je rust om je HT terug omhoog te laten gaan. Dacht dan dat zaak was evenwicht te vinden wanneer juist het trainen weer op te nemen. &nbsp;Hier slaat dan mijn vraag op, wat kun je legaal supplementeren om HT sneller weer te laten stijgen.<br/>&nbsp;<br/>De daling was overigens over 2 jaar, daarvoor deed ik niet zoveel aan sport..<br/>&nbsp;<br/>Marathon in 3u45 is VOOR IEMAND ALS IK vergelijkbaar met tour de France denk ik wel... Zat aan +80 trainingskilometer per week gedurende meerdere maanden. Ik rook, drink en let niet op mijn voeding, dus dat was wel overtraining voor mij denk ik.. Echter je moet die kilometers in mijn geval doen, want anders zak ik na 30km door mijn knie vrees ik... <img src=\"http://forum.body-fitness.nl/upfiles/smiley/s12.gif\" alt=\"\" data-smiley=\":-\" />)<br/>&nbsp;<br/>Moet zeggen dat ik er niet echt veel van afweet, wat ik hier schrijf weet ik ook maar uit boeken en sites. Dokter zegt in ieder geval dat bloedwaardes in mijn geval niet abnormaal zijn.<br/>&nbsp;<br/>&nbsp;<br/>PS: heb jij dat forum nog dat ingedeeld was in allerlei sporttakken? Vind het niet direct meer terug..<br/>\\r\\n                \\r\\n                \\r\\n            </div>\\r\\n        </div>\\r\\n        \\r\\n        \\r\\n\\r\\n        <div class=\"msg signature \">\\r\\n            \\r\\n        </div>\\r\\n\\r\\n        <div class=\"msgButtonsPanel \">\\r\\n            \\r\\n            \\r\\n            \\r\\n            \\r\\n            \\r\\n                \\r\\n                <a href=\"javascript:void(showMsgNum(719738))\">#12</a> \\r\\n        </div>  \\r\\n\\r\\n    </div>                 \\r\\n    \\r\\n        \\r\\n    \\r\\n</td>\\r\\n</tr>\\r\\n\\r\\n<tr>\\r\\n<td id=\"msg719739\" class=\"msgtable item \">\\r\\n    \\r\\n    <div class=\"altItem essential authorcontent\"> \\r\\n        \\r\\n        <div class=\"essentialAuthorLine\">\\r\\n            <div id=\"Avatar719739\" class=\"essentialAvatar\">\\r\\n                <img src=\"/thumb.axd/145_205/8FA6CEBBFEBF45BFA098900CFAB8EE15.jpg\" title=\"Marcus\" class=\"midAvatar\" style=\"\" />\\r\\n            </div>\\r\\n            <div class=\"left\">\\r\\n                <a href=\"/Profile/205/\" class=\"left titlehead \" data-login=\"Marcus\" data-mem=\"205\" data-isfriend=\"false\" data-isignored=\"false\" data-viewerisguest=\"true\" data-isownpost=\"false\" data-showpmlink=\"false\" data-isrecycled=\"false\" data-messageid=\"719739\"\\r\\n                >Marcus </a>\\r\\n                <div class=\"divider\"></div>\\r\\n                <span class=\"left msgLabel tmUserTitle \">Natural born chiller</span>\\r\\n            </div>\\r\\n            \\r\\n            \\r\\n        </div>\\r\\n        \\r\\n         \\r\\n    </div>    \\r\\n            \\r\\n    <div class=\"item essential msgcontent\">\\r\\n        <span id=\"msgNum13\"></span>\\r\\n            \\r\\n        \\r\\n        <div class=\" lPadding10\">\\r\\n            <img src=\"/app_themes/Progressive/image/mIcons/m1.gif\" class=\"msgIcon\" />\\r\\n            <div class=\"msgSubjectLine\">\\r\\n                <span id=\"subject719739\" class=\"msgInfo\">Re: Hematocriet verhogen</span><span class=\"optionSep\"></span> \\r\\n                <span class=\"msgInfo\">\\r\\n                    <span id=\"date719739\" data-mid=\"719739\" class=\"msgDate \"> \\r\\n                        <span class=\"performdateformat\" data-date=\"2013/12/18 19:24:18\" data-format=\"ddd dd-MMM-yy HH:mm\">2013/12/18 19:24:18</span>\\r\\n                    </span>\\r\\n                    (<a href=\"javascript:void(showMsgNum(719739))\">permalink</a>)\\r\\n                    \\r\\n                </span>\\r\\n                \\r\\n            </div>\\r\\n        </div>\\r\\n        \\r\\n        <div class=\"margin10  ratingBox\" title=\"0 vote\" id=\"ratingDiv719739\"><div id=\"ratingThumbs719739\"><a href=\"javascript:(void(0))\" id=\"thumbRating719739\" class=\"up thumbdisabled\"><i class=\"icon-thumbs-up icon-large\"></i></a><a href=\"javascript:(void(0))\" id=\"thumbRating719739\" class=\"down icon-flip-horizontal thumbdisabled\"><i class=\"icon-thumbs-down icon-flip-horizontal icon-large\"></i></a></div><div class=\"divider\"></div><span class=\"ratingResult\" id=\"ratingResult719739\">0</span></div>\\r\\n\\r\\n        <div class=\"msg \">\\r\\n            \\r\\n            <div class=\"msgSection\">\\r\\n                \\r\\n                <blockquote class=\"quote\"><span class=\"original\"></span>In het rood gaan bedoel ik mee: overtraining.</blockquote><br/>&nbsp;<br/>Dus je hebt het over structureel overtrainen in je training??<br/>&nbsp;<br/><blockquote class=\"quote\"><span class=\"original\"></span>Conditie zal inderdaad wel wat zakken als je rust om je HT terug omhoog te laten gaan. Dacht dan dat zaak was evenwicht te vinden wanneer juist het trainen weer op te nemen. &nbsp;Hier slaat dan mijn vraag op, wat kun je legaal supplementeren om HT sneller weer te laten stijgen.</blockquote><br/>&nbsp;<br/>Je HT hoort niet of nauwelijks omlaag te gaan om mee te beginnen.<br/>Ervan uitgaande dat je HT niet pathologisch laag is, vanwaar die HT obsessie? Je doel is presteren toch?<br/>HT verhogen is niet noodzakelijkerwijs de meest effectieve manier om beter te presteren. Als je verder alles geoptimaliseerd hebt (zoals een topsporter) dan blijft er weinig over, maar als je een marathon in krap 4 uur loopt denk ik dat er nog zat te optimaliseren valt met training waar je sneller profijt van gaat hebben dan een hoog HT.<br/><br><blockquote class=\"quote\"><span class=\"original\"></span>Marathon in 3u45 is VOOR IEMAND ALS IK vergelijkbaar met tour de France denk ik wel... </blockquote><br/>Dat denk ik niet. Tour de France zijn mensen die op 90% VO2max gemiddeld zo\\'n 4 uur per dag rijden 3 weken achter elkaar.<br/>Merk op dat ik met opzet %VO2max gebruik omdat dit een relatieve maat is, uiteraard zal VO2max van topatleten hoger liggen dan van jou of mij.<br/>&nbsp;<br/><blockquote class=\"quote\"><span class=\"original\"></span>dus dat was wel overtraining voor mij denk ik.. Echter je moet die kilometers in mijn geval doen, want anders zak ik na 30km door mijn knie vrees ik... <img src=\"http://forum.body-fitness.nl/upfiles/smiley/s12.gif\" alt=\"\" data-smiley=\":-\" />)</blockquote><br/>Heb het idee dat je niet precies begrijpt wat overtraining is. Bij overtraining train je harder dan waar je lichaam zich van kan herstellen, dat betekent dus ook: geen vooruitgang. Dus als je echt structureel overtrainde dan zou je er geen voordeel van hebben ondervonden.<br/>&nbsp;<br/>\\r\\n                \\r\\n                \\r\\n            </div>\\r\\n        </div>\\r\\n        \\r\\n        \\r\\n\\r\\n        <div class=\"msg signature \">\\r\\n            \\r\\n        </div>\\r\\n\\r\\n        <div class=\"msgButtonsPanel \">\\r\\n            \\r\\n            \\r\\n            \\r\\n            \\r\\n            \\r\\n                \\r\\n                <a href=\"javascript:void(showMsgNum(719739))\">#13</a> \\r\\n        </div>  \\r\\n\\r\\n    </div>                 \\r\\n    \\r\\n        \\r\\n    \\r\\n</td>\\r\\n</tr>\\r\\n\\r\\n<tr>\\r\\n<td id=\"msg719740\" class=\"msgtable item \">\\r\\n    \\r\\n    <div class=\"altItem essential authorcontent\"> \\r\\n        \\r\\n        <div class=\"essentialAuthorLine\">\\r\\n            <div id=\"Avatar719740\" class=\"essentialAvatar\">\\r\\n                <img src=\"/thumb.axd/145_15182/BABDCDEC80564607ACCA9A81E7313B38.jpg\" title=\"Marathonman\" class=\"midAvatar\" style=\"\" />\\r\\n            </div>\\r\\n            <div class=\"left\">\\r\\n                <a href=\"/Profile/15182/\" class=\"left titlehead \" data-login=\"Marathonman\" data-mem=\"15182\" data-isfriend=\"false\" data-isignored=\"false\" data-viewerisguest=\"true\" data-isownpost=\"false\" data-showpmlink=\"false\" data-isrecycled=\"false\" data-messageid=\"719740\"\\r\\n                >Marathonman </a>\\r\\n                <div class=\"divider\"></div>\\r\\n                <span class=\"left msgLabel tmUserTitle \">Heavy Weight</span>\\r\\n            </div>\\r\\n            \\r\\n            \\r\\n        </div>\\r\\n        \\r\\n         \\r\\n    </div>    \\r\\n            \\r\\n    <div class=\"item essential msgcontent\">\\r\\n        <span id=\"msgNum14\"></span>\\r\\n            \\r\\n        \\r\\n        <div class=\" lPadding10\">\\r\\n            <img src=\"/app_themes/Progressive/image/mIcons/m1.gif\" class=\"msgIcon\" />\\r\\n            <div class=\"msgSubjectLine\">\\r\\n                <span id=\"subject719740\" class=\"msgInfo\">Re: Hematocriet verhogen</span><span class=\"optionSep\"></span> \\r\\n                <span class=\"msgInfo\">\\r\\n                    <span id=\"date719740\" data-mid=\"719740\" class=\"msgDate \"> \\r\\n                        <span class=\"performdateformat\" data-date=\"2013/12/18 20:08:46\" data-format=\"ddd dd-MMM-yy HH:mm\">2013/12/18 20:08:46</span>\\r\\n                    </span>\\r\\n                    (<a href=\"javascript:void(showMsgNum(719740))\">permalink</a>)\\r\\n                    \\r\\n                </span>\\r\\n                \\r\\n            </div>\\r\\n        </div>\\r\\n        \\r\\n        <div class=\"margin10  ratingBox\" title=\"0 vote\" id=\"ratingDiv719740\"><div id=\"ratingThumbs719740\"><a href=\"javascript:(void(0))\" id=\"thumbRating719740\" class=\"up thumbdisabled\"><i class=\"icon-thumbs-up icon-large\"></i></a><a href=\"javascript:(void(0))\" id=\"thumbRating719740\" class=\"down icon-flip-horizontal thumbdisabled\"><i class=\"icon-thumbs-down icon-flip-horizontal icon-large\"></i></a></div><div class=\"divider\"></div><span class=\"ratingResult\" id=\"ratingResult719740\">0</span></div>\\r\\n\\r\\n        <div class=\"msg \">\\r\\n            \\r\\n            <div class=\"msgSection\">\\r\\n                \\r\\n                Vanwaar die HT obsessie? Die is er niet...<br>Ik stelde gewoon een vraag, daarvoor dient een forum toch? &nbsp;<img src=\"http://forum.body-fitness.nl/upfiles/smiley/s44.gif\" alt=\"\" data-smiley=\":|\" /><br/>\\r\\n                \\r\\n                \\r\\n            </div>\\r\\n        </div>\\r\\n        \\r\\n        \\r\\n\\r\\n        <div class=\"msg signature \">\\r\\n            \\r\\n        </div>\\r\\n\\r\\n        <div class=\"msgButtonsPanel \">\\r\\n            \\r\\n            \\r\\n            \\r\\n            \\r\\n            \\r\\n                \\r\\n                <a href=\"javascript:void(showMsgNum(719740))\">#14</a> \\r\\n        </div>  \\r\\n\\r\\n    </div>                 \\r\\n    \\r\\n        \\r\\n    \\r\\n</td>\\r\\n</tr>\\r\\n\\r\\n<tr>\\r\\n<td id=\"msg719741\" class=\"msgtable item \">\\r\\n    \\r\\n    <div class=\"altItem essential authorcontent\"> \\r\\n        \\r\\n        <div class=\"essentialAuthorLine\">\\r\\n            <div id=\"Avatar719741\" class=\"essentialAvatar\">\\r\\n                <img src=\"/thumb.axd/145_205/8FA6CEBBFEBF45BFA098900CFAB8EE15.jpg\" title=\"Marcus\" class=\"midAvatar\" style=\"\" />\\r\\n            </div>\\r\\n            <div class=\"left\">\\r\\n                <a href=\"/Profile/205/\" class=\"left titlehead \" data-login=\"Marcus\" data-mem=\"205\" data-isfriend=\"false\" data-isignored=\"false\" data-viewerisguest=\"true\" data-isownpost=\"false\" data-showpmlink=\"false\" data-isrecycled=\"false\" data-messageid=\"719741\"\\r\\n                >Marcus </a>\\r\\n                <div class=\"divider\"></div>\\r\\n                <span class=\"left msgLabel tmUserTitle \">Natural born chiller</span>\\r\\n            </div>\\r\\n            \\r\\n            \\r\\n        </div>\\r\\n        \\r\\n         \\r\\n    </div>    \\r\\n            \\r\\n    <div class=\"item essential msgcontent\">\\r\\n        <span id=\"msgNum15\"></span>\\r\\n            \\r\\n        \\r\\n        <div class=\" lPadding10\">\\r\\n            <img src=\"/app_themes/Progressive/image/mIcons/m1.gif\" class=\"msgIcon\" />\\r\\n            <div class=\"msgSubjectLine\">\\r\\n                <span id=\"subject719741\" class=\"msgInfo\">Re: Hematocriet verhogen</span><span class=\"optionSep\"></span> \\r\\n                <span class=\"msgInfo\">\\r\\n                    <span id=\"date719741\" data-mid=\"719741\" class=\"msgDate \"> \\r\\n                        <span class=\"performdateformat\" data-date=\"2013/12/18 20:24:12\" data-format=\"ddd dd-MMM-yy HH:mm\">2013/12/18 20:24:12</span>\\r\\n                    </span>\\r\\n                    (<a href=\"javascript:void(showMsgNum(719741))\">permalink</a>)\\r\\n                    \\r\\n                </span>\\r\\n                \\r\\n            </div>\\r\\n        </div>\\r\\n        \\r\\n        <div class=\"margin10  ratingBox\" title=\"0 vote\" id=\"ratingDiv719741\"><div id=\"ratingThumbs719741\"><a href=\"javascript:(void(0))\" id=\"thumbRating719741\" class=\"up thumbdisabled\"><i class=\"icon-thumbs-up icon-large\"></i></a><a href=\"javascript:(void(0))\" id=\"thumbRating719741\" class=\"down icon-flip-horizontal thumbdisabled\"><i class=\"icon-thumbs-down icon-flip-horizontal icon-large\"></i></a></div><div class=\"divider\"></div><span class=\"ratingResult\" id=\"ratingResult719741\">0</span></div>\\r\\n\\r\\n        <div class=\"msg \">\\r\\n            \\r\\n            <div class=\"msgSection\">\\r\\n                \\r\\n                OK, fair enough...obsessie is te sterk uitgedrukt <img src=\"http://forum.body-fitness.nl/upfiles/smiley/s2.gif\" alt=\"super blij\" data-smiley=\":D\" /><br/>Heb trouwens geen probleem met je vraag hoor; wat ik me alleen afvraag is wat je hoopt te bereiken met HT verhogen dat je niet op een andere manier effici\\xc3\\xabnter zou kunnen bereiken?<br/>\\r\\n                \\r\\n                \\r\\n            </div>\\r\\n        </div>\\r\\n        \\r\\n        \\r\\n\\r\\n        <div class=\"msg signature \">\\r\\n            \\r\\n        </div>\\r\\n\\r\\n        <div class=\"msgButtonsPanel \">\\r\\n            \\r\\n            \\r\\n            \\r\\n            \\r\\n            \\r\\n                \\r\\n                <a href=\"javascript:void(showMsgNum(719741))\">#15</a> \\r\\n        </div>  \\r\\n\\r\\n    </div>                 \\r\\n    \\r\\n        \\r\\n    \\r\\n</td>\\r\\n</tr>\\r\\n\\r\\n</table>\\r\\n<script type=\"text/javascript\">\\r\\n    prettyPrint();\\r\\n    registerRelatedSearch(true, !cMemberInfo.isMobileDevice && true);\\r\\n    $(\\'#ResultXmlPanel\\').find(\\'.msgtable\\').eq(-1).addClass(\\'last-child\\');RegisterRatingControl();\\r\\n</script>\\r\\n\\r\\n        <input type=\"hidden\" name=\"ctl00$ctl00$ContentPlaceHolderMain$ContentPlaceHolder1$LastMessageForPost\" id=\"LastMessageForPost\" value=\"719741\" />\\r\\n        <input type=\"hidden\" name=\"ctl00$ctl00$ContentPlaceHolderMain$ContentPlaceHolder1$CurrentPageRecordCount\" id=\"CurrentPageRecordCount\" value=\"15\" />\\r\\n        <script type=\"text/javascript\">\\r\\n            afterRefresh();\\r\\n            if($.isFunction(api_init)) api_init(true);\\r\\n        </script>\\r\\n    <input id=\"ResultXmlPanel_ClientState\" name=\"ResultXmlPanel_ClientState\" type=\"hidden\" />\\r\\n</div>\\r\\n    </div></div></div><div class=\"yPadding10\"></div>\\r\\n\\r\\n    <input type=\"button\" id=\"refreshMsgListButton\" class=\"HiddenButton\" />\\r\\n    <input type=\"hidden\" name=\"ctl00$ctl00$ContentPlaceHolderMain$ContentPlaceHolder1$TreeMsgID\" id=\"TreeMsgID\" />\\r\\n    \\r\\n    \\r\\n    \\r\\n    <div class=\"small_wrapper\"><div><div>\\r\\n    <div class=\"item\" id=\"bottomItemsConsolidator\">\\r\\n        <div id=\"JumpMenus\">\\r\\n            <a id=\"jumpto\" class=\"smalllink\" href=\"javascript:void(jumpMenu($get(&quot;ForumJumpMenu&quot;)))\"><img src=\"/app_themes/Progressive/image/Update.gif\" />Jump to</a>:\\r\\n            <select name=\"ctl00$ctl00$ContentPlaceHolderMain$ContentPlaceHolder1$ForumJumpMenu\" id=\"ForumJumpMenu\" class=\"DropDown\" onchange=\"jumpMenu(this)\">\\r\\n\\t<option value=\"\">Jump to</option>\\r\\n\\t<option value=\"\">- - - - - - - - - - </option>\\r\\n\\t<option value=\"/Bodybuilding-Fitness-f58.aspx\" lorder=\"001\" isCat=\"true\">[Bodybuilding &amp; Fitness]</option>\\r\\n\\t<option value=\"/Training-f5.aspx\" lorder=\"001002\" isCat=\"false\">- - - - Training</option>\\r\\n\\t<option value=\"/Training-stickies-f151.aspx\" lorder=\"001002002\" isCat=\"false\">- - - - - - - - Training stickies</option>\\r\\n\\t<option value=\"/Trainingschema-f6.aspx\" lorder=\"001006\" isCat=\"false\">- - - - Trainingschema</option>\\r\\n\\t<option value=\"/Trainingschema-stickies-f154.aspx\" lorder=\"001006002\" isCat=\"false\">- - - - - - - - Trainingschema stickies</option>\\r\\n\\t<option value=\"/Cardio-Corner-f106.aspx\" lorder=\"001007\" isCat=\"false\">- - - - Cardio Corner</option>\\r\\n\\t<option value=\"/Cardio-Corner-stickies-f155.aspx\" lorder=\"001007002\" isCat=\"false\">- - - - - - - - Cardio Corner stickies</option>\\r\\n\\t<option value=\"/Vrouwen-Training-Voeding-Lichaam-f15.aspx\" lorder=\"001011\" isCat=\"false\">- - - - Vrouwen - Training - Voeding - Lichaam</option>\\r\\n\\t<option value=\"/Vrouwen-Training-Voeding-Lichaam-stickies-f156.aspx\" lorder=\"001011002\" isCat=\"false\">- - - - - - - - Vrouwen - Training - Voeding - Lichaam stickies</option>\\r\\n\\t<option value=\"/Powerlifting-Olympic-Lifting-Strongman-f80.aspx\" lorder=\"001012\" isCat=\"false\">- - - - Powerlifting, Olympic Lifting &amp; Strongman</option>\\r\\n\\t<option value=\"/Powerlifting-Olympic-Lifting-Strongman-stickies-f157.aspx\" lorder=\"001012002\" isCat=\"false\">- - - - - - - - Powerlifting, Olympic Lifting &amp; Strongman stickies</option>\\r\\n\\t<option value=\"/Lichaam-en-Psyche-f49.aspx\" lorder=\"001013\" isCat=\"false\">- - - - Lichaam en Psyche</option>\\r\\n\\t<option value=\"/Lichaam-en-Psyche-stickies-f158.aspx\" lorder=\"001013002\" isCat=\"false\">- - - - - - - - Lichaam en Psyche stickies</option>\\r\\n\\t<option value=\"/Fight-Club-f74.aspx\" lorder=\"001014\" isCat=\"false\">- - - - Fight Club</option>\\r\\n\\t<option value=\"/Fight-Club-stickies-f159.aspx\" lorder=\"001014002\" isCat=\"false\">- - - - - - - - Fight Club stickies</option>\\r\\n\\t<option value=\"/Wedstrijdwereld-f73.aspx\" lorder=\"001015\" isCat=\"false\">- - - - Wedstrijdwereld</option>\\r\\n\\t<option value=\"/Federatie-nieuws-f127.aspx\" lorder=\"001015002\" isCat=\"false\">- - - - - - - - Federatie nieuws</option>\\r\\n\\t<option value=\"/Wedstrijdwereld-stickies-f160.aspx\" lorder=\"001015003\" isCat=\"false\">- - - - - - - - Wedstrijdwereld stickies</option>\\r\\n\\t<option value=\"/Fotos-en-Videos-f14.aspx\" lorder=\"001018\" isCat=\"false\">- - - - Foto&#39;s en Video&#39;s</option>\\r\\n\\t<option value=\"/Fotos-en-Videos-stickies-f161.aspx\" lorder=\"001018002\" isCat=\"false\">- - - - - - - - Foto&#39;s en Video&#39;s stickies</option>\\r\\n\\t<option value=\"/Learn-grow-f125.aspx\" lorder=\"001020\" isCat=\"false\">- - - - Learn &amp; grow</option>\\r\\n\\t<option value=\"/Learn-grow-stickies-f173.aspx\" lorder=\"001020002\" isCat=\"false\">- - - - - - - - Learn &amp; grow stickies</option>\\r\\n\\t<option value=\"/Wat-de-mond-in-gaat-f61.aspx\" lorder=\"004\" isCat=\"true\">[Wat de mond in gaat....]</option>\\r\\n\\t<option value=\"/Voeding-f7.aspx\" lorder=\"004004\" isCat=\"false\">- - - - Voeding</option>\\r\\n\\t<option value=\"/Voeding-stickies-f163.aspx\" lorder=\"004004002\" isCat=\"false\">- - - - - - - - Voeding stickies</option>\\r\\n\\t<option value=\"/eat2succeed-f189.aspx\" lorder=\"004004003\" isCat=\"false\">- - - - - - - - eat2succeed</option>\\r\\n\\t<option value=\"/Voedingsschemas-f8.aspx\" lorder=\"004005\" isCat=\"false\">- - - - Voedingsschema&#39;s</option>\\r\\n\\t<option value=\"/Voedingsschemas-stickies-f164.aspx\" lorder=\"004005002\" isCat=\"false\">- - - - - - - - Voedingsschema&#39;s stickies</option>\\r\\n\\t<option selected=\"selected\" value=\"/Supplementen-f145.aspx\" lorder=\"004006\" isCat=\"false\">- - - - Supplementen</option>\\r\\n\\t<option value=\"/Supplementen-stickies-f165.aspx\" lorder=\"004006002\" isCat=\"false\">- - - - - - - - Supplementen stickies</option>\\r\\n\\t<option value=\"/Recepten-f20.aspx\" lorder=\"004007\" isCat=\"false\">- - - - Recepten</option>\\r\\n\\t<option value=\"/Recepten-stickies-f167.aspx\" lorder=\"004007002\" isCat=\"false\">- - - - - - - - Recepten stickies</option>\\r\\n\\t<option value=\"/Stero\\xc3\\xafden-f87.aspx\" lorder=\"008\" isCat=\"true\">[Stero&#239;den]</option>\\r\\n\\t<option value=\"/Anabolica-Discussie-f11.aspx\" lorder=\"008001\" isCat=\"false\">- - - - Anabolica Discussie</option>\\r\\n\\t<option value=\"/Anabolica-discussie-stickies-f168.aspx\" lorder=\"008001002\" isCat=\"false\">- - - - - - - - Anabolica discussie stickies</option>\\r\\n\\t<option value=\"/Anabole-Steroiden-lees-info-f19.aspx\" lorder=\"008002\" isCat=\"false\">- - - - Anabole Steroiden lees info</option>\\r\\n\\t<option value=\"/Anabole-Steroiden-lees-info-stickies-f169.aspx\" lorder=\"008002002\" isCat=\"false\">- - - - - - - - Anabole Steroiden lees info stickies</option>\\r\\n\\t<option value=\"/Anabole-Steroiden-Fotos-f13.aspx\" lorder=\"008003\" isCat=\"false\">- - - - Anabole Steroiden Foto&#39;s</option>\\r\\n\\t<option value=\"/Anabole-Steroiden-Fotos-stickies-f170.aspx\" lorder=\"008003002\" isCat=\"false\">- - - - - - - - Anabole Steroiden Foto&#39;s stickies</option>\\r\\n\\t<option value=\"/Overig-f60.aspx\" lorder=\"015\" isCat=\"true\">[Overig]</option>\\r\\n\\t<option value=\"/Algemene-Discussie-f3.aspx\" lorder=\"015002\" isCat=\"false\">- - - - Algemene Discussie</option>\\r\\n\\t<option value=\"/AANGEBODEN-GEVRAAGD-f95.aspx\" lorder=\"015002001\" isCat=\"false\">- - - - - - - - AANGEBODEN / GEVRAAGD</option>\\r\\n\\t<option value=\"/Algemene-Discussie-stickies-f171.aspx\" lorder=\"015002002\" isCat=\"false\">- - - - - - - - Algemene Discussie stickies</option>\\r\\n\\t<option value=\"/Reviews-f123.aspx\" lorder=\"015010\" isCat=\"false\">- - - - Reviews</option>\\r\\n\\t<option value=\"/Reviews-stickies-f172.aspx\" lorder=\"015010002\" isCat=\"false\">- - - - - - - - Reviews stickies</option>\\r\\n\\t<option value=\"/Lachen-Gieren-Brullen-f16.aspx\" lorder=\"015012\" isCat=\"false\">- - - - Lachen - Gieren - Brullen</option>\\r\\n\\t<option value=\"/Forum-Acties-f185.aspx\" lorder=\"015014\" isCat=\"false\">- - - - Forum Acties</option>\\r\\n\\t<option value=\"/HET-GROTE-TIJDELIJKE-EINDEJAARS-FORUM-f146.aspx\" lorder=\"015014001\" isCat=\"false\">- - - - - - - - HET GROTE TIJDELIJKE EINDEJAARS FORUM</option>\\r\\n\\t<option value=\"/De-Body-Fitness-ForumNetpulzzz-Ultimate-Challenge-f148.aspx\" lorder=\"015014002\" isCat=\"false\">- - - - - - - - De Body &amp; Fitness Forum/Netpulzzz Ultimate Challenge</option>\\r\\n\\t<option value=\"/Body-Fitness-Forum-Night-Seminar-f183.aspx\" lorder=\"015014003\" isCat=\"false\">- - - - - - - - Body &amp; Fitness Forum Night Seminar</option>\\r\\n\\t<option value=\"/Faq-News-f54.aspx\" lorder=\"016\" isCat=\"true\">[Faq &amp; News]</option>\\r\\n\\t<option value=\"/Forum-info-f10.aspx\" lorder=\"016003\" isCat=\"false\">- - - - Forum info</option>\\r\\n\\t<option value=\"/Nieuws-Suggesties-stickies-f153.aspx\" lorder=\"016003002\" isCat=\"false\">- - - - - - - - Nieuws &amp; Suggesties stickies</option>\\r\\n\\r\\n</select>\\r\\n        </div>\\r\\n    </div>\\r\\n    </div></div></div><div class=\"yPadding10\"></div>\\r\\n    \\r\\n    \\r\\n    <script type=\"text/javascript\">\\r\\n        var tm = { };\\r\\n        tm.tpg = 15;\\r\\n        tm.mpg = 20;\\r\\n        tm.treeIframeContainment = \"TreeDiv\";\\r\\n        tm.msgTreeHiddenField = \"TreeMsgID\";\\r\\n        tm.msgLastMessageForPostHiddenField = \"LastMessageForPost\";\\r\\n        tm.inTreeMode = false;\\r\\n        tm.inEssentialMode = true;\\r\\n        tm.refreshButton = $get(\"refreshMsgListButton\");\\r\\n    </script>\\r\\n    \\r\\n\\r\\n        \\r\\n    \\r\\n    \\r\\n    <div class=\"backtotop\">\\r\\n        <i class=\"icon-chevron-up icon-large\"></i>\\r\\n        \\r\\n    </div>\\r\\n  <div class=\"item\" style=\"width:99%;\">   \\r\\n\\t\\t\\t\\t\\t\\t<center><script type=\"text/javascript\"><!--\\r\\n\\t\\t\\t\\t\\t\\t\\tgoogle_ad_client = \"pub-8429191316111423\";\\r\\n\\t\\t\\t\\t\\t\\t\\t/*  */\\r\\n\\t\\t\\t\\t\\t\\t\\tgoogle_ad_slot = \"2243215948\";\\r\\n\\t\\t\\t\\t\\t\\t\\tgoogle_ad_width = 728;\\r\\n\\t\\t\\t\\t\\t\\t\\tgoogle_ad_height = 90;\\r\\n\\t\\t\\t\\t\\t\\t\\t//-->\\r\\n\\t\\t\\t\\t\\t\\t</script>\\r\\n\\t\\t\\t\\t\\t\\t<script type=\"text/javascript\"\\r\\n\\t\\t\\t\\t\\t\\t\\tsrc=\"http://pagead2.googlesyndication.com/pagead/show_ads.js\">\\r\\n\\t\\t\\t\\t\\t\\t</script></center>\\r\\n    <div style=\"clear: both; margin: 20px; text-align: center; font-size: small; font-style: normal; font-family: Trebuchet MS\"  id=\"copyrightnotice\">\\xc2\\xa9 2016 <a href=\"http://www.aspplayground.net/\" target=\"_blank\">APG vNext</a> Commercial Version 5.0</div>\\r\\n    <div class=\"clearBoth\"></div>\\r\\n    </div>\\r\\n\\r\\n        </div>\\r\\n        \\r\\n        \\r\\n    <div id=\"Footer\" class=\"footer\">\\r\\n\\t\\r\\n\\r\\n<div id=\"footercontentarea\">\\r\\n    \\r\\n\\r\\n        <div class=\"footerRepeaterWrap\" >\\r\\n            <div class=\"simpleContentHeader footerContentHeader\"><a href=\"/RecentPosts\">Latest Posts &nbsp; <i class=\"icon-external-link\"></i></a></div>\\r\\n            \\r\\n                <div class=\"footerContentWrap newActiveContentWrap\">\\r\\n                <ul class=\"newActiveList footerMessageList\">\\r\\n                    \\r\\n                    <li class=\"newActiveList-item\"><span class=\"none\"><img src=\\'/app_themes/Progressive/image/blank.gif\\' id=\\'postMsg_289983\\' class=\\'trackreadtimg\\' data-tracktid=\"289983\" data-trackdate=\"2016/12/08 22:57:37\" /></span>\\r\\n                        <a href=\"/Eten-voor-het-slapen-gaan-m289983.aspx\" id=\"msgSubjectLink_289983\" title=\"Hallo lieve mensen, Velen op dit forum eten kwark, tonijn of iets anders eiwitrijks voor het slapen gaan. Ik heb altijd geleerd; s&#39;avonds na 8, 9 uur niet meer eten! In ieder geval; drie uur voor dat je gaat slapen niets meer. Is het nu zo, dat als je fan..\" class=\"messagelink\"> Eten voor het slapen gaan...</a>  <a id=\\'msgSubjectImgLink_289983\\'><img src=\\'/app_themes/Progressive/image/blank.gif\\' id=\\'msgSubjectImg_289983\\' /></a>\\r\\n                    </li>\\r\\n                \\r\\n                    \\r\\n                    <li class=\"newActiveList-item\"><span class=\"none\"><img src=\\'/app_themes/Progressive/image/blank.gif\\' id=\\'postMsg_721476\\' class=\\'trackreadtimg\\' data-tracktid=\"721476\" data-trackdate=\"2016/12/02 21:22:08\" /></span>\\r\\n                        <a href=\"/Terug-4-maanden-aan-het-lopen-m721476.aspx\" id=\"msgSubjectLink_721476\" title=\"Alweer bijna 550km op de teller! :D..\" class=\"messagelink\">Terug 4 maanden aan het lopen..</a>  <a id=\\'msgSubjectImgLink_721476\\'><img src=\\'/app_themes/Progressive/image/blank.gif\\' id=\\'msgSubjectImg_721476\\' /></a>\\r\\n                    </li>\\r\\n                \\r\\n                    \\r\\n                    <li class=\"newActiveList-item\"><span class=\"none\"><img src=\\'/app_themes/Progressive/image/blank.gif\\' id=\\'postMsg_721510\\' class=\\'trackreadtimg\\' data-tracktid=\"721510\" data-trackdate=\"2016/11/21 16:20:52\" /></span>\\r\\n                        <a href=\"/Aanbiedingen-Sportvoedingplaza-m721510.aspx\" id=\"msgSubjectLink_721510\" title=\"Ben jij in Shape?\\r\\n\\r\\nOnze nieuwe aanbiedingen staan online, profiteer meteen van de korting! Whey Delicious - XXL NutritionWhey Isolaat - XXL NutritionFat Attack - XXL NutritionPro 85 - Maximize Check ook eens onze weblog! klik hier om direct naar de webl..\" class=\"messagelink\">Aanbiedingen Sportvoedingplaza</a>  <a id=\\'msgSubjectImgLink_721510\\'><img src=\\'/app_themes/Progressive/image/blank.gif\\' id=\\'msgSubjectImg_721510\\' /></a>\\r\\n                    </li>\\r\\n                \\r\\n                    \\r\\n                    <li class=\"newActiveList-item\"><span class=\"none\"><img src=\\'/app_themes/Progressive/image/blank.gif\\' id=\\'postMsg_533524\\' class=\\'trackreadtimg\\' data-tracktid=\"533524\" data-trackdate=\"2016/09/24 20:41:44\" /></span>\\r\\n                        <a href=\"/Weet-jij-wat-je-met-je-leven-wilt-m533524.aspx\" id=\"msgSubjectLink_533524\" title=\"Nu na 27 jaar weet ik nog steeds niet precies wat ik wil, heb op 20 locaties gezeten in de laatste 7 jaar, in 4 verschillende landen gewoond en momenteel in Amerika.\\r\\n\\r\\nMaar snap nog steeds weinig of the meaning of life of ik heb gewoon nog niet mijn doel..\" class=\"messagelink\"> Weet jij wat je met je leven wilt?</a>  <a id=\\'msgSubjectImgLink_533524\\'><img src=\\'/app_themes/Progressive/image/blank.gif\\' id=\\'msgSubjectImg_533524\\' /></a>\\r\\n                    </li>\\r\\n                \\r\\n                    \\r\\n                    <li class=\"newActiveList-item\"><span class=\"none\"><img src=\\'/app_themes/Progressive/image/blank.gif\\' id=\\'postMsg_721490\\' class=\\'trackreadtimg\\' data-tracktid=\"721490\" data-trackdate=\"2016/08/31 11:20:54\" /></span>\\r\\n                        <a href=\"/Waar-te-Muay-Thai-Shorts-kopen-m721490.aspx\" id=\"msgSubjectLink_721490\" title=\"Hallo\\r\\nheeft iemand weet MuaythaiBoksen.com?\\r\\nBedankt...\" class=\"messagelink\">Waar te Muay Thai Shorts kopen?</a>  <a id=\\'msgSubjectImgLink_721490\\'><img src=\\'/app_themes/Progressive/image/blank.gif\\' id=\\'msgSubjectImg_721490\\' /></a>\\r\\n                    </li>\\r\\n                \\r\\n                    \\r\\n                    <li class=\"newActiveList-item\"><span class=\"none\"><img src=\\'/app_themes/Progressive/image/blank.gif\\' id=\\'postMsg_721487\\' class=\\'trackreadtimg\\' data-tracktid=\"721487\" data-trackdate=\"2016/08/16 14:28:52\" /></span>\\r\\n                        <a href=\"/In-memoriam-m721487.aspx\" id=\"msgSubjectLink_721487\" title=\"Onlanks is Tijl, de oprichter van DBB overleden en ik ben op zoek naar mensen die het onstaan van DBB nog hebben meegemaakt.\\r\\nreden is dat we bezig zijn een soort van inmemoriam te maken en ik zou het leuk vinden ook van anderen te horen wat hun ervaring/..\" class=\"messagelink\">In memoriam</a>  <a id=\\'msgSubjectImgLink_721487\\'><img src=\\'/app_themes/Progressive/image/blank.gif\\' id=\\'msgSubjectImg_721487\\' /></a>\\r\\n                    </li>\\r\\n                \\r\\n                    \\r\\n                    <li class=\"newActiveList-item\"><span class=\"none\"><img src=\\'/app_themes/Progressive/image/blank.gif\\' id=\\'postMsg_721480\\' class=\\'trackreadtimg\\' data-tracktid=\"721480\" data-trackdate=\"2016/07/28 16:49:04\" /></span>\\r\\n                        <a href=\"/Voorstellen-m721480.aspx\" id=\"msgSubjectLink_721480\" title=\"Hallo ik ben Jeroen woon in Sappemeer, ben 1,86 weeg 92 kg.Kan hier wel gewichten neer gooien wat ik druk maar dat vind ik niet belangrijk, hangt af van de trainingsprogramma doel etc.Ik train al vrij lang met veel stops en blessures.Train nu de laatste 5..\" class=\"messagelink\">Voorstellen</a>  <a id=\\'msgSubjectImgLink_721480\\'><img src=\\'/app_themes/Progressive/image/blank.gif\\' id=\\'msgSubjectImg_721480\\' /></a>\\r\\n                    </li>\\r\\n                \\r\\n                    \\r\\n                    <li class=\"newActiveList-item\"><span class=\"none\"><img src=\\'/app_themes/Progressive/image/blank.gif\\' id=\\'postMsg_721479\\' class=\\'trackreadtimg\\' data-tracktid=\"721479\" data-trackdate=\"2016/07/18 12:03:56\" /></span>\\r\\n                        <a href=\"/Weekaanbiedingen-Sportvoedingplazanl-m721479.aspx\" id=\"msgSubjectLink_721479\" title=\"Ben jij in Summer Shape?\\r\\n\\r\\nOnze nieuwe aanbiedingen staan online, profiteer meteen van de korting! Deze week o.a. in de aanbieding: Creatine X-Cell II - Maximze\\r\\nHMB - Maximize\\r\\nLipo-6 - Nutrex\\r\\nMega Grow - XXL Nutrition\\r\\nMiss Fitness Diet Shake - XXL Nu..\" class=\"messagelink\">Weekaanbiedingen Sportvoedingplaza.nl</a>  <a id=\\'msgSubjectImgLink_721479\\'><img src=\\'/app_themes/Progressive/image/blank.gif\\' id=\\'msgSubjectImg_721479\\' /></a>\\r\\n                    </li>\\r\\n                \\r\\n                    \\r\\n                    <li class=\"newActiveList-item\"><span class=\"none\"><img src=\\'/app_themes/Progressive/image/blank.gif\\' id=\\'postMsg_721468\\' class=\\'trackreadtimg\\' data-tracktid=\"721468\" data-trackdate=\"2016/06/23 19:40:04\" /></span>\\r\\n                        <a href=\"/Schouders-laatste-tijd-geen-pomp-meer-m721468.aspx\" id=\"msgSubjectLink_721468\" title=\"Hallo allemaal, Ik heb de laatste tijd geen pomp of brandend gevoel in me zijkant schouders tijdens de training wat ik eerst heel erg had maar nu niet meer. Schema (alleen zijkant schouders)Front raise&amp;amp;side raise (combinatie van die 2 oefeningen) 5 se..\" class=\"messagelink\">Schouders laatste tijd geen pomp meer.</a>  <a id=\\'msgSubjectImgLink_721468\\'><img src=\\'/app_themes/Progressive/image/blank.gif\\' id=\\'msgSubjectImg_721468\\' /></a>\\r\\n                    </li>\\r\\n                \\r\\n                    \\r\\n                    <li class=\"newActiveList-item\"><span class=\"none\"><img src=\\'/app_themes/Progressive/image/blank.gif\\' id=\\'postMsg_721466\\' class=\\'trackreadtimg\\' data-tracktid=\"721466\" data-trackdate=\"2016/06/22 17:32:57\" /></span>\\r\\n                        <a href=\"/Voorstellen-m721466.aspx\" id=\"msgSubjectLink_721466\" title=\"Hallo allemaal, Ik ben Jesse Meijer ik ben 17 jaar en 2.04 lang en rond de 103 kg op 13% BF. Ik heb mezelf al aangemeld op een ander forum(forum.bodybuilding.nl) Alleen lees ik daar meer dan dat ik daar vragen stel door de stomme reacties die je daar soms..\" class=\"messagelink\">Voorstellen.</a>  <a id=\\'msgSubjectImgLink_721466\\'><img src=\\'/app_themes/Progressive/image/blank.gif\\' id=\\'msgSubjectImg_721466\\' /></a>\\r\\n                    </li>\\r\\n                </ul></div>              \\r\\n        </div>          \\r\\n\\r\\n\\r\\n    \\r\\n\\r\\n        <div class=\"footerRepeaterWrap\" >\\r\\n            <div class=\"simpleContentHeader footerContentHeader\"><a href=\"/Active\">Active Posts &nbsp; <i class=\"icon-external-link\"></i></a></div>\\r\\n            \\r\\n                <div class=\"footerContentWrap newActiveContentWrap\">\\r\\n                <ul class=\"newActiveList footerMessageList\">\\r\\n                    \\r\\n                    <li class=\"newActiveList-item\"><span class=\"none\"><img src=\\'/app_themes/Progressive/image/blank.gif\\' id=\\'postMsg_289983\\' class=\\'trackreadtimg\\' data-tracktid=\"289983\" data-trackdate=\"2016/12/08 22:57:37\" /></span>\\r\\n                        <a href=\"/Eten-voor-het-slapen-gaan-m289983.aspx\" id=\"msgSubjectLink_289983\" title=\"Hallo lieve mensen, Velen op dit forum eten kwark, tonijn of iets anders eiwitrijks voor het slapen gaan. Ik heb altijd geleerd; s&#39;avonds na 8, 9 uur niet meer eten! In ieder geval; drie uur voor dat je gaat slapen niets meer. Is het nu zo, dat als je fan..\" class=\"messagelink\"> Eten voor het slapen gaan...</a>  <a id=\\'msgSubjectImgLink_289983\\'><img src=\\'/app_themes/Progressive/image/blank.gif\\' id=\\'msgSubjectImg_289983\\' /></a>\\r\\n                    </li>\\r\\n                \\r\\n                    \\r\\n                    <li class=\"newActiveList-item\"><span class=\"none\"><img src=\\'/app_themes/Progressive/image/blank.gif\\' id=\\'postMsg_721476\\' class=\\'trackreadtimg\\' data-tracktid=\"721476\" data-trackdate=\"2016/12/02 21:22:08\" /></span>\\r\\n                        <a href=\"/Terug-4-maanden-aan-het-lopen-m721476.aspx\" id=\"msgSubjectLink_721476\" title=\"Alweer bijna 550km op de teller! :D..\" class=\"messagelink\">Terug 4 maanden aan het lopen..</a>  <a id=\\'msgSubjectImgLink_721476\\'><img src=\\'/app_themes/Progressive/image/blank.gif\\' id=\\'msgSubjectImg_721476\\' /></a>\\r\\n                    </li>\\r\\n                \\r\\n                    \\r\\n                    <li class=\"newActiveList-item\"><span class=\"none\"><img src=\\'/app_themes/Progressive/image/blank.gif\\' id=\\'postMsg_721510\\' class=\\'trackreadtimg\\' data-tracktid=\"721510\" data-trackdate=\"2016/11/21 16:20:52\" /></span>\\r\\n                        <a href=\"/Aanbiedingen-Sportvoedingplaza-m721510.aspx\" id=\"msgSubjectLink_721510\" title=\"Ben jij in Shape?\\r\\n\\r\\nOnze nieuwe aanbiedingen staan online, profiteer meteen van de korting! Whey Delicious - XXL NutritionWhey Isolaat - XXL NutritionFat Attack - XXL NutritionPro 85 - Maximize Check ook eens onze weblog! klik hier om direct naar de webl..\" class=\"messagelink\">Aanbiedingen Sportvoedingplaza</a>  <a id=\\'msgSubjectImgLink_721510\\'><img src=\\'/app_themes/Progressive/image/blank.gif\\' id=\\'msgSubjectImg_721510\\' /></a>\\r\\n                    </li>\\r\\n                \\r\\n                    \\r\\n                    <li class=\"newActiveList-item\"><span class=\"none\"><img src=\\'/app_themes/Progressive/image/blank.gif\\' id=\\'postMsg_533524\\' class=\\'trackreadtimg\\' data-tracktid=\"533524\" data-trackdate=\"2016/09/24 20:41:44\" /></span>\\r\\n                        <a href=\"/Weet-jij-wat-je-met-je-leven-wilt-m533524.aspx\" id=\"msgSubjectLink_533524\" title=\"Nu na 27 jaar weet ik nog steeds niet precies wat ik wil, heb op 20 locaties gezeten in de laatste 7 jaar, in 4 verschillende landen gewoond en momenteel in Amerika.\\r\\n\\r\\nMaar snap nog steeds weinig of the meaning of life of ik heb gewoon nog niet mijn doel..\" class=\"messagelink\"> Weet jij wat je met je leven wilt?</a>  <a id=\\'msgSubjectImgLink_533524\\'><img src=\\'/app_themes/Progressive/image/blank.gif\\' id=\\'msgSubjectImg_533524\\' /></a>\\r\\n                    </li>\\r\\n                \\r\\n                    \\r\\n                    <li class=\"newActiveList-item\"><span class=\"none\"><img src=\\'/app_themes/Progressive/image/blank.gif\\' id=\\'postMsg_721490\\' class=\\'trackreadtimg\\' data-tracktid=\"721490\" data-trackdate=\"2016/08/31 11:20:54\" /></span>\\r\\n                        <a href=\"/Waar-te-Muay-Thai-Shorts-kopen-m721490.aspx\" id=\"msgSubjectLink_721490\" title=\"Hallo\\r\\nheeft iemand weet MuaythaiBoksen.com?\\r\\nBedankt...\" class=\"messagelink\">Waar te Muay Thai Shorts kopen?</a>  <a id=\\'msgSubjectImgLink_721490\\'><img src=\\'/app_themes/Progressive/image/blank.gif\\' id=\\'msgSubjectImg_721490\\' /></a>\\r\\n                    </li>\\r\\n                \\r\\n                    \\r\\n                    <li class=\"newActiveList-item\"><span class=\"none\"><img src=\\'/app_themes/Progressive/image/blank.gif\\' id=\\'postMsg_721487\\' class=\\'trackreadtimg\\' data-tracktid=\"721487\" data-trackdate=\"2016/08/16 14:28:52\" /></span>\\r\\n                        <a href=\"/In-memoriam-m721487.aspx\" id=\"msgSubjectLink_721487\" title=\"Onlanks is Tijl, de oprichter van DBB overleden en ik ben op zoek naar mensen die het onstaan van DBB nog hebben meegemaakt.\\r\\nreden is dat we bezig zijn een soort van inmemoriam te maken en ik zou het leuk vinden ook van anderen te horen wat hun ervaring/..\" class=\"messagelink\">In memoriam</a>  <a id=\\'msgSubjectImgLink_721487\\'><img src=\\'/app_themes/Progressive/image/blank.gif\\' id=\\'msgSubjectImg_721487\\' /></a>\\r\\n                    </li>\\r\\n                \\r\\n                    \\r\\n                    <li class=\"newActiveList-item\"><span class=\"none\"><img src=\\'/app_themes/Progressive/image/blank.gif\\' id=\\'postMsg_721480\\' class=\\'trackreadtimg\\' data-tracktid=\"721480\" data-trackdate=\"2016/07/28 16:49:04\" /></span>\\r\\n                        <a href=\"/Voorstellen-m721480.aspx\" id=\"msgSubjectLink_721480\" title=\"Hallo ik ben Jeroen woon in Sappemeer, ben 1,86 weeg 92 kg.Kan hier wel gewichten neer gooien wat ik druk maar dat vind ik niet belangrijk, hangt af van de trainingsprogramma doel etc.Ik train al vrij lang met veel stops en blessures.Train nu de laatste 5..\" class=\"messagelink\">Voorstellen</a>  <a id=\\'msgSubjectImgLink_721480\\'><img src=\\'/app_themes/Progressive/image/blank.gif\\' id=\\'msgSubjectImg_721480\\' /></a>\\r\\n                    </li>\\r\\n                \\r\\n                    \\r\\n                    <li class=\"newActiveList-item\"><span class=\"none\"><img src=\\'/app_themes/Progressive/image/blank.gif\\' id=\\'postMsg_721479\\' class=\\'trackreadtimg\\' data-tracktid=\"721479\" data-trackdate=\"2016/07/18 12:03:56\" /></span>\\r\\n                        <a href=\"/Weekaanbiedingen-Sportvoedingplazanl-m721479.aspx\" id=\"msgSubjectLink_721479\" title=\"Ben jij in Summer Shape?\\r\\n\\r\\nOnze nieuwe aanbiedingen staan online, profiteer meteen van de korting! Deze week o.a. in de aanbieding: Creatine X-Cell II - Maximze\\r\\nHMB - Maximize\\r\\nLipo-6 - Nutrex\\r\\nMega Grow - XXL Nutrition\\r\\nMiss Fitness Diet Shake - XXL Nu..\" class=\"messagelink\">Weekaanbiedingen Sportvoedingplaza.nl</a>  <a id=\\'msgSubjectImgLink_721479\\'><img src=\\'/app_themes/Progressive/image/blank.gif\\' id=\\'msgSubjectImg_721479\\' /></a>\\r\\n                    </li>\\r\\n                \\r\\n                    \\r\\n                    <li class=\"newActiveList-item\"><span class=\"none\"><img src=\\'/app_themes/Progressive/image/blank.gif\\' id=\\'postMsg_721468\\' class=\\'trackreadtimg\\' data-tracktid=\"721468\" data-trackdate=\"2016/06/23 19:40:04\" /></span>\\r\\n                        <a href=\"/Schouders-laatste-tijd-geen-pomp-meer-m721468.aspx\" id=\"msgSubjectLink_721468\" title=\"Hallo allemaal, Ik heb de laatste tijd geen pomp of brandend gevoel in me zijkant schouders tijdens de training wat ik eerst heel erg had maar nu niet meer. Schema (alleen zijkant schouders)Front raise&amp;amp;side raise (combinatie van die 2 oefeningen) 5 se..\" class=\"messagelink\">Schouders laatste tijd geen pomp meer.</a>  <a id=\\'msgSubjectImgLink_721468\\'><img src=\\'/app_themes/Progressive/image/blank.gif\\' id=\\'msgSubjectImg_721468\\' /></a>\\r\\n                    </li>\\r\\n                \\r\\n                    \\r\\n                    <li class=\"newActiveList-item\"><span class=\"none\"><img src=\\'/app_themes/Progressive/image/blank.gif\\' id=\\'postMsg_721466\\' class=\\'trackreadtimg\\' data-tracktid=\"721466\" data-trackdate=\"2016/06/22 17:32:57\" /></span>\\r\\n                        <a href=\"/Voorstellen-m721466.aspx\" id=\"msgSubjectLink_721466\" title=\"Hallo allemaal, Ik ben Jesse Meijer ik ben 17 jaar en 2.04 lang en rond de 103 kg op 13% BF. Ik heb mezelf al aangemeld op een ander forum(forum.bodybuilding.nl) Alleen lees ik daar meer dan dat ik daar vragen stel door de stomme reacties die je daar soms..\" class=\"messagelink\">Voorstellen.</a>  <a id=\\'msgSubjectImgLink_721466\\'><img src=\\'/app_themes/Progressive/image/blank.gif\\' id=\\'msgSubjectImg_721466\\' /></a>\\r\\n                    </li>\\r\\n                </ul></div>              \\r\\n        </div>          \\r\\n\\r\\n\\r\\n    \\r\\n\\r\\n        <div class=\"footerRepeaterWrap\" >\\r\\n            <div class=\"simpleContentHeader footerContentHeader\"><a href=\"/FAQ\">All FAQs &nbsp; <i class=\"icon-external-link\"></i></a></div>\\r\\n            \\r\\n                <div class=\"footerContentWrap newActiveContentWrap\">\\r\\n                <ul class=\"newActiveList footerMessageList\">\\r\\n                <li class=\"newActiveList-item messagelink\">\\r\\n                There is no record available at this moment\\r\\n                </li>\\r\\n                </ul></div>              \\r\\n        </div>          \\r\\n\\r\\n\\r\\n</div>\\r\\n</div>\\r\\n\\r\\n    \\r\\n\\r\\n<script type=\"text/javascript\">\\r\\n//<![CDATA[\\r\\nvar $ASPPGCopyrightNoticeDivOQXIJNS = $(\\'#copyrightnotice\\'); var ASPPGCopyrightNoticeStringQFMWGPN = \\'\\xc2\\xa9 2016 APG vNext Commercial Version 5.0\\'; \\r\\n if (navigator.userAgent.indexOf(\\'iPhone\\')!= -1) { }  else if ($ASPPGCopyrightNoticeDivOQXIJNS.is(\\':visible\\') && $ASPPGCopyrightNoticeDivOQXIJNS.text() == ASPPGCopyrightNoticeStringQFMWGPN) {$ASPPGCopyrightNoticeDivOQXIJNS.html(\\'\\xc2\\xa9 2016 <a href=\"http://www.aspplayground.net/\" target=\"_blank\">APG vNext</a> Commercial Version 5.0\\').show().css(\\'zIndex\\',\\'9999\\').css(\\'height\\', \\'20px\\'); }  else { qtip.alert(ASPPGCopyrightNoticeStringQFMWGPN); }; RestoreCatState();setTimeout(function(){setTimeout(function(){prettyPrint();}, 10); }, 10); \\r\\nSys.Application.add_init(function() {\\r\\n    $create(Telerik.Web.UI.RadXmlHttpPanel, {\"_isCallbackPanel\":true,\"_uniqueId\":\"ctl00$ctl00$ContentPlaceHolderMain$ContentPlaceHolder1$ResultXmlPanel\",\"clientStateFieldID\":\"ResultXmlPanel_ClientState\",\"loadingPanelID\":\"\"}, {\"responseEnded\":executeScript,\"responseEnding\":grabContent}, null, $get(\"ResultXmlPanel\"));\\r\\n});\\r\\n//]]>\\r\\n</script>\\r\\n</form>\\r\\n    \\r\\n    \\r\\n</body>\\r\\n</html>\\r\\n'"
      ]
     },
     "execution_count": 3,
     "metadata": {},
     "output_type": "execute_result"
    }
   ],
   "source": [
    "response.content"
   ]
  },
  {
   "cell_type": "markdown",
   "metadata": {},
   "source": [
    "Nogal onoverzichtelijk misschien. Deze html-code is natuurlijk niet bestemd voor mensenogen. Om hier de gewenste data uit te halen, zullen we een idee moeten krijgen van de structuur. Er moet een <em>tag</em> zijn waarbinnen unieke posts zijn ingekapseld. Tags zijn te herkennen aan eenheden binnen twee gehoekte haken ('<' en '>'). De eerste stap is om deze specifieke tag te identificeren. Het kan daarbij helpen om de url in de browser te inspecteren, en vervolgens met CTRL-F in de html-code te zoeken naar een uniek stukje tekst in een post. Bekijk vervolgens welke tags hieromheen staan. Probeer de tags te vinden die niet alleen de tekst omvatten, maar ook informatie als de auteur en datum. \n",
    "\n",
    "Gelukt? Met deze kennis kunnen we beginnen met selecteren van unieke posts uit de html-code. Om te beginnen gaan we het bestand 'soupen':"
   ]
  },
  {
   "cell_type": "code",
   "execution_count": 4,
   "metadata": {
    "collapsed": false
   },
   "outputs": [],
   "source": [
    "soup = BeautifulSoup(response.content,'html.parser')"
   ]
  },
  {
   "cell_type": "markdown",
   "metadata": {},
   "source": [
    "Door de inhoud van het bestand om te vormen tot een BeautifulSoup object, kunnen we gemakkelijk tags selecteren. Met slechts een paar stappen hebben we de gewenste informatie uit het bestand gehaald. Een van de belangrijkste commando's is 'find_all'. Daarmee kan alle inhoud binnen een bepaalde <em>tag</em> binnengehaald worden. De tag kan verder gespecificeerd worden, door haar attributen te specificeren. De tags waarmee posts gekenmerkt worden op deze pagina geven we cadeau: "
   ]
  },
  {
   "cell_type": "code",
   "execution_count": 6,
   "metadata": {
    "collapsed": false
   },
   "outputs": [],
   "source": [
    "messages = soup.find_all('td', { 'class':'msgtable item '})"
   ]
  },
  {
   "cell_type": "markdown",
   "metadata": {},
   "source": [
    "Misschien had je het zelf ook al gezien in de markup: complete posts worden gekarakteriseerd met de tag 'td' en met een attribuut 'class' die steeds de waarde 'msgtable item ' heeft. Attributen en waarden kunnen aan deze zoekopdracht meegegeven worden als key en value van een python dictionary. Logischerwijs kun je tegelijkertijd meerdere restricties specificeren, mocht dit nodig zijn. \n",
    "\n",
    "Als het goed is hebben we nu alle posts apart gezet. Om te testen is het handig om het aantal te tellen:"
   ]
  },
  {
   "cell_type": "code",
   "execution_count": 7,
   "metadata": {
    "collapsed": false
   },
   "outputs": [
    {
     "name": "stdout",
     "output_type": "stream",
     "text": [
      "15\n"
     ]
    }
   ],
   "source": [
    "# print het aantal posts\n",
    "print(len(messages))"
   ]
  },
  {
   "cell_type": "markdown",
   "metadata": {},
   "source": [
    "Verder zijn we benieuwd naar de inhoud van een enkele post. Deze moeten we gaan extraheren. Dit kan gedaan worden door een enkele post te selecteren, en aan te roepen met de extensie '.contents':"
   ]
  },
  {
   "cell_type": "code",
   "execution_count": 8,
   "metadata": {
    "collapsed": false
   },
   "outputs": [
    {
     "data": {
      "text/plain": [
       "['\\n', <div class=\"altItem essential authorcontent\">\n",
       " <div class=\"essentialAuthorLine\">\n",
       " <div class=\"essentialAvatar\" id=\"Avatar719672\">\n",
       " <img class=\"midAvatar\" src=\"/thumb.axd/145_15182/BABDCDEC80564607ACCA9A81E7313B38.jpg\" style=\"\" title=\"Marathonman\"/>\n",
       " </div>\n",
       " <div class=\"left\">\n",
       " <a class=\"left titlehead \" data-isfriend=\"false\" data-isignored=\"false\" data-isownpost=\"false\" data-isrecycled=\"false\" data-login=\"Marathonman\" data-mem=\"15182\" data-messageid=\"719672\" data-showpmlink=\"false\" data-viewerisguest=\"true\" href=\"/Profile/15182/\">Marathonman </a>\n",
       " <div class=\"divider\"></div>\n",
       " <span class=\"left msgLabel tmUserTitle \">Heavy Weight</span>\n",
       " </div>\n",
       " </div>\n",
       " </div>, '\\n', <div class=\"item essential msgcontent\">\n",
       " <span id=\"msgNum1\"></span>\n",
       " <div class=\" lPadding10\">\n",
       " <img class=\"msgIcon\" src=\"/app_themes/Progressive/image/mIcons/m1.gif\"/>\n",
       " <div class=\"msgSubjectLine\">\n",
       " <span class=\"msgInfo\">\n",
       " <span class=\"msgDate \" data-mid=\"719672\" id=\"date719672\">\n",
       " <span class=\"performdateformat\" data-date=\"2013/12/05 01:47:46\" data-format=\"ddd dd-MMM-yy HH:mm\">2013/12/05 01:47:46</span>\n",
       " </span>\n",
       "                     (<a href=\"javascript:void(showMsgNum(719672))\">permalink</a>)\n",
       "                     \n",
       "                 </span>\n",
       " </div>\n",
       " </div>\n",
       " <div class=\"margin10 ratingBox\" id=\"ratingDiv719672\" title=\"0 vote\"><select class=\"ratingSelect starRating\" disabled=\"disabled\" id=\"starRating719672\"><option value=\"\"></option><option value=\"-2\"></option><option value=\"-1\"></option><option value=\"0\"></option><option value=\"1\"></option><option value=\"2\"></option></select><div class=\"divider\"></div><span class=\"ratingResult\" id=\"ratingResult719672\">0</span></div>\n",
       " <div class=\"msg \">\n",
       " <div class=\"msgSection\">\n",
       " <h1>Hematocriet verhogen</h1>\n",
       "                 Misschien iemand een idee of er iets is dat op legale manier je hematocriet merkbaar kan verhogen?<br/>\n",
       " </div>\n",
       " </div>\n",
       " <!-- AddThis Button BEGIN -->\n",
       " <div addthis:title=\"Hematocriet%20verhogen\" addthis:url=\"http://forum.body-fitness.nl/Hematocriet-verhogen-m719672.aspx\" class=\"addthis_toolbox addthis_floating_style addthis_32x32_style\" style=\"top:275px; border:1px solid #DADADA\">\n",
       " <a class=\"addthis_button_facebook\"></a>\n",
       " <a class=\"addthis_button_twitter\"></a>\n",
       " <a class=\"addthis_button_google_plusone_share\"></a>\n",
       " <a class=\"addthis_button_compact\"></a>\n",
       " </div>\n",
       " <div addthis:title=\"Hematocriet%20verhogen\" addthis:url=\"http://forum.body-fitness.nl/Hematocriet-verhogen-m719672.aspx\" class=\"addthis_toolbox addthis_default_style addthis_32x32_style\">\n",
       " <a class=\"addthis_button_facebook\"></a>\n",
       " <a class=\"addthis_button_twitter\"></a>\n",
       " <a class=\"addthis_button_google_plusone_share\"></a>\n",
       " <a class=\"addthis_button_compact\"></a>\n",
       " </div>\n",
       " <script type=\"text/javascript\">\n",
       " var _share_mainOffset_left = $('#main').offset().left;\n",
       " var _offset_limit = 50;\n",
       " if (_share_mainOffset_left > _offset_limit){\n",
       " var $floating = $('.addthis_floating_style');\n",
       " var _share_floatingOffset_left = $floating.offset().left;\n",
       " \n",
       " $floating.css('margin-left', - (_share_floatingOffset_left - _share_mainOffset_left + _offset_limit));\n",
       " $('.addthis_default_style').remove();\n",
       " } else {\n",
       " $('.addthis_floating_style').remove();\n",
       " }\n",
       " </script>\n",
       " <div class=\"msg signature \">\n",
       " </div>\n",
       " <div class=\"msgButtonsPanel \">\n",
       " <a href=\"javascript:void(showMsgNum(719672))\">#1</a>\n",
       " </div>\n",
       " </div>, '\\n', <div class=\"item msgRepliesDiv\">\n",
       " <div class=\"wideDivider\"></div>\n",
       " <h3 class=\"topReplyHeader\">14 Replies\n",
       "         <span class=\"wideOptionSep\"></span>\n",
       " <a data-orisearchid=\"220605\" data-orisearchterm=\"Hematocriet OR verhogen OR Fitness OR Bodybuilding\" href=\"#\" id=\"relatedSearch\">Related Threads</a></h3>\n",
       " <div class=\"relatedTopics\" id=\"relatedTopics\">\n",
       " <ul></ul>\n",
       " </div>\n",
       " </div>, '\\n']"
      ]
     },
     "execution_count": 8,
     "metadata": {},
     "output_type": "execute_result"
    }
   ],
   "source": [
    "# selecteer een enkele post en schrijf toe aan een variabele\n",
    "testmessage = messages[0]\n",
    "# print de inhoud van deze post\n",
    "testmessage.contents"
   ]
  },
  {
   "cell_type": "markdown",
   "metadata": {},
   "source": [
    "Als het goed is zie je een hele serie tags, met ergens in het midden de daadwerkelijke tekst van het bericht. Laten we beginnen om deze tekst te extraheren. Hiervoor kun je de tag selecteren die de tekst direct omringt. De tag zal behoorlijk algemeen zijn, maar met het specificeren van de attribuut kunnen we toch de juiste tag aanwijzen. In plaats van het commando 'find_all' gebruiken we nu 'find_next'. Hiermee kan de eerstvolgende markup die voldoet aan de opgegeven restrictie opgehaald worden:"
   ]
  },
  {
   "cell_type": "code",
   "execution_count": 9,
   "metadata": {
    "collapsed": false
   },
   "outputs": [],
   "source": [
    "# extraheer de tekst van de markup van een enkele post ( posttext = testmessage.find_next(...) )\n",
    "posttext = testmessage.find_next('div', { 'class':'msgSection'})"
   ]
  },
  {
   "cell_type": "markdown",
   "metadata": {},
   "source": [
    "Nu we de tags met de text hebben geselecteerd, kunnen we hier de text uithalen. Hiervoor kan simpelweg de extensie '.text' gebruikt worden:"
   ]
  },
  {
   "cell_type": "code",
   "execution_count": 10,
   "metadata": {
    "collapsed": false
   },
   "outputs": [
    {
     "data": {
      "text/plain": [
       "'\\nHematocriet verhogen\\r\\n                Misschien iemand een idee of er iets is dat op legale manier je hematocriet merkbaar kan verhogen?\\n'"
      ]
     },
     "execution_count": 10,
     "metadata": {},
     "output_type": "execute_result"
    }
   ],
   "source": [
    "posttext.text"
   ]
  },
  {
   "cell_type": "markdown",
   "metadata": {},
   "source": [
    "Deze output is nog niet erg mooi. Laten we eerst de witte ruimte weghalen. Hiervoor gebruiken we de 're' library:"
   ]
  },
  {
   "cell_type": "code",
   "execution_count": 13,
   "metadata": {
    "collapsed": false
   },
   "outputs": [],
   "source": [
    "textparts = re.split(r'\\s{2,}',posttext.text)"
   ]
  },
  {
   "cell_type": "markdown",
   "metadata": {},
   "source": [
    "Om ook de laatste witte ruimte weg te halen kunnen het commando 'strip()' gebruiken. We houden dan een paar paragrafen van het bericht over:"
   ]
  },
  {
   "cell_type": "code",
   "execution_count": 14,
   "metadata": {
    "collapsed": false
   },
   "outputs": [
    {
     "name": "stdout",
     "output_type": "stream",
     "text": [
      "['Hematocriet verhogen', 'Misschien iemand een idee of er iets is dat op legale manier je hematocriet merkbaar kan verhogen?']\n"
     ]
    }
   ],
   "source": [
    "paragraphs = [paragraph.strip() for paragraph in textparts]\n",
    "print(paragraphs)"
   ]
  },
  {
   "cell_type": "markdown",
   "metadata": {},
   "source": [
    "Nu we de tekst hebben, kunnen we de meta-data van het bericht ophalen. Te beginnen met de gebruikersnaam van de auteur. Deze kan op dezelfde manier opgehaald worden als de tekst: zoek naar de gebruikersnaam in de volledige contents van het bericht, en identificeer de tag en een specifieke attribuutwaarde. Haal het vervolgens op met 'find_next'. "
   ]
  },
  {
   "cell_type": "code",
   "execution_count": 28,
   "metadata": {
    "collapsed": false
   },
   "outputs": [
    {
     "name": "stdout",
     "output_type": "stream",
     "text": [
      "Marathonman \n"
     ]
    }
   ],
   "source": [
    "# extraheer de gebruikersnaam en schrijf naar de variabele 'authorname'\n",
    "authorname = testmessage.find_next('a', { 'class':'left titlehead '}).text\n",
    "# print als check de variabele\n",
    "print(authorname)"
   ]
  },
  {
   "cell_type": "markdown",
   "metadata": {},
   "source": [
    "Naast de tekst en auteursnaam bevatten forumposts bijna altijd een datum en index. Beiden worden in dit forum gespecificeerd binnen een tag 'span'. Daarom zullen we nadere kenmerken in de attributen moeten specificeren. Eerst een check welke varianten er zijn in deze post:"
   ]
  },
  {
   "cell_type": "code",
   "execution_count": 18,
   "metadata": {
    "collapsed": false
   },
   "outputs": [
    {
     "name": "stdout",
     "output_type": "stream",
     "text": [
      "Span {'class': ['left', 'msgLabel', 'tmUserTitle', '']}\n",
      "Span {'id': 'msgNum1'}\n",
      "Span {'class': ['msgInfo']}\n",
      "Span {'data-mid': '719672', 'class': ['msgDate', ''], 'id': 'date719672'}\n",
      "Span {'class': ['performdateformat'], 'data-format': 'ddd dd-MMM-yy HH:mm', 'data-date': '2013/12/05 01:47:46'}\n",
      "Span {'class': ['ratingResult'], 'id': 'ratingResult719672'}\n",
      "Span {'class': ['wideOptionSep']}\n"
     ]
    }
   ],
   "source": [
    "spans = testmessage.find_all('span')\n",
    "for span in spans:\n",
    "    print('Span',span.attrs)"
   ]
  },
  {
   "cell_type": "markdown",
   "metadata": {},
   "source": [
    "De index van de post wordt gekenmerkt door een attribuut 'id'. Het probleem is alleen dat er nog een andere tag is met deze attribuut. Omdat de waarde van de index gegeven wordt als waarde van de attribuut, is dit het enige kenmerkende voor de index. Gelukkig wordt iedere index beschreven met 'msgNum'. We kunnen de index dus identificeren via reguliere expressies: "
   ]
  },
  {
   "cell_type": "code",
   "execution_count": 23,
   "metadata": {
    "collapsed": false
   },
   "outputs": [
    {
     "name": "stdout",
     "output_type": "stream",
     "text": [
      "1\n"
     ]
    }
   ],
   "source": [
    "with_id = [span for span in spans if 'id' in span.attrs]\n",
    "for span in with_id:\n",
    "    if re.match(r'^msgNum\\d+',span['id']):\n",
    "        messageindex = int(span['id'][6:])\n",
    "        break\n",
    "print(messageindex)"
   ]
  },
  {
   "cell_type": "code",
   "execution_count": 22,
   "metadata": {
    "collapsed": false
   },
   "outputs": [
    {
     "data": {
      "text/plain": [
       "[[],\n",
       " ['\\n',\n",
       "  <span class=\"performdateformat\" data-date=\"2013/12/05 01:47:46\" data-format=\"ddd dd-MMM-yy HH:mm\">2013/12/05 01:47:46</span>,\n",
       "  '\\n'],\n",
       " ['0']]"
      ]
     },
     "execution_count": 22,
     "metadata": {},
     "output_type": "execute_result"
    }
   ],
   "source": [
    "with_id = [span for span in spans if 'id' in span.attrs]\n",
    "[x.contents for x in with_id]"
   ]
  },
  {
   "cell_type": "markdown",
   "metadata": {
    "collapsed": true
   },
   "source": [
    "Voor het extraheren van de datum kan weer het commando 'find_next' gebruikt worden. Omdat de attribuutwaarde als lijst gegeven is (binnen geblokte haken), zul je deze lijst met inhoud als attribuutwaarde moeten specificeren. Een ander verschil is dat de datum binnen de tag gegeven wordt. We hebben hieronder al de code gegeven om deze informatie op te halen. Alleen de juiste tag moet nog gespecificeerd worden zoals hiervoor:"
   ]
  },
  {
   "cell_type": "code",
   "execution_count": 20,
   "metadata": {
    "collapsed": false
   },
   "outputs": [
    {
     "name": "stdout",
     "output_type": "stream",
     "text": [
      "2013/12/05 01:47:46\n"
     ]
    }
   ],
   "source": [
    "# Selecteer de unieke tag waarin datuminformatie gegeven wordt, en schrijf naar de variabele 'datetag'\n",
    "datetag = testmessage.find_next('span', { 'class':['performdateformat']})\n",
    "# Extraheer de datum en tijd uit deze tag\n",
    "datetime = datetag['data-date']\n",
    "print(datetime)"
   ]
  },
  {
   "cell_type": "markdown",
   "metadata": {},
   "source": [
    "Tot slot kunnen we het id van het bericht extraheren. Deze is gegeven als attribuut van de hoofdtag:"
   ]
  },
  {
   "cell_type": "code",
   "execution_count": 24,
   "metadata": {
    "collapsed": false
   },
   "outputs": [],
   "source": [
    "postid = testmessage['id'][3:]"
   ]
  },
  {
   "cell_type": "markdown",
   "metadata": {},
   "source": [
    "Naast de geëstraheerde informatie, zou een post informatie kunnen bevatten over haar populariteit, en posts waar het een reactie op is. Deze laten we hier buiten beschouwing. Met de huidige informatie kunnen we een 'Post' object aanmaken, waarmee de informatie in overzichtelijk XML gezet kan worden. "
   ]
  },
  {
   "cell_type": "code",
   "execution_count": 29,
   "metadata": {
    "collapsed": false
   },
   "outputs": [
    {
     "data": {
      "text/plain": [
       "'<post id=\"719672\">\\n<author>Marathonman </author>\\n<timestamp>2013/12/05 01:47:46</timestamp>\\n<postindex>1</postindex>\\n<parentid>-</parentid>\\n<body>\\n<paragraph>Hematocriet verhogen</paragraph>\\n<paragraph>Misschien iemand een idee of er iets is dat op legale manier je hematocriet merkbaar kan verhogen?</paragraph>\\n</body>\\n<upvotes>-</upvotes>\\n<downvotes>-</downvotes>\\n</post>\\n'"
      ]
     },
     "execution_count": 29,
     "metadata": {},
     "output_type": "execute_result"
    }
   ],
   "source": [
    "post = Post(postid, authorname, datetime, paragraphs, messageindex, '-', '-', '-')\n",
    "post.returnXML()"
   ]
  },
  {
   "cell_type": "markdown",
   "metadata": {},
   "source": [
    "Nu we uit dit ene bericht de gewenste informatie hebben gehaald, kunnen we proberen alle 15 de berichten te parseren. Hiervoor schrijven we een serie functies waarmee ieder bericht doorlopen is. De eerste geven we cadeau. De rest is een opdracht. Als het werkt heb je voor alle 15 berichten de informatie-eenheden geëxtraheerd."
   ]
  },
  {
   "cell_type": "code",
   "execution_count": 32,
   "metadata": {
    "collapsed": false,
    "scrolled": false
   },
   "outputs": [
    {
     "name": "stdout",
     "output_type": "stream",
     "text": [
      "0 <post id=\"719672\">\n",
      "<author>Marathonman </author>\n",
      "<timestamp>2013/12/05 01:47:46</timestamp>\n",
      "<postindex>1</postindex>\n",
      "<parentid>-</parentid>\n",
      "<body>\n",
      "<paragraph>Hematocriet verhogen</paragraph>\n",
      "<paragraph>Misschien iemand een idee of er iets is dat op legale manier je hematocriet merkbaar kan verhogen?</paragraph>\n",
      "</body>\n",
      "<upvotes>-</upvotes>\n",
      "<downvotes>-</downvotes>\n",
      "</post>\n",
      "\n",
      "1 <post id=\"719679\">\n",
      "<author>teddybeerke </author>\n",
      "<timestamp>2013/12/09 14:05:18</timestamp>\n",
      "<postindex>1</postindex>\n",
      "<parentid>-</parentid>\n",
      "<body>\n",
      "<paragraph></paragraph>\n",
      "<paragraph>Rode bietensap</paragraph>\n",
      "<paragraph></paragraph>\n",
      "</body>\n",
      "<upvotes>-</upvotes>\n",
      "<downvotes>-</downvotes>\n",
      "</post>\n",
      "\n",
      "2 <post id=\"719683\">\n",
      "<author>Marathonman </author>\n",
      "<timestamp>2013/12/09 21:39:38</timestamp>\n",
      "<postindex>1</postindex>\n",
      "<parentid>-</parentid>\n",
      "<body>\n",
      "<paragraph></paragraph>\n",
      "<paragraph>bietjes!</paragraph>\n",
      "<paragraph>o shit.. merkbaar</paragraph>\n",
      "<paragraph></paragraph>\n",
      "</body>\n",
      "<upvotes>-</upvotes>\n",
      "<downvotes>-</downvotes>\n",
      "</post>\n",
      "\n",
      "3 <post id=\"719687\">\n",
      "<author>Marathonman </author>\n",
      "<timestamp>2013/12/10 16:28:11</timestamp>\n",
      "<postindex>1</postindex>\n",
      "<parentid>-</parentid>\n",
      "<body>\n",
      "<paragraph></paragraph>\n",
      "<paragraph>al geprobeerd bloed laten trekken voor een week bietensap en erna, maar gaf niks ( Langer dan 5 dagen achter elkaar een halve liter bietensap/dag drinken zou weinig zin hebben volgens mijn arts</paragraph>\n",
      "</body>\n",
      "<upvotes>-</upvotes>\n",
      "<downvotes>-</downvotes>\n",
      "</post>\n",
      "\n",
      "4 <post id=\"719689\">\n",
      "<author>Marcus </author>\n",
      "<timestamp>2013/12/11 09:05:21</timestamp>\n",
      "<postindex>1</postindex>\n",
      "<parentid>-</parentid>\n",
      "<body>\n",
      "<paragraph></paragraph>\n",
      "<paragraph>ik heb eens een docu gezien van .. hoe heet die wielrenner die Armstrong aan de paal nagelde? Floyd Landis? .. iig.. die had een kamertje gebouwd, meer een koker, waarin hij het zuurstof niveau gecontroleerd lager bracht om zo een hoogtestage te simuleren.</paragraph>\n",
      "</body>\n",
      "<upvotes>-</upvotes>\n",
      "<downvotes>-</downvotes>\n",
      "</post>\n",
      "\n",
      "5 <post id=\"719721\">\n",
      "<author>Marcus </author>\n",
      "<timestamp>2013/12/16 13:31:59</timestamp>\n",
      "<postindex>1</postindex>\n",
      "<parentid>-</parentid>\n",
      "<body>\n",
      "<paragraph></paragraph>\n",
      "<paragraph>Uitdroging? Wielrenner die ik ken zegt baat te hebben bij vitamine B12 injecties. Waarom wil je trouwens hematocriet verhogen? Ik neem aan voor je aerobe conditie?IMO is hematocriet verhogen geen interessant doel op zichzelf.Heb zelf bijvoorbeeld van nature een hoog hematocriet. Meestal rond de 50% en ooit wel eens getest op 51,2%, wil niet zeggen dat ik daardoor een super aerobe conditie had. Het is 1 factor uit de velen die je aerobe conditie bepalen en in mijn ervaring zeker niet de belangrijkste.</paragraph>\n",
      "</body>\n",
      "<upvotes>-</upvotes>\n",
      "<downvotes>-</downvotes>\n",
      "</post>\n",
      "\n",
      "6 <post id=\"719723\">\n",
      "<author>Marathonman </author>\n",
      "<timestamp>2013/12/16 17:04:25</timestamp>\n",
      "<postindex>1</postindex>\n",
      "<parentid>-</parentid>\n",
      "<body>\n",
      "<paragraph></paragraph>\n",
      "<paragraph>Als je een tijd lang veel kms doet zal je hematocriet verlagen.</paragraph>\n",
      "<paragraph>Bijvoorbeeld na 10 weken trainen voor een marathon in een fatsoenlijke tijd zal je hematocriet aanzienlijk dalen en hoe lager je hematocriet onder het normale pijl hoe minder prestatie je nog kan leveren. Vandaar.. Zit nu iets onder 43 en 2 jaar geleden 48.. (of is het 143 en 148?)</paragraph>\n",
      "</body>\n",
      "<upvotes>-</upvotes>\n",
      "<downvotes>-</downvotes>\n",
      "</post>\n",
      "\n",
      "7 <post id=\"719725\">\n",
      "<author>Marathonman </author>\n",
      "<timestamp>2013/12/17 00:01:31</timestamp>\n",
      "<postindex>1</postindex>\n",
      "<parentid>-</parentid>\n",
      "<body>\n",
      "<paragraph>MarcusHeb zelf bijvoorbeeld van nature een hoog hematocriet. Meestal rond de 50% en ooit wel eens getest op 51,2%, wil niet zeggen dat ik daardoor een super aerobe conditie had. Het is 1 factor uit de velen die je aerobe conditie bepalen en in mijn ervaring zeker niet de belangrijkste. Volgens mij wordt de hematocriet(zal het nu ook met % aanduiden) zelfs lager hoe beter je in conditie komt. Door veel aeroob te trainen wordt je aerobe conditie beter, maar je hematocriet zal dalen. Na voor iets zwaar getraind te hebben(neem hier als vb marathon omdat ik daar een beetje van weet) zal je hematocriet ZWAAR gedaald zijn, maar je conditie is op zich goed. Het is dan wel gezond weer te recupereren en je hematocriet te verhogen.. Ik zat dus toen ik alleen maar wat voetbalde en af en toe met gewichtjes aanmodderde op 48% en</paragraph>\n",
      "<paragraph>later na een marathon op 43%. Conditie was echter 10X beter bij die 43%, maar lichaam was bijna uitgeput..Eigenlijk moet je je jaar periodiseren, maar is nu de 1e keer dat ik hiermee te maken krijg.</paragraph>\n",
      "<paragraph>Zou hem dus weer rond 48% willen krijgen om dan terug iets (op mijn niveau) spectaculairs te doen.. Binnenkort nog eens bloed laten prikken, want marathon is ondertussen alweer 2 maanden voorbij en heb niet zoveel meer getraind..Vraag is dus wat je kan doen om die omhoog te krijgen zonder EPO.</paragraph>\n",
      "<paragraph>Hoogtestage zit er ook niet in.</paragraph>\n",
      "<paragraph>Vitamine B-12 injecties kan ik zonder problemen krijgen bij mn sportarts denk ik. Hij heeft een aantal jaar geleden een wielerteam medisch bijgeleid in de tour, dus ik veronderstel dat hij er wel wat vanaf weet, maar ik val hem niet om de haverklap lastig met vragen over mijn toch wel beperkte prestaties.. Vandaar dat ik het hier ook even vroeg..</paragraph>\n",
      "</body>\n",
      "<upvotes>-</upvotes>\n",
      "<downvotes>-</downvotes>\n",
      "</post>\n",
      "\n",
      "8 <post id=\"719728\">\n",
      "<author>Marcus </author>\n",
      "<timestamp>2013/12/17 16:10:21</timestamp>\n",
      "<postindex>1</postindex>\n",
      "<parentid>-</parentid>\n",
      "<body>\n",
      "<paragraph>Zit nu iets onder 43 en 2 jaar geleden 48.. (of is het 143 en 148?) hematocriet is volume fractie rode bloedcellen in bloed, dus elke getal boven de 100 indien aangegeven in percentage zou nergens op slaan.Volgens mij wordt de hematocriet(zal het nu ook met % aanduiden) zelfs lager hoe beter je in conditie komt. Door veel aeroob te trainen wordt je aerobe conditie beter, maar je hematocriet zal dalen. Na voor iets zwaar getraind te hebben(neem hier als vb marathon omdat ik daar een beetje van weet) zal je hematocriet ZWAAR gedaald zijn, maar je conditie is op zich goed. Het is dan wel gezond weer te recupereren en je hematocriet te verhogen..MINDER rode bloedcellen als gevolg van aerobe training is NIET een normale training respons, juist het omgekeerde.Is ook niet logisch omdat je conditie mede bepaald wordt door hoeveel zuurstof je kunt transporteren in je bloed en dat gebeurt met hemoglobine in rode bloedcellen.Als jij een betere conditie kan hebben bij en HT van 43% dan bij een HT van 48% dan zegt dat denk ik dat er op jouw niveau waarschijnlijk andere factoren een grotere impact hebben op je conditie dan HT. edit:5% is trouwens een behoorlijke verlaging van HT (=de helft van het normale bereik van HT in mensen).Misschien een idee om uit te laten sluiten dat het niet het gevolg is van enge onderliggende gezondheidsproblemen.</paragraph>\n",
      "<paragraph>post edited by Marcus - 2013/12/17 16:21:03</paragraph>\n",
      "</body>\n",
      "<upvotes>-</upvotes>\n",
      "<downvotes>-</downvotes>\n",
      "</post>\n",
      "\n",
      "9 <post id=\"719734\">\n",
      "<author>Marathonman </author>\n",
      "<timestamp>2013/12/17 20:03:04</timestamp>\n",
      "<postindex>1</postindex>\n",
      "<parentid>-</parentid>\n",
      "<body>\n",
      "<paragraph>MarcusMINDER rode bloedcellen als gevolg van aerobe training is NIET een normale training respons, juist het omgekeerde. Heb het over in het ROOD gaan met je trainingen en wedstrijden.</paragraph>\n",
      "<paragraph>Dus jij denkt dat wielrenners na het einde van de tour de France hun hematocriet niet gedaalt is?? Waarom spoot iedereen dan EPO in de jaren '90? Dat was niet zomaar om stoer te doen hoor.</paragraph>\n",
      "</body>\n",
      "<upvotes>-</upvotes>\n",
      "<downvotes>-</downvotes>\n",
      "</post>\n",
      "\n",
      "10 <post id=\"719735\">\n",
      "<author>Marcus </author>\n",
      "<timestamp>2013/12/18 00:47:41</timestamp>\n",
      "<postindex>1</postindex>\n",
      "<parentid>-</parentid>\n",
      "<body>\n",
      "<paragraph>Heb het over in het ROOD gaan met je trainingen en wedstrijden.</paragraph>\n",
      "<paragraph>\"in het ROOD gaan\" is meer een emotionele dan een fysiologische classificatie....maar zolang je geen overtraining bedoelt: blijf ik bij wat ik zei. Dus jij denkt dat wielrenners na het einde van de tour de France hun hematocriet niet gedaalt is??</paragraph>\n",
      "<paragraph>Wat ik denk is het volgende:1) Je kunt je afvagen in hoeverre een topsporters in een extreme en langdurige duur wedstrijd relevant zijn voor jouw situatie of representatief om algemene conclusies uit te trekken.2) Rode bloedcellen en HT is niet helemaal hetzelfde zoals ik al probeerde uit te leggen. Dat rode bloedcellen volume omhoog gaat als gevolg van training is een normale trainingsaanpassing. Dat bloedplasma volume omhoog gaat ook. Dus ja...je HT kan licht dalen als gevolg van training als je bloedplasma volume harder stijgt dan je rode bloedcellen vorlume, maar je had het over een ZWARE daling. Dat is geen normale trainingsaanpassing. 3) Je omschrijving \"conditie is op zich goed. Het is dan wel gezond weer te recupereren en je hematocriet te verhogen\" snijdt fysiologisch weinig hout IMO: of je gelooft dat je rode bloedcellen wel zwaar gedaald zijn maar mysterieus genoeg je conditie een stuk beter is geworden of je gelooft dat zowel rode bloedcellen en plasma gestegen zijn in volume en recupereren een kwestie is van...uitdrogen? Want hoe stijgt in dat laatste geval anders je HT zonder dat je conditie achteruitgaat? 4) Tour de France = overtraining dus zou me verbazen als HT niet zou dalen, net zo goed als andere bloedwaardes die horen bij een goede gezondheid. Waarom spoot iedereen dan EPO in de jaren '90? Dat was niet zomaar om stoer te doen hoor. Sjips, \"zomaar om stoer te doen\" was inderdaad mijn eerste antwoord geweest...naja dan maar m'n tweede antwoord: om te winnen?</paragraph>\n",
      "<paragraph>post edited by Marcus - 2013/12/18 01:07:21</paragraph>\n",
      "</body>\n",
      "<upvotes>-</upvotes>\n",
      "<downvotes>-</downvotes>\n",
      "</post>\n",
      "\n",
      "11 <post id=\"719738\">\n",
      "<author>Marathonman </author>\n",
      "<timestamp>2013/12/18 15:20:24</timestamp>\n",
      "<postindex>1</postindex>\n",
      "<parentid>-</parentid>\n",
      "<body>\n",
      "<paragraph>MarcusHeb het over in het ROOD gaan met je trainingen en wedstrijden.</paragraph>\n",
      "<paragraph>\"in het ROOD gaan\" is meer een emotionele dan een fysiologische classificatie....maar zolang je geen overtraining bedoelt: blijf ik bij wat ik zei. Dus jij denkt dat wielrenners na het einde van de tour de France hun hematocriet niet gedaalt is??</paragraph>\n",
      "<paragraph>Wat ik denk is het volgende:1) Je kunt je afvagen in hoeverre een topsporters in een extreme en langdurige duur wedstrijd relevant zijn voor jouw situatie of representatief om algemene conclusies uit te trekken.2) Rode bloedcellen en HT is niet helemaal hetzelfde zoals ik al probeerde uit te leggen. Dat rode bloedcellen volume omhoog gaat als gevolg van training is een normale trainingsaanpassing. Dat bloedplasma volume omhoog gaat ook. Dus ja...je HT kan licht dalen als gevolg van training als je bloedplasma volume harder stijgt dan je rode bloedcellen vorlume, maar je had het over een ZWARE daling. Dat is geen normale trainingsaanpassing. 3) Je omschrijving \"conditie is op zich goed. Het is dan wel gezond weer te recupereren en je hematocriet te verhogen\" snijdt fysiologisch weinig hout IMO: of je gelooft dat je rode bloedcellen wel zwaar gedaald zijn maar mysterieus genoeg je conditie een stuk beter is geworden of je gelooft dat zowel rode bloedcellen en plasma gestegen zijn in volume en recupereren een kwestie is van...uitdrogen? Want hoe stijgt in dat laatste geval anders je HT zonder dat je conditie achteruitgaat? 4) Tour de France = overtraining dus zou me verbazen als HT niet zou dalen, net zo goed als andere bloedwaardes die horen bij een goede gezondheid. Waarom spoot iedereen dan EPO in de jaren '90? Dat was niet zomaar om stoer te doen hoor. Sjips, \"zomaar om stoer te doen\" was inderdaad mijn eerste antwoord geweest...naja dan maar m'n tweede antwoord: om te winnen?</paragraph>\n",
      "<paragraph>In het rood gaan bedoel ik mee: overtraining. Conditie zal inderdaad wel wat zakken als je rust om je HT terug omhoog te laten gaan. Dacht dan dat zaak was evenwicht te vinden wanneer juist het trainen weer op te nemen.</paragraph>\n",
      "<paragraph>Hier slaat dan mijn vraag op, wat kun je legaal supplementeren om HT sneller weer te laten stijgen. De daling was overigens over 2 jaar, daarvoor deed ik niet zoveel aan sport.. Marathon in 3u45 is VOOR IEMAND ALS IK vergelijkbaar met tour de France denk ik wel... Zat aan +80 trainingskilometer per week gedurende meerdere maanden. Ik rook, drink en let niet op mijn voeding, dus dat was wel overtraining voor mij denk ik.. Echter je moet die kilometers in mijn geval doen, want anders zak ik na 30km door mijn knie vrees ik... ) Moet zeggen dat ik er niet echt veel van afweet, wat ik hier schrijf weet ik ook maar uit boeken en sites. Dokter zegt in ieder geval dat bloedwaardes in mijn geval niet abnormaal zijn.</paragraph>\n",
      "<paragraph>PS: heb jij dat forum nog dat ingedeeld was in allerlei sporttakken? Vind het niet direct meer terug..</paragraph>\n",
      "</body>\n",
      "<upvotes>-</upvotes>\n",
      "<downvotes>-</downvotes>\n",
      "</post>\n",
      "\n",
      "12 <post id=\"719739\">\n",
      "<author>Marcus </author>\n",
      "<timestamp>2013/12/18 19:24:18</timestamp>\n",
      "<postindex>1</postindex>\n",
      "<parentid>-</parentid>\n",
      "<body>\n",
      "<paragraph>In het rood gaan bedoel ik mee: overtraining. Dus je hebt het over structureel overtrainen in je training?? Conditie zal inderdaad wel wat zakken als je rust om je HT terug omhoog te laten gaan. Dacht dan dat zaak was evenwicht te vinden wanneer juist het trainen weer op te nemen.</paragraph>\n",
      "<paragraph>Hier slaat dan mijn vraag op, wat kun je legaal supplementeren om HT sneller weer te laten stijgen. Je HT hoort niet of nauwelijks omlaag te gaan om mee te beginnen.Ervan uitgaande dat je HT niet pathologisch laag is, vanwaar die HT obsessie? Je doel is presteren toch?HT verhogen is niet noodzakelijkerwijs de meest effectieve manier om beter te presteren. Als je verder alles geoptimaliseerd hebt (zoals een topsporter) dan blijft er weinig over, maar als je een marathon in krap 4 uur loopt denk ik dat er nog zat te optimaliseren valt met training waar je sneller profijt van gaat hebben dan een hoog HT.Marathon in 3u45 is VOOR IEMAND ALS IK vergelijkbaar met tour de France denk ik wel... Dat denk ik niet. Tour de France zijn mensen die op 90% VO2max gemiddeld zo'n 4 uur per dag rijden 3 weken achter elkaar.Merk op dat ik met opzet %VO2max gebruik omdat dit een relatieve maat is, uiteraard zal VO2max van topatleten hoger liggen dan van jou of mij. dus dat was wel overtraining voor mij denk ik.. Echter je moet die kilometers in mijn geval doen, want anders zak ik na 30km door mijn knie vrees ik... )Heb het idee dat je niet precies begrijpt wat overtraining is. Bij overtraining train je harder dan waar je lichaam zich van kan herstellen, dat betekent dus ook: geen vooruitgang. Dus als je echt structureel overtrainde dan zou je er geen voordeel van hebben ondervonden.</paragraph>\n",
      "<paragraph></paragraph>\n",
      "</body>\n",
      "<upvotes>-</upvotes>\n",
      "<downvotes>-</downvotes>\n",
      "</post>\n",
      "\n",
      "13 <post id=\"719740\">\n",
      "<author>Marathonman </author>\n",
      "<timestamp>2013/12/18 20:08:46</timestamp>\n",
      "<postindex>1</postindex>\n",
      "<parentid>-</parentid>\n",
      "<body>\n",
      "<paragraph></paragraph>\n",
      "<paragraph>Vanwaar die HT obsessie? Die is er niet...Ik stelde gewoon een vraag, daarvoor dient een forum toch?</paragraph>\n",
      "<paragraph></paragraph>\n",
      "</body>\n",
      "<upvotes>-</upvotes>\n",
      "<downvotes>-</downvotes>\n",
      "</post>\n",
      "\n",
      "14 <post id=\"719741\">\n",
      "<author>Marcus </author>\n",
      "<timestamp>2013/12/18 20:24:12</timestamp>\n",
      "<postindex>1</postindex>\n",
      "<parentid>-</parentid>\n",
      "<body>\n",
      "<paragraph></paragraph>\n",
      "<paragraph>OK, fair enough...obsessie is te sterk uitgedrukt Heb trouwens geen probleem met je vraag hoor; wat ik me alleen afvraag is wat je hoopt te bereiken met HT verhogen dat je niet op een andere manier efficiënter zou kunnen bereiken?</paragraph>\n",
      "</body>\n",
      "<upvotes>-</upvotes>\n",
      "<downvotes>-</downvotes>\n",
      "</post>\n",
      "\n",
      "15\n"
     ]
    }
   ],
   "source": [
    "def extract_index(souped_post):\n",
    "    spans = testmessage.find_all('span')\n",
    "    with_id = [span for span in spans if 'id' in span.attrs]\n",
    "    for span in with_id:\n",
    "        if re.match(r'^msgNum\\d+',span['id']):\n",
    "            messageindex = int(span['id'][6:])\n",
    "            break\n",
    "    return messageindex\n",
    "\n",
    "def extract_postid(souped_post):\n",
    "    postid = souped_post['id'][3:]\n",
    "    return postid\n",
    "    \n",
    "def extract_paragraphs(souped_post):\n",
    "    posttext = souped_post.find_next('div', { 'class':'msgSection'})\n",
    "    textparts = re.split(r'\\s{2,}',posttext.text)\n",
    "    paragraphs = [paragraph.strip() for paragraph in textparts]\n",
    "    return paragraphs\n",
    "    \n",
    "def extract_author(souped_post):\n",
    "    authorname = souped_post.find_next('a', { 'class':'left titlehead '}).text\n",
    "    return authorname\n",
    "    \n",
    "def extract_datetime(souped_post):\n",
    "    datetag = souped_post.find_next('span', { 'class':['performdateformat']})\n",
    "    datetime = datetag['data-date']\n",
    "    return datetime\n",
    "    \n",
    "def parse_forumpost(souped_post):\n",
    "    index = extract_index(souped_post)\n",
    "    postid = extract_postid(souped_post)\n",
    "    paragraphs = extract_paragraphs(souped_post)\n",
    "    datetime = extract_datetime(souped_post)\n",
    "    author = extract_author(souped_post)\n",
    "    post = Post(postid,author,datetime,paragraphs,index,'-','-','-')\n",
    "    return post\n",
    "\n",
    "thread = Thread('1', 'Hematocriet verhogen', '-', '-')\n",
    "for i,message in enumerate(messages):\n",
    "    parsed = parse_forumpost(message)\n",
    "    print(i,parsed.returnXML())\n",
    "    thread.addPost(parsed)\n",
    "\n",
    "print(thread.getNrOfPosts())"
   ]
  },
  {
   "cell_type": "markdown",
   "metadata": {},
   "source": [
    "Als het gelukt is kunnen we tot slot het bestand wegschrijven. Uiteindelijk kan dit proces geautomatiseerd worden om een volledig forum te parseren.  "
   ]
  },
  {
   "cell_type": "code",
   "execution_count": null,
   "metadata": {
    "collapsed": false
   },
   "outputs": [],
   "source": [
    "outfile = '/home/vagrant/webdata_collect/data/thread_body-fitness.xml'\n",
    "with open(outfile,'w',encoding = 'iso-8859-1', errors = 'replace') as out:\n",
    "    thread.printXML(out)"
   ]
  },
  {
   "cell_type": "markdown",
   "metadata": {},
   "source": [
    "Helaas gebruikt ieder forum weer andere tags. Dus als we de data uit een nieuw forum willen extraheren zijn we weer terug bij af. De vaardigheid om de belangrijke structuursignalen in een html-bestand te vinden en via BeautifulSoup toe te passen kan dus erg nuttig zijn. "
   ]
  },
  {
   "cell_type": "code",
   "execution_count": null,
   "metadata": {
    "collapsed": true
   },
   "outputs": [],
   "source": [
    "# BONUSOPDRACHT: Probeer dezelfde informatie-eenheden als hiervoor te extraheren uit een pagina in het bodybuilding-forum\n",
    "bodybuildingtestpage = 'http://forum.bodybuilding.nl/topics/vitamines-en-pijn.402738/index.html'\n"
   ]
  }
 ],
 "metadata": {
  "celltoolbar": "Raw Cell Format",
  "kernelspec": {
   "display_name": "Python 3",
   "language": "python",
   "name": "python3"
  },
  "language_info": {
   "codemirror_mode": {
    "name": "ipython",
    "version": 3
   },
   "file_extension": ".py",
   "mimetype": "text/x-python",
   "name": "python",
   "nbconvert_exporter": "python",
   "pygments_lexer": "ipython3",
   "version": "3.5.2"
  }
 },
 "nbformat": 4,
 "nbformat_minor": 2
}
